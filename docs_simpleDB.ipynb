{
 "cells": [
  {
   "cell_type": "code",
   "execution_count": 1,
   "id": "0121d9fd-84e3-4bae-885d-928ae0eb496c",
   "metadata": {},
   "outputs": [],
   "source": [
    "import numpy as np, scipy, pandas as pd\n",
    "from pyDbs.__init__ import *"
   ]
  },
  {
   "cell_type": "markdown",
   "id": "1423728b-8fdc-4556-b5a1-ca70e6c0bee1",
   "metadata": {},
   "source": [
    "# Documentation for classes in `pyDbs.simpleDB`"
   ]
  },
  {
   "cell_type": "code",
   "execution_count": 2,
   "id": "0711239a-1d38-4fd9-b9cb-f40d2fc526da",
   "metadata": {},
   "outputs": [],
   "source": [
    "pd.set_option('display.max_rows', 5)"
   ]
  },
  {
   "cell_type": "markdown",
   "id": "a8d9f37b-2ccc-4aff-b2e6-268d28d080c0",
   "metadata": {},
   "source": [
    "This contains two related classes: The `GpyDict` class and the `SimpleDB` class. They are both simple (keyword, value)-databases organized with keys = string and value = `Gpy` symbols (see `docs_Gpy.ipynb`). We go through each of them here."
   ]
  },
  {
   "cell_type": "markdown",
   "id": "fe897d1d-1793-43b5-b80c-4f0cc7df7cd8",
   "metadata": {},
   "source": [
    "*Define some pandas series and indices that we can add to the databases:*"
   ]
  },
  {
   "cell_type": "code",
   "execution_count": 3,
   "id": "825c930f-4e0c-4793-a674-ea87ec3fa49d",
   "metadata": {},
   "outputs": [],
   "source": [
    "idx1 = pd.Index(range(10), name = 'a')\n",
    "idx2 = pd.Index(range(11,15), name = 'b')\n",
    "mIdx1 = pd.MultiIndex.from_product([idx1,idx2])\n",
    "mIdx2 = pd.MultiIndex.from_arrays([idx1[0:4], idx2[0:4]])\n",
    "s1 = pd.Series(range(len(idx1)), index = idx1, name = 's1')\n",
    "s2 = pd.Series(range(len(idx2[2:])), index = idx2[2:], name = 's2')\n",
    "s3 = pd.Series(range(len(mIdx1[0:20])), index = mIdx1[0:20], name = 's3')\n",
    "s4 = pd.Series(range(len(mIdx2)), index = mIdx2, name = 's4')"
   ]
  },
  {
   "cell_type": "markdown",
   "id": "4aabff70-2813-43f7-93b5-ec417b6f9f20",
   "metadata": {},
   "source": [
    "## 1. ```pyDbs.SimpleDB```"
   ]
  },
  {
   "cell_type": "markdown",
   "id": "93fbe7fb-2b71-4307-a004-1e6142e7b8d0",
   "metadata": {},
   "source": [
    "The `pyDbs.SimpleDB` class organizes `Gpy` symbols in a (keyword, value) database with a number of added methods and properties included."
   ]
  },
  {
   "cell_type": "markdown",
   "id": "2cf763ad-9455-49e8-9dca-f6871982ebcc",
   "metadata": {},
   "source": [
    "#### A. Main attributes"
   ]
  },
  {
   "cell_type": "markdown",
   "id": "b80b4e49-9d55-483a-bd4b-d2ffc8db5079",
   "metadata": {},
   "source": [
    "The database is organized with three attributes - all can be specified at initialization:\n",
    "* `self.name`: Name of database. The idea is to use this for storing/loading specific databases, but it is not used internally in the code for this class.\n",
    "* `self.symbols`: Dictionary with (key,value) pairs.\n",
    "* `self.alias`: pd.MultiIndex with two levels 'from' and 'to'. We elaborate on the use of aliased sets in a separate subsection below."
   ]
  },
  {
   "cell_type": "markdown",
   "id": "9728f5b6-cc00-4781-a4c6-d6f3d102a903",
   "metadata": {},
   "source": [
    "*Initialization:*"
   ]
  },
  {
   "cell_type": "code",
   "execution_count": 4,
   "id": "49ac9a43-3f2d-4efe-8f92-102b92bb7060",
   "metadata": {},
   "outputs": [],
   "source": [
    "db = SimpleDB(name = None, symbols = None, alias = None) # initialize database with default options explicitly written"
   ]
  },
  {
   "cell_type": "markdown",
   "id": "7fc64a3c-489d-4628-8f98-6a7b7b5097cf",
   "metadata": {},
   "source": [
    "#### B. Aliased sets"
   ]
  },
  {
   "cell_type": "markdown",
   "id": "3e300b9c-3e39-42d2-a60d-f3f56de37969",
   "metadata": {},
   "source": [
    "The database class builds in a logic concerning aliased sets; these are sets that we can reference with more than one identifier. As an application, we can think of a geographical index, $g$ that contains a set of countries `{Denmark, Germany, Sweden}`. We can set up a dummy (defined as a multiindex) that identifies neighboring countries: This would be a dummy that links a selection of the geographics areas to itself. We handle this by specifying a second identifier for `g`  - e.g. `gg` (we will revisit the methods for setting/getting symbols to/from the database below):"
   ]
  },
  {
   "cell_type": "code",
   "execution_count": 5,
   "id": "40d3ff5d-16f5-4a10-9a68-ee342f2c06ae",
   "metadata": {},
   "outputs": [],
   "source": [
    "db['g'] = pd.Index(['Denmark', 'Germany', 'Sweden'], name = 'g')"
   ]
  },
  {
   "cell_type": "markdown",
   "id": "38e74cfe-bde6-4764-831a-9db9bbac0d1f",
   "metadata": {},
   "source": [
    "We add an alias with the `self.updateAlias(alias = None)` method by specifying the sets and their alias:"
   ]
  },
  {
   "cell_type": "code",
   "execution_count": 6,
   "id": "cba14b8d-d6dc-4fc2-a299-81bfe23efcd7",
   "metadata": {},
   "outputs": [
    {
     "data": {
      "text/plain": [
       "MultiIndex([('g', 'gg')],\n",
       "           names=['from', 'to'])"
      ]
     },
     "execution_count": 6,
     "metadata": {},
     "output_type": "execute_result"
    }
   ],
   "source": [
    "db.updateAlias(alias = [('g','gg')])\n",
    "db.alias # print alias mapping to see the added alias"
   ]
  },
  {
   "cell_type": "markdown",
   "id": "e653b460-96ce-48bc-ad29-40741a2ef64a",
   "metadata": {},
   "source": [
    "We add the indication of neighboring countries as follows - with names indicating the two names used for the same geographic index:"
   ]
  },
  {
   "cell_type": "code",
   "execution_count": 7,
   "id": "1ce83dea-83f2-4bfd-ba61-69a72c62f922",
   "metadata": {},
   "outputs": [],
   "source": [
    "db['neighbours'] = pd.MultiIndex.from_tuples([('Denmark', 'Germany'),\n",
    "                                              ('Denmark', 'Sweden')], names = ['g','gg'])"
   ]
  },
  {
   "cell_type": "markdown",
   "id": "304635b9-5652-46e4-b580-ab54962f7183",
   "metadata": {},
   "source": [
    "#### C. Buildin methods (setitem, getitem, call, iter, len, delitem, ... )"
   ]
  },
  {
   "cell_type": "markdown",
   "id": "416f934f-21ba-443c-80fb-0c9847dc561c",
   "metadata": {},
   "source": [
    "The database has specified methods for the following:\n",
    "* `self.__iter__`: Iterates over `self.symbols.values()`, i.e. the `Gpy` instances stored in the (key,value) database.\n",
    "* `self.__len__`: Returns length of `self.symbols`, i.e. the number of `Gpy` symbols stored in the (key,value) database.\n",
    "* `self.__delitem__(item)`: Deletes `item` from `self.symbols`.\n",
    "* `self.__getitem__(item)`: Returns `self.symbols[item]`, i.e. the `Gpy` instance from the (key,value) database.\n",
    "* `self.__setitem__(item, value)`: Adds the (item,value) as a key,value pair in the dictionary `self.symbols`.\n",
    "    * If `value` is not a `Gpy` symbol, the `value` is added as `Gpy.c(value, name = item)`, i.e. by initializing a suitable `Gpy` instance and making sure that the name of this symbol is set to `item`. If `value` is a pd.Series or pd.DataFrame --> add as `GpyVariable`, if `value` is a `pd.Index` --> add as `GpySet`, if scalar --> add as `GpyScalar`.\n",
    "* `self.__call__(item, attr = 'v')`: The call method is implemented as a version of `self.__getitem__(item)` that returns a specific attribute of the `Gpy` instance. The default option is the attribute `v`, which returns the (main) pandas object of the `Gpy` symbol `item` (or simply the scalar value if the symbol is a `GpyScalar).\n",
    "* `self.set(item, value, **kwargs)`: This method is added as a version of `self.__setitem__(item,value)` that allows for addititional arguments (`**kwargs`) to be passed to the `Gpy.c(value, name = item, **kwargs)` method when initializing as a `Gpy` instance."
   ]
  },
  {
   "cell_type": "markdown",
   "id": "8663f935-374c-4912-9a64-ee96d5e6522e",
   "metadata": {},
   "source": [
    "**Examples:**"
   ]
  },
  {
   "cell_type": "markdown",
   "id": "33aa29b0-10b2-4bef-a720-49179cf4b488",
   "metadata": {},
   "source": [
    "*Iter:*"
   ]
  },
  {
   "cell_type": "code",
   "execution_count": 14,
   "id": "5c688488-1aa5-413f-b508-c21ffa31bda6",
   "metadata": {},
   "outputs": [
    {
     "data": {
      "text/plain": [
       "['g', 'neighbours']"
      ]
     },
     "execution_count": 14,
     "metadata": {},
     "output_type": "execute_result"
    }
   ],
   "source": [
    "[symbol.name for symbol in db] # test __iter__"
   ]
  },
  {
   "cell_type": "markdown",
   "id": "fabe3629-625a-4cd1-9255-311feebd9626",
   "metadata": {},
   "source": [
    "*len:*"
   ]
  },
  {
   "cell_type": "code",
   "execution_count": 16,
   "id": "6cdf33ca-e8e3-4111-a974-e1464449419e",
   "metadata": {},
   "outputs": [
    {
     "data": {
      "text/plain": [
       "2"
      ]
     },
     "execution_count": 16,
     "metadata": {},
     "output_type": "execute_result"
    }
   ],
   "source": [
    "len(db) # two symbols so far"
   ]
  },
  {
   "cell_type": "markdown",
   "id": "9210d37d-69f5-4ad9-940a-57351be600bf",
   "metadata": {},
   "source": [
    "*delitem*:"
   ]
  },
  {
   "cell_type": "code",
   "execution_count": 20,
   "id": "bab2cb25-aa97-4693-9540-7a1ff3981f14",
   "metadata": {},
   "outputs": [],
   "source": [
    "del db['neighbours'] # remove a symbol"
   ]
  },
  {
   "cell_type": "markdown",
   "id": "9e7162f4-e0a6-48d6-a761-9c049685f98b",
   "metadata": {},
   "source": [
    "*getitem*"
   ]
  },
  {
   "cell_type": "code",
   "execution_count": 23,
   "id": "be1f49ad-bc72-4e0e-b622-3b75269d86e2",
   "metadata": {},
   "outputs": [
    {
     "data": {
      "text/plain": [
       "<pyDbs.gpy.GpySet at 0x186b5329550>"
      ]
     },
     "execution_count": 23,
     "metadata": {},
     "output_type": "execute_result"
    }
   ],
   "source": [
    "db['g'] # __getitem__ returns Gpy instance"
   ]
  },
  {
   "cell_type": "markdown",
   "id": "d1b710ec-f2f3-4fea-a59e-0eacefa46fbf",
   "metadata": {},
   "source": [
    "*setitem*"
   ]
  },
  {
   "cell_type": "code",
   "execution_count": 32,
   "id": "fdca6d53-c2a0-4758-862b-bb3e3836d832",
   "metadata": {},
   "outputs": [],
   "source": [
    "db['xVariable'] = pd.Series(1, index = db('g')) # add using pandas-like object\n",
    "db['yVariable'] = Gpy.c(pd.Series(1, index = db('g')), name = 'yVariable') # add using Gpy instance; equivalent method (but name 'yVariable')"
   ]
  },
  {
   "cell_type": "markdown",
   "id": "8325d07d-54d8-49aa-a2b4-ab58536f6e69",
   "metadata": {},
   "source": [
    "*call:*"
   ]
  },
  {
   "cell_type": "code",
   "execution_count": 35,
   "id": "0c859501-63cc-48cd-bfea-8bb2a0f441ae",
   "metadata": {},
   "outputs": [
    {
     "data": {
      "text/plain": [
       "g\n",
       "Denmark    1\n",
       "Germany    1\n",
       "Sweden     1\n",
       "dtype: int64"
      ]
     },
     "execution_count": 35,
     "metadata": {},
     "output_type": "execute_result"
    }
   ],
   "source": [
    "db('xVariable') # return pandas-like object of the Gpy symbol"
   ]
  },
  {
   "cell_type": "markdown",
   "id": "65f8107a-869d-4158-9dfc-2cabbb7c9deb",
   "metadata": {},
   "source": [
    "#### D. Other methods"
   ]
  },
  {
   "cell_type": "markdown",
   "id": "ea25aa90-f78f-4ff0-893e-7cbb3cf94f4f",
   "metadata": {},
   "source": [
    "The database has a few other methods included:\n",
    "* `self.getTypes(types = None)`: Returns selection of `self.symbols` with `Gpy` instances of the types included in the `types` argument (`scalar`,`set`,`variable` can be added). If `types = None` this defaults to `types = ['variable']`.\n",
    "* `self.getdomains(setName, types = None)`: Returns selection of `self.getTypes(types)` where the index level `setName` is in the domain of the relevant set/variable. If `types = None` this defaults to `types = ['variable']`.\n",
    "* `self.aomGpy(symbol, **kwargs)`: Add or merge (aom) the symbol `symbol` to the database, where the symbol is a `Gpy` instance. This works through the method `mergeGpy` defined for `Gpy` instances (see `docs_Gpy.ipynb`).\n",
    "* `self.aom(symbol, **kwargs)`: Add or merge (aom) the symbol `symbol` to the database, where the symbol and kwargs are first passed through the `Gpy.c(symbol, **kwargs)` method and then added/merged using the `self.aomGpy` method.\n",
    "* `self.mergeDbs(dbOther, **kwargs):` Iterates through `self.aomGpy` for all symbols in `dbOther`.\n",
    "* `self.readSets(types = None)`: Iterates over all symbols of specified types and runs the ```self.aom``` method on every index level in the symbols. This can be useful if we e.g. supply a database with all relevant variables used in a model; we can then infer the relevant sets used in the model from this statement."
   ]
  },
  {
   "cell_type": "markdown",
   "id": "ed42421e-0979-4fd6-bc41-9602d4599ecf",
   "metadata": {},
   "source": [
    "## 2. ```pyDbs.GpyDict```"
   ]
  },
  {
   "cell_type": "markdown",
   "id": "d9b65e82-ee14-4ab4-8d4a-b712d0bed8ff",
   "metadata": {},
   "source": [
    "The `pyDbs.GpyDict` class is very similar to `pyDbs.SimpleDB`, but differs in a couple of important ways: First, it does not have all the same methods as implemented in ```SimpleDB```. It only has 7 methods (we'll go through them below). Second, it the key,value pairs in the database, it does not assume that the key matches the name of the value."
   ]
  },
  {
   "cell_type": "markdown",
   "id": "4f5e771c-66c4-420a-8b0f-ff50372f2a3d",
   "metadata": {},
   "source": [
    "**Methods:**\n",
    "* Methods that are identical to `SimpleDB`: `self.__len__`, `self.__iter__`, `self.__delitem__`, `self.__call__`, `self.__getitem__`.\n",
    "\n",
    "    This leaves two methods work differently here; this pertains to the way symbols are added:\n",
    "\n",
    "* `self.__setitem__(item, value)`: This allows for a couple of different ways of adding symbols to `self.symbols`\n",
    "    * If `value` is a `Gpy` symbol: Straightforward add with `item` as the identifier (key) in `self.symbols` and `value` as the value.\n",
    "    * Elif `item` is a string: In this case, we add the symbol as in `SimpleDB` by passing `value` through the `Gpy.c(value, name = item)` method.\n",
    "    * Elif `item` is a tuple: The first element in the tuple is the identifier used as key in `self.symbols`, the second element is used as `name` when adding the `value` using `Gpy.c(value, name = item[1]`). \n",
    "* `self.set(item ,value, **kwargs)`: Akin to `self.__setitem__`, except it allows us to pass `**kwargs` to the `Gpy.c(value, name = item[1], **kwargs)` call."
   ]
  },
  {
   "cell_type": "markdown",
   "id": "698f5b1d-fa8a-4c82-8698-cba4f8df7244",
   "metadata": {},
   "source": [
    "*Initialization:*"
   ]
  },
  {
   "cell_type": "code",
   "execution_count": 38,
   "id": "f297c1bc-ac2e-4720-9467-5d0b2f1309f4",
   "metadata": {},
   "outputs": [],
   "source": [
    "dbDict = GpyDict(symbols = None) # initialize database with default options explicitly written"
   ]
  },
  {
   "cell_type": "markdown",
   "id": "03399250-b9b9-4d65-b440-32fe8d5e2f3d",
   "metadata": {},
   "source": [
    "*Add a symbol with a different identifier than the name*"
   ]
  },
  {
   "cell_type": "code",
   "execution_count": 48,
   "id": "ba005ff5-9b60-4327-85ef-7c705f33cd15",
   "metadata": {},
   "outputs": [
    {
     "name": "stdout",
     "output_type": "stream",
     "text": [
      "{'keyId': <pyDbs.gpy.GpyVariable object at 0x00000186B73F3A70>}\n"
     ]
    }
   ],
   "source": [
    "dbDict[('keyId', 'nameOfSymbol')] = pd.Series(0, index = db('g'))\n",
    "print(dbDict.symbols) # stored as 'keyId'"
   ]
  },
  {
   "cell_type": "code",
   "execution_count": 49,
   "id": "43385f71-60a9-4a1e-9e8d-2d539720e3cd",
   "metadata": {},
   "outputs": [
    {
     "name": "stdout",
     "output_type": "stream",
     "text": [
      "nameOfSymbol\n"
     ]
    }
   ],
   "source": [
    "print(dbDict['keyId'].name) # name of the Gpy symbol"
   ]
  }
 ],
 "metadata": {
  "kernelspec": {
   "display_name": "Python 3 (ipykernel)",
   "language": "python",
   "name": "python3"
  },
  "language_info": {
   "codemirror_mode": {
    "name": "ipython",
    "version": 3
   },
   "file_extension": ".py",
   "mimetype": "text/x-python",
   "name": "python",
   "nbconvert_exporter": "python",
   "pygments_lexer": "ipython3",
   "version": "3.13.5"
  }
 },
 "nbformat": 4,
 "nbformat_minor": 5
}
