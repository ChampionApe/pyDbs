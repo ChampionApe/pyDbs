{
 "cells": [
  {
   "cell_type": "code",
   "execution_count": 1,
   "id": "6343fc70-8450-4503-99f1-d181f52aa2c4",
   "metadata": {},
   "outputs": [],
   "source": [
    "import pandas as pd, numpy as np, pyDbs\n",
    "from pyDbs import SymMaps as SM\n",
    "from pyDbs import adj\n",
    "from scipy import stats\n",
    "rng = np.random.default_rng(seed = 105)\n",
    "stats.truncnorm.random_state = rng"
   ]
  },
  {
   "cell_type": "markdown",
   "id": "9bb0ea05-4beb-4701-8b14-15000c42d141",
   "metadata": {},
   "source": [
    "# SymMaps"
   ]
  },
  {
   "cell_type": "markdown",
   "id": "202427da-7446-43cf-b4df-63749c526e97",
   "metadata": {},
   "source": [
    "The class is used to navigate problems that take a vector of inputs $x$ and the math behind it that deals with many different variables potentially defined over different indices. "
   ]
  },
  {
   "cell_type": "markdown",
   "id": "7c3a08c0-8f64-4c41-96d0-c2b44a925a1b",
   "metadata": {},
   "source": [
    "## Example"
   ]
  },
  {
   "cell_type": "markdown",
   "id": "77b0a1eb-d3dc-40c6-a2da-372f48973cc5",
   "metadata": {},
   "source": [
    "As an example, we'll use the optimization problem defined by:\n",
    "$$\\begin{align}\n",
    "    \\max &\\sum_{i, t_0\\leq t\\leq T} \\beta_i^{t-t_0} \\omega_i \\ln\\left(c_{i,t}\\right) \\tag{1} \\\\\n",
    "    m_{i,t} &= R_t m_{i,t-1}-c_{i,t} + y_{i,t}, && \\forall  i, t_0< t\\leq T \\tag{2}\\\\\n",
    "    m_{i,T} &= m_{i,T-1}, && \\forall i, \\tag{3} \\\\ \n",
    "\\end{align}$$\n",
    "given $m_{i,0}, y_{i,t}, R_t, \\beta_i, \\omega_i$.\n",
    "\n",
    "As an example, let us consider the simple case with three types of agents $i \\in \\lbrace L, M, H\\rbrace $ and 5 time periods $t = 2010, 2011, 2012,..., 2014$, and let us collect all relevant objects in a database:"
   ]
  },
  {
   "cell_type": "code",
   "execution_count": 2,
   "id": "6479b03b-191a-4eab-acf1-1a8baf03a9f8",
   "metadata": {},
   "outputs": [],
   "source": [
    "db = pyDbs.SimpleDB() # datatbase\n",
    "# Sets:\n",
    "db['i'] = pd.Index(['L','M','H'], name  = 'i')\n",
    "t0, T = 2010, 2014\n",
    "db['t'] = pd.Index(range(t0, T+1), name = 't')\n",
    "# Parameters:\n",
    "db['β'] = pd.Series(sorted(stats.truncnorm.rvs(0, 1, size = len(db['i']))), index = db['i'])\n",
    "db['ω'] = pd.Series(1/len(db['i']), index = db['i'])\n",
    "db['y'] = pd.Series(1, index = pd.MultiIndex.from_product([db['i'], db['t']]))\n",
    "db['R'] = pd.Series(1/db['β'].mean()-0.5+stats.truncnorm.rvs(0,1, size = len(db['t'])), index = db['t'])\n",
    "db['m0']= pd.Series(10*db['β']**2, index = db['i'])"
   ]
  },
  {
   "cell_type": "markdown",
   "id": "4f1f8809-dcad-4a44-b77f-b951972358d1",
   "metadata": {},
   "source": [
    "### Define core symbols"
   ]
  },
  {
   "cell_type": "markdown",
   "id": "9d0e30f8-3204-48a8-90ab-978dfc96de61",
   "metadata": {},
   "source": [
    "The model is solved by setting up a single vector $x$ that is the stacked representation of vectors **$c, m$** that are defined for all $t,i$. We initialize the stackedPandas object with these two symbols (either as ```pd.Series``` or ```pd.Index```). The ```self.compile``` method defines an index used to navigate the full vector $x$ with a global linear index:"
   ]
  },
  {
   "cell_type": "code",
   "execution_count": 3,
   "id": "7c1d66e1-4fc8-4d9c-a6c7-341482db2c36",
   "metadata": {},
   "outputs": [],
   "source": [
    "s = SM(symbols = {'c': pd.MultiIndex.from_product([db['i'], db['t']]), \n",
    "                   'm': pd.MultiIndex.from_product([db['i'], db['t']])}\n",
    "       )\n",
    "s.compile()"
   ]
  },
  {
   "cell_type": "markdown",
   "id": "4fca6bc9-63ed-4c56-8687-9fd235e02de2",
   "metadata": {},
   "source": [
    "As a reference, let us define a stacked vector $x$ as a numpy array that we can slice from to test various method:"
   ]
  },
  {
   "cell_type": "code",
   "execution_count": 4,
   "id": "415fb907-5613-45b9-864e-cc1372334591",
   "metadata": {},
   "outputs": [],
   "source": [
    "x = rng.random(size = 2*len(db['i'])*len(db['t']))"
   ]
  },
  {
   "cell_type": "markdown",
   "id": "b3b6aac8-cb43-43c4-b39c-ef2bdb67255d",
   "metadata": {},
   "source": [
    "The ```self.compile``` establishes a dictionary of mappings (stored at ```self.maps```) that, for each symbol ($c,m$ in our instance) contains a mapping from the relevant ```pd.Index``` to the numerical indices in the stacked $x$. For the $m$ variable, for instance, this mapping looks as follows:"
   ]
  },
  {
   "cell_type": "code",
   "execution_count": 5,
   "id": "6294d2fe-ca0f-4b0c-8f81-2dc57d55bdf9",
   "metadata": {},
   "outputs": [
    {
     "data": {
      "text/plain": [
       "i  t   \n",
       "L  2010    15\n",
       "   2011    16\n",
       "   2012    17\n",
       "   2013    18\n",
       "   2014    19\n",
       "M  2010    20\n",
       "   2011    21\n",
       "   2012    22\n",
       "   2013    23\n",
       "   2014    24\n",
       "H  2010    25\n",
       "   2011    26\n",
       "   2012    27\n",
       "   2013    28\n",
       "   2014    29\n",
       "dtype: int64"
      ]
     },
     "execution_count": 5,
     "metadata": {},
     "output_type": "execute_result"
    }
   ],
   "source": [
    "s['m']"
   ]
  },
  {
   "cell_type": "markdown",
   "id": "e17ee37f-3d9c-4492-85cb-2197946d290b",
   "metadata": {},
   "source": [
    "Now, we can use the custom ```__call__``` method (with syntax ```self(k)```) to get the relevant part of the vector $x$:"
   ]
  },
  {
   "cell_type": "code",
   "execution_count": 6,
   "id": "1fc0c78f-dd25-44a2-9fb9-bb7ba3b90c89",
   "metadata": {},
   "outputs": [
    {
     "data": {
      "text/plain": [
       "array([0.380102  , 0.35163855, 0.21946259, 0.72390011, 0.37699435,\n",
       "       0.37691073, 0.63893963, 0.34841258, 0.67772011, 0.61233288,\n",
       "       0.50691337, 0.64130159, 0.63316618, 0.33799887, 0.65869185])"
      ]
     },
     "execution_count": 6,
     "metadata": {},
     "output_type": "execute_result"
    }
   ],
   "source": [
    "s(x, 'm') # get the values in vector x that we refer to as the symbol 'm'"
   ]
  },
  {
   "cell_type": "markdown",
   "id": "6546461c-5b9f-4629-ae81-97454fe901a1",
   "metadata": {},
   "source": [
    "If we prefer to return the object as a ```pd.Series```, we can instead use the ```get``` method:"
   ]
  },
  {
   "cell_type": "code",
   "execution_count": 7,
   "id": "75fb2dfa-c2c4-4c14-be38-90dbd4723247",
   "metadata": {},
   "outputs": [
    {
     "data": {
      "text/plain": [
       "i  t   \n",
       "L  2010    0.380102\n",
       "   2011    0.351639\n",
       "   2012    0.219463\n",
       "   2013    0.723900\n",
       "   2014    0.376994\n",
       "M  2010    0.376911\n",
       "   2011    0.638940\n",
       "   2012    0.348413\n",
       "   2013    0.677720\n",
       "   2014    0.612333\n",
       "H  2010    0.506913\n",
       "   2011    0.641302\n",
       "   2012    0.633166\n",
       "   2013    0.337999\n",
       "   2014    0.658692\n",
       "dtype: float64"
      ]
     },
     "execution_count": 7,
     "metadata": {},
     "output_type": "execute_result"
    }
   ],
   "source": [
    "s.get(x, 'm')"
   ]
  },
  {
   "cell_type": "markdown",
   "id": "a0cb78ff-d5e2-4b31-99f1-275c0ee7e94e",
   "metadata": {},
   "source": [
    "Finally, the ```getr``` method performs the \"getting\" more robustly; we can for instance pass kwargs used to subset the symbol relying on the ```adj.rc_pd``` method. This gets the $m$ vector, but only keeps the \"L\" and \"M\" types:"
   ]
  },
  {
   "cell_type": "code",
   "execution_count": 8,
   "id": "9b4333e1-1c6b-470f-9c62-528687b5ac0d",
   "metadata": {
    "tags": []
   },
   "outputs": [
    {
     "data": {
      "text/plain": [
       "i  t   \n",
       "L  2010    0.380102\n",
       "   2011    0.351639\n",
       "   2012    0.219463\n",
       "   2013    0.723900\n",
       "   2014    0.376994\n",
       "M  2010    0.376911\n",
       "   2011    0.638940\n",
       "   2012    0.348413\n",
       "   2013    0.677720\n",
       "   2014    0.612333\n",
       "dtype: float64"
      ]
     },
     "execution_count": 8,
     "metadata": {},
     "output_type": "execute_result"
    }
   ],
   "source": [
    "s.getr(x, 'm', c = pd.Index(['L','M'], name = 'i')) # the 'c' keyword will be parsed to the method adj.rc_pd"
   ]
  },
  {
   "cell_type": "markdown",
   "id": "515223c0-e1a7-401e-9422-1034fb090407",
   "metadata": {},
   "source": [
    "### Adjusted symbols"
   ]
  },
  {
   "cell_type": "markdown",
   "id": "f2c4e459-c0be-40e9-9967-343c6285121c",
   "metadata": {},
   "source": [
    "In some instances, we need some adjusted version of the symbols $m,c$ that $x$ consists of. For instance, in the example in equations (1)-(3), we need to get the lagged version $m_{i,t-1}$."
   ]
  },
  {
   "cell_type": "markdown",
   "id": "6dddc349-cd07-4f4c-88db-11a439195fbc",
   "metadata": {},
   "source": [
    "* Adjusted symbols are defined using mappings from the original main index to a new adjusted one. The ```pd.Index``` to ```pd.Index``` mapping is stored at ```self.auxMapsIdx```.\n",
    "* We include default methods for creating lagged, rolled, or shifted indices, and to fill in assumptions of missing values, steady state and similar.\n",
    "* The compilation stage creates fixed maps to the global linear index and commits this to the ```self.auxMaps``` attribute.\n",
    "* For dynamically compiled objects, we can always use the ```getr``` method directly with relevant mappings or lags/rolls/shifts in the indices."
   ]
  },
  {
   "cell_type": "markdown",
   "id": "ba7d5b04-0a80-4cb5-af1a-510aa4547c62",
   "metadata": {},
   "source": [
    "#### Roll/shift/lag index"
   ]
  },
  {
   "cell_type": "markdown",
   "id": "d8acb519-d616-4e19-a202-c35a640a5fc4",
   "metadata": {},
   "source": [
    "The three methods roll/shift/lag has slighly different uses:\n",
    "1. Lag: Numerical index levels can be lagged, i.e. the operation is transformed directly on the elements; this can result in new index elements. \n",
    "2. Roll: As the name suggests, this uses already defined index levels and rolls them. That is, this relies on the ordering of the main symbol. \n",
    "3. Shift: Functions as the Roll, but keeps a break between the first and last element in an index. For example, rolling the index $\\lbrace 1,2,3\\rbrace$ one element yields $\\lbrace 3,1,2 \\rbrace$, whereas shifting it leaves $\\lbrace NaN, 1,2 \\rbrace$ or some other value that we use to fill in for ```NaN```."
   ]
  },
  {
   "cell_type": "markdown",
   "id": "5ba128e7-8fef-4db4-916d-37ff9c9a5cdd",
   "metadata": {},
   "source": [
    "##### 1. Lag index:"
   ]
  },
  {
   "cell_type": "markdown",
   "id": "d6546a16-a1b7-452b-99be-7f21e9533816",
   "metadata": {},
   "source": [
    "```pd.MultiIndex```"
   ]
  },
  {
   "cell_type": "code",
   "execution_count": 9,
   "id": "a02c0f74-1316-45d9-b6a4-a46b9dfd5f2d",
   "metadata": {},
   "outputs": [],
   "source": [
    "lags = {'t': 1} # lag 't' index with 1 \n",
    "symbol = 'm'\n",
    "name = 'm[t-1]'\n",
    "kwargs = {'c': ('not', pd.Index([t0], name = 't'))} # 'c' is a condition on the index. Here, don't use initial year t0"
   ]
  },
  {
   "cell_type": "markdown",
   "id": "af2c6163-4add-494a-9200-9fbc6900d242",
   "metadata": {},
   "source": [
    "Add this as an adjusted symbol that we can access with syntax ```'m[t-1]'```. Note that lagging the index, we end up with values of $t$ that is not defined (in our case $t=2009$) - hence the condition not to include $t_0$:"
   ]
  },
  {
   "cell_type": "code",
   "execution_count": 10,
   "id": "66b8012e-c040-4323-9cac-d342f36e6f51",
   "metadata": {},
   "outputs": [],
   "source": [
    "s.addLaggedSym(name, symbol, lags, **kwargs)"
   ]
  },
  {
   "cell_type": "markdown",
   "id": "c53fd177-26b3-4cd7-843f-c7f7c8b72bb8",
   "metadata": {},
   "source": [
    "We add this symbol by (1) adding a mapping to ```self.auxMapsIdx``` from original to new index, (2) using this mapping on the \"full\" symbol already stored in ```self.maps```: "
   ]
  },
  {
   "cell_type": "code",
   "execution_count": 14,
   "id": "bfc5e81e-6711-4509-8535-d008e943aede",
   "metadata": {},
   "outputs": [],
   "source": [
    "m = s.lagMaps(adj.rc_pd(s[symbol],**kwargs), lags) # step 1: obtain new mapping - this is added to self.auxMapsIdx\n",
    "newMap = s.applyMapGlobalIdx(s[symbol], m) # step 2: use mapping to map to global linear index - this is added to self.auxMaps"
   ]
  },
  {
   "cell_type": "markdown",
   "id": "29dee62b-0e33-4939-99f5-73a5b3669604",
   "metadata": {},
   "source": [
    "Compare our new lagged symbol to the original one:"
   ]
  },
  {
   "cell_type": "markdown",
   "id": "53d0c3ac-b417-41af-8b82-76903fbad493",
   "metadata": {},
   "source": [
    "We then apply this"
   ]
  },
  {
   "cell_type": "code",
   "execution_count": null,
   "id": "b03e1e2f-9acc-46c9-80d3-445f59a0333f",
   "metadata": {},
   "outputs": [
    {
     "ename": "KeyError",
     "evalue": "\"[('L', 2009), ('M', 2009), ('H', 2009)] not in index\"",
     "output_type": "error",
     "traceback": [
      "\u001b[1;31m---------------------------------------------------------------------------\u001b[0m",
      "\u001b[1;31mKeyError\u001b[0m                                  Traceback (most recent call last)",
      "Cell \u001b[1;32mIn[13], line 1\u001b[0m\n\u001b[1;32m----> 1\u001b[0m symbol[m\u001b[38;5;241m.\u001b[39mvalues] \u001b[38;5;66;03m# this returns the symbol with index = [i, t+1]\u001b[39;00m\n\u001b[0;32m      2\u001b[0m s\u001b[38;5;241m.\u001b[39mapplyMapGlobalIdx(symbol, m)\n",
      "File \u001b[1;32m~\\Anaconda3\\envs\\SSD\\Lib\\site-packages\\pandas\\core\\series.py:1007\u001b[0m, in \u001b[0;36mSeries.__getitem__\u001b[1;34m(self, key)\u001b[0m\n\u001b[0;32m   1004\u001b[0m     key \u001b[38;5;241m=\u001b[39m np\u001b[38;5;241m.\u001b[39masarray(key, dtype\u001b[38;5;241m=\u001b[39m\u001b[38;5;28mbool\u001b[39m)\n\u001b[0;32m   1005\u001b[0m     \u001b[38;5;28;01mreturn\u001b[39;00m \u001b[38;5;28mself\u001b[39m\u001b[38;5;241m.\u001b[39m_get_values(key)\n\u001b[1;32m-> 1007\u001b[0m \u001b[38;5;28;01mreturn\u001b[39;00m \u001b[38;5;28mself\u001b[39m\u001b[38;5;241m.\u001b[39m_get_with(key)\n",
      "File \u001b[1;32m~\\Anaconda3\\envs\\SSD\\Lib\\site-packages\\pandas\\core\\series.py:1047\u001b[0m, in \u001b[0;36mSeries._get_with\u001b[1;34m(self, key)\u001b[0m\n\u001b[0;32m   1044\u001b[0m         \u001b[38;5;28;01mreturn\u001b[39;00m \u001b[38;5;28mself\u001b[39m\u001b[38;5;241m.\u001b[39miloc[key]\n\u001b[0;32m   1046\u001b[0m \u001b[38;5;66;03m# handle the dup indexing case GH#4246\u001b[39;00m\n\u001b[1;32m-> 1047\u001b[0m \u001b[38;5;28;01mreturn\u001b[39;00m \u001b[38;5;28mself\u001b[39m\u001b[38;5;241m.\u001b[39mloc[key]\n",
      "File \u001b[1;32m~\\Anaconda3\\envs\\SSD\\Lib\\site-packages\\pandas\\core\\indexing.py:1073\u001b[0m, in \u001b[0;36m_LocationIndexer.__getitem__\u001b[1;34m(self, key)\u001b[0m\n\u001b[0;32m   1070\u001b[0m axis \u001b[38;5;241m=\u001b[39m \u001b[38;5;28mself\u001b[39m\u001b[38;5;241m.\u001b[39maxis \u001b[38;5;129;01mor\u001b[39;00m \u001b[38;5;241m0\u001b[39m\n\u001b[0;32m   1072\u001b[0m maybe_callable \u001b[38;5;241m=\u001b[39m com\u001b[38;5;241m.\u001b[39mapply_if_callable(key, \u001b[38;5;28mself\u001b[39m\u001b[38;5;241m.\u001b[39mobj)\n\u001b[1;32m-> 1073\u001b[0m \u001b[38;5;28;01mreturn\u001b[39;00m \u001b[38;5;28mself\u001b[39m\u001b[38;5;241m.\u001b[39m_getitem_axis(maybe_callable, axis\u001b[38;5;241m=\u001b[39maxis)\n",
      "File \u001b[1;32m~\\Anaconda3\\envs\\SSD\\Lib\\site-packages\\pandas\\core\\indexing.py:1301\u001b[0m, in \u001b[0;36m_LocIndexer._getitem_axis\u001b[1;34m(self, key, axis)\u001b[0m\n\u001b[0;32m   1298\u001b[0m     \u001b[38;5;28;01mif\u001b[39;00m \u001b[38;5;28mhasattr\u001b[39m(key, \u001b[38;5;124m\"\u001b[39m\u001b[38;5;124mndim\u001b[39m\u001b[38;5;124m\"\u001b[39m) \u001b[38;5;129;01mand\u001b[39;00m key\u001b[38;5;241m.\u001b[39mndim \u001b[38;5;241m>\u001b[39m \u001b[38;5;241m1\u001b[39m:\n\u001b[0;32m   1299\u001b[0m         \u001b[38;5;28;01mraise\u001b[39;00m \u001b[38;5;167;01mValueError\u001b[39;00m(\u001b[38;5;124m\"\u001b[39m\u001b[38;5;124mCannot index with multidimensional key\u001b[39m\u001b[38;5;124m\"\u001b[39m)\n\u001b[1;32m-> 1301\u001b[0m     \u001b[38;5;28;01mreturn\u001b[39;00m \u001b[38;5;28mself\u001b[39m\u001b[38;5;241m.\u001b[39m_getitem_iterable(key, axis\u001b[38;5;241m=\u001b[39maxis)\n\u001b[0;32m   1303\u001b[0m \u001b[38;5;66;03m# nested tuple slicing\u001b[39;00m\n\u001b[0;32m   1304\u001b[0m \u001b[38;5;28;01mif\u001b[39;00m is_nested_tuple(key, labels):\n",
      "File \u001b[1;32m~\\Anaconda3\\envs\\SSD\\Lib\\site-packages\\pandas\\core\\indexing.py:1239\u001b[0m, in \u001b[0;36m_LocIndexer._getitem_iterable\u001b[1;34m(self, key, axis)\u001b[0m\n\u001b[0;32m   1236\u001b[0m \u001b[38;5;28mself\u001b[39m\u001b[38;5;241m.\u001b[39m_validate_key(key, axis)\n\u001b[0;32m   1238\u001b[0m \u001b[38;5;66;03m# A collection of keys\u001b[39;00m\n\u001b[1;32m-> 1239\u001b[0m keyarr, indexer \u001b[38;5;241m=\u001b[39m \u001b[38;5;28mself\u001b[39m\u001b[38;5;241m.\u001b[39m_get_listlike_indexer(key, axis)\n\u001b[0;32m   1240\u001b[0m \u001b[38;5;28;01mreturn\u001b[39;00m \u001b[38;5;28mself\u001b[39m\u001b[38;5;241m.\u001b[39mobj\u001b[38;5;241m.\u001b[39m_reindex_with_indexers(\n\u001b[0;32m   1241\u001b[0m     {axis: [keyarr, indexer]}, copy\u001b[38;5;241m=\u001b[39m\u001b[38;5;28;01mTrue\u001b[39;00m, allow_dups\u001b[38;5;241m=\u001b[39m\u001b[38;5;28;01mTrue\u001b[39;00m\n\u001b[0;32m   1242\u001b[0m )\n",
      "File \u001b[1;32m~\\Anaconda3\\envs\\SSD\\Lib\\site-packages\\pandas\\core\\indexing.py:1432\u001b[0m, in \u001b[0;36m_LocIndexer._get_listlike_indexer\u001b[1;34m(self, key, axis)\u001b[0m\n\u001b[0;32m   1429\u001b[0m ax \u001b[38;5;241m=\u001b[39m \u001b[38;5;28mself\u001b[39m\u001b[38;5;241m.\u001b[39mobj\u001b[38;5;241m.\u001b[39m_get_axis(axis)\n\u001b[0;32m   1430\u001b[0m axis_name \u001b[38;5;241m=\u001b[39m \u001b[38;5;28mself\u001b[39m\u001b[38;5;241m.\u001b[39mobj\u001b[38;5;241m.\u001b[39m_get_axis_name(axis)\n\u001b[1;32m-> 1432\u001b[0m keyarr, indexer \u001b[38;5;241m=\u001b[39m ax\u001b[38;5;241m.\u001b[39m_get_indexer_strict(key, axis_name)\n\u001b[0;32m   1434\u001b[0m \u001b[38;5;28;01mreturn\u001b[39;00m keyarr, indexer\n",
      "File \u001b[1;32m~\\Anaconda3\\envs\\SSD\\Lib\\site-packages\\pandas\\core\\indexes\\multi.py:2626\u001b[0m, in \u001b[0;36mMultiIndex._get_indexer_strict\u001b[1;34m(self, key, axis_name)\u001b[0m\n\u001b[0;32m   2623\u001b[0m     \u001b[38;5;28mself\u001b[39m\u001b[38;5;241m.\u001b[39m_raise_if_missing(key, indexer, axis_name)\n\u001b[0;32m   2624\u001b[0m     \u001b[38;5;28;01mreturn\u001b[39;00m \u001b[38;5;28mself\u001b[39m[indexer], indexer\n\u001b[1;32m-> 2626\u001b[0m \u001b[38;5;28;01mreturn\u001b[39;00m \u001b[38;5;28msuper\u001b[39m()\u001b[38;5;241m.\u001b[39m_get_indexer_strict(key, axis_name)\n",
      "File \u001b[1;32m~\\Anaconda3\\envs\\SSD\\Lib\\site-packages\\pandas\\core\\indexes\\base.py:6070\u001b[0m, in \u001b[0;36mIndex._get_indexer_strict\u001b[1;34m(self, key, axis_name)\u001b[0m\n\u001b[0;32m   6067\u001b[0m \u001b[38;5;28;01melse\u001b[39;00m:\n\u001b[0;32m   6068\u001b[0m     keyarr, indexer, new_indexer \u001b[38;5;241m=\u001b[39m \u001b[38;5;28mself\u001b[39m\u001b[38;5;241m.\u001b[39m_reindex_non_unique(keyarr)\n\u001b[1;32m-> 6070\u001b[0m \u001b[38;5;28mself\u001b[39m\u001b[38;5;241m.\u001b[39m_raise_if_missing(keyarr, indexer, axis_name)\n\u001b[0;32m   6072\u001b[0m keyarr \u001b[38;5;241m=\u001b[39m \u001b[38;5;28mself\u001b[39m\u001b[38;5;241m.\u001b[39mtake(indexer)\n\u001b[0;32m   6073\u001b[0m \u001b[38;5;28;01mif\u001b[39;00m \u001b[38;5;28misinstance\u001b[39m(key, Index):\n\u001b[0;32m   6074\u001b[0m     \u001b[38;5;66;03m# GH 42790 - Preserve name from an Index\u001b[39;00m\n",
      "File \u001b[1;32m~\\Anaconda3\\envs\\SSD\\Lib\\site-packages\\pandas\\core\\indexes\\multi.py:2646\u001b[0m, in \u001b[0;36mMultiIndex._raise_if_missing\u001b[1;34m(self, key, indexer, axis_name)\u001b[0m\n\u001b[0;32m   2644\u001b[0m         \u001b[38;5;28;01mraise\u001b[39;00m \u001b[38;5;167;01mKeyError\u001b[39;00m(\u001b[38;5;124mf\u001b[39m\u001b[38;5;124m\"\u001b[39m\u001b[38;5;132;01m{\u001b[39;00mkeyarr\u001b[38;5;132;01m}\u001b[39;00m\u001b[38;5;124m not in index\u001b[39m\u001b[38;5;124m\"\u001b[39m)\n\u001b[0;32m   2645\u001b[0m \u001b[38;5;28;01melse\u001b[39;00m:\n\u001b[1;32m-> 2646\u001b[0m     \u001b[38;5;28;01mreturn\u001b[39;00m \u001b[38;5;28msuper\u001b[39m()\u001b[38;5;241m.\u001b[39m_raise_if_missing(key, indexer, axis_name)\n",
      "File \u001b[1;32m~\\Anaconda3\\envs\\SSD\\Lib\\site-packages\\pandas\\core\\indexes\\base.py:6133\u001b[0m, in \u001b[0;36mIndex._raise_if_missing\u001b[1;34m(self, key, indexer, axis_name)\u001b[0m\n\u001b[0;32m   6130\u001b[0m     \u001b[38;5;28;01mraise\u001b[39;00m \u001b[38;5;167;01mKeyError\u001b[39;00m(\u001b[38;5;124mf\u001b[39m\u001b[38;5;124m\"\u001b[39m\u001b[38;5;124mNone of [\u001b[39m\u001b[38;5;132;01m{\u001b[39;00mkey\u001b[38;5;132;01m}\u001b[39;00m\u001b[38;5;124m] are in the [\u001b[39m\u001b[38;5;132;01m{\u001b[39;00maxis_name\u001b[38;5;132;01m}\u001b[39;00m\u001b[38;5;124m]\u001b[39m\u001b[38;5;124m\"\u001b[39m)\n\u001b[0;32m   6132\u001b[0m not_found \u001b[38;5;241m=\u001b[39m \u001b[38;5;28mlist\u001b[39m(ensure_index(key)[missing_mask\u001b[38;5;241m.\u001b[39mnonzero()[\u001b[38;5;241m0\u001b[39m]]\u001b[38;5;241m.\u001b[39munique())\n\u001b[1;32m-> 6133\u001b[0m \u001b[38;5;28;01mraise\u001b[39;00m \u001b[38;5;167;01mKeyError\u001b[39;00m(\u001b[38;5;124mf\u001b[39m\u001b[38;5;124m\"\u001b[39m\u001b[38;5;132;01m{\u001b[39;00mnot_found\u001b[38;5;132;01m}\u001b[39;00m\u001b[38;5;124m not in index\u001b[39m\u001b[38;5;124m\"\u001b[39m)\n",
      "\u001b[1;31mKeyError\u001b[0m: \"[('L', 2009), ('M', 2009), ('H', 2009)] not in index\""
     ]
    }
   ],
   "source": [
    "symbol[m.values] # this returns the symbol with index = [i, t+1]\n",
    "s.applyMapGlobalIdx(symbol, m) "
   ]
  },
  {
   "cell_type": "markdown",
   "id": "e266e0cf-48ee-4092-b78c-5d3550b1ea5a",
   "metadata": {},
   "source": [
    "We can use this map to "
   ]
  },
  {
   "cell_type": "markdown",
   "id": "a32c50cd-14f9-4155-89cb-dd0e55d128e5",
   "metadata": {},
   "source": [
    "Note that, before this, the tuple $(i,t) = (L,2010)$ referred to the linear index $15$. Lagging the $t$ index by 1 means that when $t=2011$ it maps to the linear index $15$:"
   ]
  },
  {
   "cell_type": "code",
   "execution_count": 10,
   "id": "1107de26-6ad7-4446-897e-226c352e774f",
   "metadata": {},
   "outputs": [
    {
     "data": {
      "text/plain": [
       "i  t   \n",
       "L  2011    15\n",
       "   2012    16\n",
       "   2013    17\n",
       "   2014    18\n",
       "   2015    19\n",
       "M  2011    20\n",
       "   2012    21\n",
       "   2013    22\n",
       "   2014    23\n",
       "   2015    24\n",
       "H  2011    25\n",
       "   2012    26\n",
       "   2013    27\n",
       "   2014    28\n",
       "   2015    29\n",
       "dtype: int64"
      ]
     },
     "execution_count": 10,
     "metadata": {},
     "output_type": "execute_result"
    }
   ],
   "source": [
    "s.lagLevels(symbol, lags)"
   ]
  },
  {
   "cell_type": "markdown",
   "id": "3002e848-8a22-4924-a4e9-172c7816fa89",
   "metadata": {},
   "source": [
    "```pd.Index```:\n",
    "\n",
    "If we apply the method to a symbol with values (instead of the mapping to a linear index), we return the symbol again but with $t+1$ in the index:"
   ]
  },
  {
   "cell_type": "code",
   "execution_count": 21,
   "id": "6316cc9a-f2a4-4c12-be8d-46ccb92698fb",
   "metadata": {},
   "outputs": [
    {
     "data": {
      "text/html": [
       "<div>\n",
       "<style scoped>\n",
       "    .dataframe tbody tr th:only-of-type {\n",
       "        vertical-align: middle;\n",
       "    }\n",
       "\n",
       "    .dataframe tbody tr th {\n",
       "        vertical-align: top;\n",
       "    }\n",
       "\n",
       "    .dataframe thead th {\n",
       "        text-align: right;\n",
       "    }\n",
       "</style>\n",
       "<table border=\"1\" class=\"dataframe\">\n",
       "  <thead>\n",
       "    <tr style=\"text-align: right;\">\n",
       "      <th></th>\n",
       "      <th>R[t]</th>\n",
       "      <th>R[t-1]</th>\n",
       "    </tr>\n",
       "    <tr>\n",
       "      <th>t</th>\n",
       "      <th></th>\n",
       "      <th></th>\n",
       "    </tr>\n",
       "  </thead>\n",
       "  <tbody>\n",
       "    <tr>\n",
       "      <th>2010</th>\n",
       "      <td>1.769229</td>\n",
       "      <td>NaN</td>\n",
       "    </tr>\n",
       "    <tr>\n",
       "      <th>2011</th>\n",
       "      <td>1.667108</td>\n",
       "      <td>1.769229</td>\n",
       "    </tr>\n",
       "    <tr>\n",
       "      <th>2012</th>\n",
       "      <td>1.498320</td>\n",
       "      <td>1.667108</td>\n",
       "    </tr>\n",
       "    <tr>\n",
       "      <th>2013</th>\n",
       "      <td>2.168236</td>\n",
       "      <td>1.498320</td>\n",
       "    </tr>\n",
       "    <tr>\n",
       "      <th>2014</th>\n",
       "      <td>1.801419</td>\n",
       "      <td>2.168236</td>\n",
       "    </tr>\n",
       "    <tr>\n",
       "      <th>2015</th>\n",
       "      <td>NaN</td>\n",
       "      <td>1.801419</td>\n",
       "    </tr>\n",
       "  </tbody>\n",
       "</table>\n",
       "</div>"
      ],
      "text/plain": [
       "          R[t]    R[t-1]\n",
       "t                       \n",
       "2010  1.769229       NaN\n",
       "2011  1.667108  1.769229\n",
       "2012  1.498320  1.667108\n",
       "2013  2.168236  1.498320\n",
       "2014  1.801419  2.168236\n",
       "2015       NaN  1.801419"
      ]
     },
     "execution_count": 21,
     "metadata": {},
     "output_type": "execute_result"
    }
   ],
   "source": [
    "lags =  1 # lag index with 1\n",
    "symbol = db['R'].copy() # the symbol map to be lagged\n",
    "pd.concat([symbol.rename('R[t]'), s.lagLevels(symbol, lags).rename('R[t-1]')], axis = 1)"
   ]
  },
  {
   "cell_type": "markdown",
   "id": "d3197a52-51b1-47a5-ad15-487984a69188",
   "metadata": {},
   "source": [
    "*2. Roll index:*"
   ]
  },
  {
   "cell_type": "markdown",
   "id": "61ae416e-165b-4532-9204-c1f7b141e84e",
   "metadata": {},
   "source": [
    "```pd.MultiIndex```"
   ]
  },
  {
   "cell_type": "code",
   "execution_count": 12,
   "id": "d9e32593-c147-4200-82d2-dc2d6ce1e1c4",
   "metadata": {},
   "outputs": [],
   "source": [
    "rolls = {'t': 1} # roll 't' index with 1\n",
    "symbol = s['m'].copy() # the symbol map to be lagged"
   ]
  },
  {
   "cell_type": "markdown",
   "id": "412553f2-f47f-41c1-8ea0-884e5e8d04cc",
   "metadata": {},
   "source": [
    "Roll the yearly index with 1 in the order. That is, where we have '2014' before, we now have '2013' etc. For the first element, '2010', we now map to the last element '2014'. When the index is a range index (e.g. 1, 2, 3...), this is the same as referring to $x[t+1]$ *and* adding that once we reach the final element $T+1\\mapsto t_0$ (initial level): "
   ]
  },
  {
   "cell_type": "code",
   "execution_count": 13,
   "id": "74d9d147-80d0-423c-b2ce-2d7b3f8727bd",
   "metadata": {},
   "outputs": [
    {
     "data": {
      "text/plain": [
       "i  t   \n",
       "L  2014    15\n",
       "   2010    16\n",
       "   2011    17\n",
       "   2012    18\n",
       "   2013    19\n",
       "M  2014    20\n",
       "   2010    21\n",
       "   2011    22\n",
       "   2012    23\n",
       "   2013    24\n",
       "H  2014    25\n",
       "   2010    26\n",
       "   2011    27\n",
       "   2012    28\n",
       "   2013    29\n",
       "dtype: int64"
      ]
     },
     "execution_count": 13,
     "metadata": {},
     "output_type": "execute_result"
    }
   ],
   "source": [
    "s.rollLevels(symbol, rolls)"
   ]
  },
  {
   "cell_type": "markdown",
   "id": "efcc2a2a-22ab-4f37-bfa1-3f178a9ef260",
   "metadata": {},
   "source": [
    "```pd.Index```:"
   ]
  },
  {
   "cell_type": "code",
   "execution_count": 14,
   "id": "c88780fc-e460-466d-83e2-cc8af3fe43ce",
   "metadata": {},
   "outputs": [
    {
     "data": {
      "text/plain": [
       "t\n",
       "2014    1.769229\n",
       "2010    1.667108\n",
       "2011    1.498320\n",
       "2012    2.168236\n",
       "2013    1.801419\n",
       "dtype: float64"
      ]
     },
     "execution_count": 14,
     "metadata": {},
     "output_type": "execute_result"
    }
   ],
   "source": [
    "rolls =  1 # roll index with 1\n",
    "symbol = db['R'].copy() # the symbol map to be lagged\n",
    "s.rollLevels(symbol, rolls)"
   ]
  },
  {
   "cell_type": "markdown",
   "id": "ccdcdc63-08b0-4440-b887-e760d9f25bd5",
   "metadata": {},
   "source": [
    "*3. Shift index:*"
   ]
  },
  {
   "cell_type": "code",
   "execution_count": 15,
   "id": "4ce94792-b861-4a8c-bdd2-671e7ee277ab",
   "metadata": {},
   "outputs": [],
   "source": [
    "shifts = {'t': -1}\n",
    "symbol = s['m'].copy()\n",
    "kwargs = {'useLoc': 'nn'} # nearest-neighbor loc"
   ]
  },
  {
   "cell_type": "markdown",
   "id": "20521949-816d-475a-9cf0-02bf805e7616",
   "metadata": {},
   "source": [
    "Shifting the index by 1 is similar to rolling an index, i.e. it returns the element $x[t+1]$. Instead of using the convention that $T+1\\mapsto t_0$, however, we can use other conventions like a steady state assumption here. Using the ```kwargs = {'useLoc': 'nn'} ``` option means that we essentially use the convention $T+1\\mapsto T$ in this case."
   ]
  },
  {
   "cell_type": "markdown",
   "id": "cfef347a-3945-4488-b35f-91853609175b",
   "metadata": {},
   "source": [
    "The method ```shiftMaps``` shows the mapping from $(i,t)$ to the shifted index $(i,t+1)$ with the convention that $T+1\\mapsto T$:"
   ]
  },
  {
   "cell_type": "code",
   "execution_count": 16,
   "id": "f67ae5d7-3968-44ed-9a97-79ba0ce6aa59",
   "metadata": {},
   "outputs": [
    {
     "data": {
      "text/plain": [
       "i  t   \n",
       "L  2010    (L, 2011)\n",
       "   2011    (L, 2012)\n",
       "   2012    (L, 2013)\n",
       "   2013    (L, 2014)\n",
       "   2014    (L, 2014)\n",
       "M  2010    (M, 2011)\n",
       "   2011    (M, 2012)\n",
       "   2012    (M, 2013)\n",
       "   2013    (M, 2014)\n",
       "   2014    (M, 2014)\n",
       "H  2010    (H, 2011)\n",
       "   2011    (H, 2012)\n",
       "   2012    (H, 2013)\n",
       "   2013    (H, 2014)\n",
       "   2014    (H, 2014)\n",
       "dtype: object"
      ]
     },
     "execution_count": 16,
     "metadata": {},
     "output_type": "execute_result"
    }
   ],
   "source": [
    "m = s.shiftMaps(symbol, shifts, **kwargs)\n",
    "m"
   ]
  },
  {
   "cell_type": "markdown",
   "id": "104331ab-8bbc-40a5-99d7-695930284be1",
   "metadata": {},
   "source": [
    "As we can see, this generally maps from $t\\mapsto t+1$, except for $2014 \\mapsto 2014$. When we shift levels in the global linear index, we can do this by drawing directly on this mapping:"
   ]
  },
  {
   "cell_type": "code",
   "execution_count": 20,
   "id": "a65aab04-6340-4443-9a65-f6aee30c2c61",
   "metadata": {},
   "outputs": [
    {
     "data": {
      "text/plain": [
       "i  t   \n",
       "L  2010    16\n",
       "   2011    17\n",
       "   2012    18\n",
       "   2013    19\n",
       "   2014    19\n",
       "M  2010    21\n",
       "   2011    22\n",
       "   2012    23\n",
       "   2013    24\n",
       "   2014    24\n",
       "H  2010    26\n",
       "   2011    27\n",
       "   2012    28\n",
       "   2013    29\n",
       "   2014    29\n",
       "dtype: int64"
      ]
     },
     "execution_count": 20,
     "metadata": {},
     "output_type": "execute_result"
    }
   ],
   "source": [
    "symbol[m.values] # this returns the symbol with index = [i, t+1]\n",
    "s.applyMapGlobalIdx(symbol, m) "
   ]
  },
  {
   "cell_type": "markdown",
   "id": "4901f859-e882-44bb-8a2d-0e3ee4349795",
   "metadata": {},
   "source": [
    "We can also do this without having an established mapping yet; this can be relevant in some reporting routines (where speed is not paramount) or if the numerical part of some optimization requires dynamic compilation (e.g. with adaptive sparse grids where indices may change). This is done by calling the ```shiftLevels``` method:"
   ]
  },
  {
   "cell_type": "code",
   "execution_count": 18,
   "id": "33bffee6-bbdc-4d68-99ba-9ecdd2e6ea6f",
   "metadata": {},
   "outputs": [
    {
     "data": {
      "text/plain": [
       "i  t   \n",
       "L  2010    16\n",
       "   2011    17\n",
       "   2012    18\n",
       "   2013    19\n",
       "   2014    19\n",
       "M  2010    21\n",
       "   2011    22\n",
       "   2012    23\n",
       "   2013    24\n",
       "   2014    24\n",
       "H  2010    26\n",
       "   2011    27\n",
       "   2012    28\n",
       "   2013    29\n",
       "   2014    29\n",
       "dtype: int64"
      ]
     },
     "execution_count": 18,
     "metadata": {},
     "output_type": "execute_result"
    }
   ],
   "source": [
    "s.shiftLevels(symbol, shifts, **kwargs)"
   ]
  },
  {
   "cell_type": "markdown",
   "id": "fdaae090-881e-4fa0-ae33-b057b2d51785",
   "metadata": {},
   "source": [
    "```pd.Index```:"
   ]
  },
  {
   "cell_type": "code",
   "execution_count": 24,
   "id": "78fbce72-a03d-4f04-b332-df963451ea43",
   "metadata": {},
   "outputs": [
    {
     "data": {
      "text/html": [
       "<div>\n",
       "<style scoped>\n",
       "    .dataframe tbody tr th:only-of-type {\n",
       "        vertical-align: middle;\n",
       "    }\n",
       "\n",
       "    .dataframe tbody tr th {\n",
       "        vertical-align: top;\n",
       "    }\n",
       "\n",
       "    .dataframe thead th {\n",
       "        text-align: right;\n",
       "    }\n",
       "</style>\n",
       "<table border=\"1\" class=\"dataframe\">\n",
       "  <thead>\n",
       "    <tr style=\"text-align: right;\">\n",
       "      <th></th>\n",
       "      <th>R[t]</th>\n",
       "      <th>R[t+1]</th>\n",
       "    </tr>\n",
       "    <tr>\n",
       "      <th>t</th>\n",
       "      <th></th>\n",
       "      <th></th>\n",
       "    </tr>\n",
       "  </thead>\n",
       "  <tbody>\n",
       "    <tr>\n",
       "      <th>2010</th>\n",
       "      <td>2.462717</td>\n",
       "      <td>2.540789</td>\n",
       "    </tr>\n",
       "    <tr>\n",
       "      <th>2011</th>\n",
       "      <td>2.540789</td>\n",
       "      <td>3.050615</td>\n",
       "    </tr>\n",
       "    <tr>\n",
       "      <th>2012</th>\n",
       "      <td>3.050615</td>\n",
       "      <td>3.276308</td>\n",
       "    </tr>\n",
       "    <tr>\n",
       "      <th>2013</th>\n",
       "      <td>3.276308</td>\n",
       "      <td>2.834768</td>\n",
       "    </tr>\n",
       "    <tr>\n",
       "      <th>2014</th>\n",
       "      <td>2.834768</td>\n",
       "      <td>2.834768</td>\n",
       "    </tr>\n",
       "  </tbody>\n",
       "</table>\n",
       "</div>"
      ],
      "text/plain": [
       "          R[t]    R[t+1]\n",
       "t                       \n",
       "2010  2.462717  2.540789\n",
       "2011  2.540789  3.050615\n",
       "2012  3.050615  3.276308\n",
       "2013  3.276308  2.834768\n",
       "2014  2.834768  2.834768"
      ]
     },
     "execution_count": 24,
     "metadata": {},
     "output_type": "execute_result"
    }
   ],
   "source": [
    "shifts = -1 # shift index with -1\n",
    "symbol = db['R'].copy() # the symbol map to be lagged\n",
    "pd.DataFrame({'R[t]': symbol, 'R[t+1]': s.shiftLevels(symbol, shifts, **kwargs)})"
   ]
  },
  {
   "cell_type": "markdown",
   "id": "65a38239-4c69-474e-b988-85f1d9946046",
   "metadata": {},
   "source": [
    "#### Compile adjusted symbols"
   ]
  },
  {
   "cell_type": "markdown",
   "id": "cab64a68-8b0e-459d-ac54-0b2bb4a8ff1e",
   "metadata": {},
   "source": [
    "As mentioned above, the adjusted symbols are compiled in two steps: First, by adding a mapping to ```self.auxMapsIdx``` from the original ```pd.Index``` to a new one. Second, by \n",
    "adding to ```self.auxMaps``` a mapping from the original ```pd.Index``` to the numerical index required to extract the relevant entries in a stacked numpy array (akin to the ```self.maps``` dict)."
   ]
  },
  {
   "cell_type": "markdown",
   "id": "feca8e47-07b4-42a5-9461-673c77ba426e",
   "metadata": {},
   "source": [
    "*Compiling a lagged, rolled, or shifted variable:*"
   ]
  },
  {
   "cell_type": "markdown",
   "id": "4662e374-3174-4ad5-9668-d5084a90a0f0",
   "metadata": {},
   "source": [
    "Let us look for a way to extract $m_{i,t-1}$. We can get this map by lagging the $t$-index by 1:"
   ]
  },
  {
   "cell_type": "code",
   "execution_count": 18,
   "id": "50874de2-3e48-4f78-a6ef-8ff2b9419ba7",
   "metadata": {},
   "outputs": [
    {
     "data": {
      "text/plain": [
       "i  t   \n",
       "L  2010    (L, 2011)\n",
       "   2011    (L, 2012)\n",
       "   2012    (L, 2013)\n",
       "   2013    (L, 2014)\n",
       "   2014    (L, 2015)\n",
       "M  2010    (M, 2011)\n",
       "   2011    (M, 2012)\n",
       "   2012    (M, 2013)\n",
       "   2013    (M, 2014)\n",
       "   2014    (M, 2015)\n",
       "H  2010    (H, 2011)\n",
       "   2011    (H, 2012)\n",
       "   2012    (H, 2013)\n",
       "   2013    (H, 2014)\n",
       "   2014    (H, 2015)\n",
       "dtype: object"
      ]
     },
     "execution_count": 18,
     "metadata": {},
     "output_type": "execute_result"
    }
   ],
   "source": [
    "lags = {'t': 1}\n",
    "symbol = s['m'].copy()\n",
    "m = s.lagMaps(symbol, lags)\n",
    "m"
   ]
  },
  {
   "cell_type": "markdown",
   "id": "ee97aedc-9021-47b8-a522-185b63005fcb",
   "metadata": {},
   "source": [
    "This map is used to indicate that whenever the index $(i,t) = (L, 2010)$, this symbol operates over $(L,2009)$ etc.. However, as the value $t=2009$ is not in the original index, we run into a problem if we try to use this to establish a mapping to the global linear index. In particular, because the final lagged value $2009$ does not exist here. So, looking up the "
   ]
  }
 ],
 "metadata": {
  "kernelspec": {
   "display_name": "Python 3 (ipykernel)",
   "language": "python",
   "name": "python3"
  },
  "language_info": {
   "codemirror_mode": {
    "name": "ipython",
    "version": 3
   },
   "file_extension": ".py",
   "mimetype": "text/x-python",
   "name": "python",
   "nbconvert_exporter": "python",
   "pygments_lexer": "ipython3",
   "version": "3.11.4"
  }
 },
 "nbformat": 4,
 "nbformat_minor": 5
}
