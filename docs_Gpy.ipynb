{
 "cells": [
  {
   "cell_type": "code",
   "execution_count": 1,
   "id": "1d8457c4-9012-49b6-b685-ebb382383fd8",
   "metadata": {},
   "outputs": [],
   "source": [
    "import numpy as np, scipy, pandas as pd\n",
    "from pyDbs.__init__ import *"
   ]
  },
  {
   "cell_type": "markdown",
   "id": "ece74afd-109e-4251-b379-feb531580c41",
   "metadata": {},
   "source": [
    "# Documentation for ```pyDbs.Gpy```"
   ]
  },
  {
   "cell_type": "markdown",
   "id": "d29283c6-d7d9-414a-b2f1-51968b85513d",
   "metadata": {},
   "source": [
    "Symbol class. Includes three subclasses: ```GpyVariable```, ```GpySet```, ```GpyScalar```. Symbols can be initialized using the convenience methods ```Gpy.c``` or ```Gpy.create```. The symbol classes are used to ensure a certain structure, e.g. in the way symbols are named, how to return a symbols name, index, domains, and values. They also have built-in methods for merging.\n",
    "* ```GpyVariable``` values are defined as ```pd.Series``` defined over ```pd.Index``` or ```pd.MultiIndex```.\n",
    "* ```GpySet``` values are defined as ```pd.Index``` or ```pd.MultiIndex``` instances.\n",
    "* ```GpyScalar``` values are defined as scalars *not* defined over indices."
   ]
  },
  {
   "cell_type": "markdown",
   "id": "f8dc9503-5974-4bda-a809-7dcf3a97251a",
   "metadata": {},
   "source": [
    "## 1. ```GpySet```"
   ]
  },
  {
   "cell_type": "markdown",
   "id": "13c94a90-a0d4-4142-8f67-5a9f916658c4",
   "metadata": {},
   "source": [
    "### A. Attributes"
   ]
  },
  {
   "cell_type": "markdown",
   "id": "b9dd34e0-ed81-4d88-a43d-1cfc8c85dec0",
   "metadata": {},
   "source": [
    "* ```v```: The index symbol (pandas object).\n",
    "* ```name```.\n",
    "* ```type == 'set'```.\n",
    "\n",
    "*Notes*: The ```self.name``` attribute is not necessarily the same as ```self.v.name```, where ```self.v``` is a pd.Index. If no name is provided at initialization, the method defaults to assigning ```self.name = self.v.name``` though."
   ]
  },
  {
   "cell_type": "markdown",
   "id": "8879685a-ab10-4be8-8745-5d09860f1873",
   "metadata": {},
   "source": [
    "### B. Properties/methods"
   ]
  },
  {
   "cell_type": "markdown",
   "id": "cad6e312-03f0-44ee-904e-002714eeb64a",
   "metadata": {},
   "source": [
    "* ```self.index```: Returns ```self.v```.\n",
    "* ```self.__len__```: length of ```self.v```.\n",
    "* ```self.domains```: returns ```self.index.names```,\n",
    "* ```self.merge(symbol, priority = 'second', union = True, **kwargs)```:\n",
    "    * Merges the index ```self.v``` with pandas index in ```symbol```. Index domains has to be consistent.\n",
    "    * If ```priority == 'replace'```: Use index from symbol (drop ```self.v```). Else:\n",
    "    * If ```union == True```: Combine ```self.v``` with index ```symbol``` by ```pd.Index.union```,\n",
    "    * else: Combine ```self.v``` with index ```symbol``` by ```pd.Index.intersection```.\n",
    "* ```self.mergeGpy(symbol, priority = 'second', union = True, **kwargs)```: Equivalent to ```merge``` except that ```symbol``` has to be a ```GpySet``` instance.\n",
    "* ```self.adj(rc, **kwargs)```: Updates pandas index in ```self.v``` after adjustments. The arguments ```rc, **kwargs``` are passed to the adjustment method ```pyDbs.adj.rc_pd```(see documentation in notebook ```docs_adj.ipynb``` for more on this).\n",
    "* ```self.array(**kwargs)```: Returns values as numpy arrays (in this case ```self.v.values``` ). The **kwargs** is only included here for symmetry with other Gpy classes (see below)."
   ]
  },
  {
   "cell_type": "markdown",
   "id": "cb63768e-e1f4-46d6-b17f-58025587037c",
   "metadata": {},
   "source": [
    "### C. Examples"
   ]
  },
  {
   "cell_type": "markdown",
   "id": "4ad62f57-551f-4016-9df2-5a41194991c7",
   "metadata": {},
   "source": [
    "Initialize as ```pd.Index``` (or multiIndex):"
   ]
  },
  {
   "cell_type": "code",
   "execution_count": 2,
   "id": "1b75474d-2056-44ae-968a-2c27345c9672",
   "metadata": {},
   "outputs": [],
   "source": [
    "idx = pd.Index(range(10), name = 'testName')\n",
    "GpySetInst = GpySet(idx) # use GpySet class directly\n",
    "GpySetInst = Gpy.c(idx) # Convenience class accepts an index --> identifies as a set. "
   ]
  },
  {
   "cell_type": "markdown",
   "id": "6cc4efc3-3f9b-4d77-a1ea-bee5ea389d8e",
   "metadata": {},
   "source": [
    "Adjust the name of the symbol (can be different than the index name):"
   ]
  },
  {
   "cell_type": "code",
   "execution_count": 3,
   "id": "22686a45-ff96-49bc-bf5c-73a9e62c7d85",
   "metadata": {},
   "outputs": [],
   "source": [
    "GpySetInst = Gpy.c(idx, name = 'rook')"
   ]
  },
  {
   "cell_type": "markdown",
   "id": "7fac69ba-9ca4-477c-a9d3-23bee3208021",
   "metadata": {},
   "source": [
    "We can initialize from an instance as well; this simply creates a copy:"
   ]
  },
  {
   "cell_type": "code",
   "execution_count": 4,
   "id": "c805486a-0b7e-452d-a928-0b8f9c218c8b",
   "metadata": {},
   "outputs": [],
   "source": [
    "GpySetCopy = Gpy.c(GpySetInst)"
   ]
  },
  {
   "cell_type": "markdown",
   "id": "cdc92005-2cec-45f1-af93-35d687b2fc27",
   "metadata": {},
   "source": [
    "Merge with other symbol (domains have to match for this to work, unless we use ```priority``` = 'replace'):"
   ]
  },
  {
   "cell_type": "code",
   "execution_count": 5,
   "id": "28821a8b-66e5-47d5-acf2-989a2a4a85f7",
   "metadata": {},
   "outputs": [
    {
     "data": {
      "text/plain": [
       "Index([0, 1, 2, 3, 4, 5, 6, 7, 8, 9, 'a', 'b'], dtype='object', name='testName')"
      ]
     },
     "execution_count": 5,
     "metadata": {},
     "output_type": "execute_result"
    }
   ],
   "source": [
    "GpySetInst.merge(pd.Index(['a','b', 0], name = 'testName'), union = True) # this adds new elements 'a','b' - 0 is already in the original index\n",
    "GpySetInst.v"
   ]
  },
  {
   "cell_type": "markdown",
   "id": "cac9c560-e0f6-47f3-90ca-621ce49477cc",
   "metadata": {},
   "source": [
    "Adjust the ```self.v``` index using a condition consistent with ```pyDbs.adj.rc_pd``` methods:"
   ]
  },
  {
   "cell_type": "code",
   "execution_count": 6,
   "id": "8d95e64f-dab2-4273-abce-2a63ffa98e51",
   "metadata": {},
   "outputs": [
    {
     "data": {
      "text/plain": [
       "Index([5, 6, 7, 8, 9], dtype='object', name='testName')"
      ]
     },
     "execution_count": 6,
     "metadata": {},
     "output_type": "execute_result"
    }
   ],
   "source": [
    "GpySetInst.adj(pd.Index(range(5,15), name = 'testName')) # the rc_pd identifies overlap in indices with domains overlapping\n",
    "GpySetInst.v"
   ]
  },
  {
   "cell_type": "markdown",
   "id": "fd3d0f19-76b9-4f48-9377-43b57314d70f",
   "metadata": {},
   "source": [
    "The adjustment methods also take other arguments (see ```pyDbs.adj.rc_pd``` method for more on the use):"
   ]
  },
  {
   "cell_type": "code",
   "execution_count": 7,
   "id": "ff0638b9-b350-4b50-8c8e-7bbe1d74c77a",
   "metadata": {},
   "outputs": [
    {
     "data": {
      "text/plain": [
       "Index([5, 6, 7], dtype='object', name='testName')"
      ]
     },
     "execution_count": 7,
     "metadata": {},
     "output_type": "execute_result"
    }
   ],
   "source": [
    "GpySetInst.adj(('not', pd.Index([8,9], name = 'testName'))) # the tuple with 'not' in the first entry negates the two\n",
    "GpySetInst.v"
   ]
  },
  {
   "cell_type": "markdown",
   "id": "f6700658-ae0f-442d-be65-eebf7dd4b14f",
   "metadata": {},
   "source": [
    "... or add multiple conditions:"
   ]
  },
  {
   "cell_type": "code",
   "execution_count": 8,
   "id": "d16cae11-93b0-48b7-b9bb-f8d494061fe5",
   "metadata": {},
   "outputs": [
    {
     "data": {
      "text/plain": [
       "Index([5], dtype='object', name='testName')"
      ]
     },
     "execution_count": 8,
     "metadata": {},
     "output_type": "execute_result"
    }
   ],
   "source": [
    "GpySetInst.adj(('and', [pd.Index(range(10), name = 'testName'), pd.Index([5], name = 'testName')])) # the tuple with 'and' in the first entry means that all conditions in second entry (list) has to fit. \n",
    "GpySetInst.v"
   ]
  },
  {
   "cell_type": "markdown",
   "id": "0f48523d-78e0-4b95-857e-7990aaa20689",
   "metadata": {},
   "source": [
    "## 2. ```GpyVariable```"
   ]
  },
  {
   "cell_type": "markdown",
   "id": "f8397e06-8811-4504-aa77-4c7a74843626",
   "metadata": {},
   "source": [
    "### A. Attributes"
   ]
  },
  {
   "cell_type": "markdown",
   "id": "09bd3a20-08a9-458f-8a0e-d5793911f6be",
   "metadata": {},
   "source": [
    "* ```v```: Pandas series.\n",
    "* ```lo```: Defaults to None. Used to store lower bounds on variables, specified as pandas series if provided.\n",
    "* ```up```: Defaults to None. Used to store upper bounds on variables, specified as pandas series if provided. \n",
    "* ```name```: Defaults to name of ```self.v.name``` if no name is provided.\n",
    "* ```type == 'variable'```."
   ]
  },
  {
   "cell_type": "markdown",
   "id": "59df90a2-cf8f-4480-be02-b560aca2c4e0",
   "metadata": {},
   "source": [
    "### B. Properties/methods"
   ]
  },
  {
   "cell_type": "markdown",
   "id": "35e192b1-1447-4e2a-89a1-11b91339d381",
   "metadata": {},
   "source": [
    "* ```index```: Returns ```self.v.index```.\n",
    "* ```__len__```: length of ```self.v```.\n",
    "* ```domains```: returns ```self.index.names```.\n",
    "* ```merge(symbol, lo = None, up = None, priority = 'second', **kwargs)```:\n",
    "    * Merges pandas series from ```symbol``` with ```self.v```. Also uses this on ```lo```, ```up``` if these are provided.\n",
    "    * Allows ```priority = 'second','first','replace'```. Assigns the priority of the new symbol when merging data, i.e. priority = 'second' means that the new values are only used where the symbol currently has no data.  \n",
    "* ```mergeGpy(symbol, priority = 'second', **kwargs)```: Equivalent to ```merge``` except that ```symbol``` has to be a ```GpyVariable``` instance.\n",
    "* ```self.array(attr = 'v', **kwargs)```: Returns numpy array from attribute 'attr'. If we call ```self.array(attr = 'lo')```, but the lower bound is not specified (i.e. ```self.lo``` = ```None```), this returns a numpy arrays with ```np.nan```  of the same length as ```self.v```. The same thing goes for the upper bound (```self.up```).\n",
    "* ```self.adj(rc, **kwargs)```: Updates pandas series in (```self.v```, ```self.lo```, ```self.up```) after adjustments. The arguments ```rc, **kwargs``` are passed to the adjustment method ```pyDbs.adj.rc_pd```(see documentation in notebook ```docs_adj.ipynb``` for more on this). "
   ]
  },
  {
   "cell_type": "markdown",
   "id": "9f1c1569-d953-4c06-8e93-c4b9371c1ede",
   "metadata": {},
   "source": [
    "### C. Examples"
   ]
  },
  {
   "cell_type": "markdown",
   "id": "ef6c7021-4c38-4673-8c39-1203609ff001",
   "metadata": {},
   "source": [
    "Initialize as ```pd.Series```:"
   ]
  },
  {
   "cell_type": "code",
   "execution_count": 9,
   "id": "6d49edc5-33a8-4f4d-9cac-77b41bf94bb0",
   "metadata": {},
   "outputs": [],
   "source": [
    "s = pd.Series(1, index = idx, name = 'testVariable')\n",
    "GpyVarInst = GpyVariable(s) # use GpySet class directly\n",
    "GpyVarInst = Gpy.c(s) # Convenience class accepts an series --> identifies as a variable. "
   ]
  },
  {
   "cell_type": "markdown",
   "id": "f0e01473-d451-49f7-99ed-9c84ea10582d",
   "metadata": {},
   "source": [
    "Initialize with ```pd.DataFrame```: Columns \"v\", \"lo\", \"up\" specify different attributes:"
   ]
  },
  {
   "cell_type": "code",
   "execution_count": 10,
   "id": "7df65b6f-4f8d-463d-bb69-007bb833de75",
   "metadata": {},
   "outputs": [],
   "source": [
    "df = pd.DataFrame({'v': 1, 'lo': 0, 'up': 10}, index = idx)\n",
    "GpyVarInst = GpyVariable(df)"
   ]
  },
  {
   "cell_type": "markdown",
   "id": "2ee500fc-bc5a-4586-b8bd-2367ff474e6b",
   "metadata": {},
   "source": [
    "We can initialize from an instance as well; this simply creates a copy:"
   ]
  },
  {
   "cell_type": "code",
   "execution_count": 11,
   "id": "98c0e7ae-d7e8-4a9d-9315-9c9316eaab14",
   "metadata": {},
   "outputs": [],
   "source": [
    "GpyVarCopy = Gpy.c(GpyVarInst)"
   ]
  },
  {
   "cell_type": "markdown",
   "id": "d9e1208f-d2f6-4f64-9733-c1458873504a",
   "metadata": {},
   "source": [
    "Merge take other series as inputs. The following adjusts the main attribute ```self.v```. The default priority is ```'first'```, such that overlapping domains use the new values:"
   ]
  },
  {
   "cell_type": "code",
   "execution_count": 12,
   "id": "f0be4999-5e8e-4704-8ad1-395e4e784ed0",
   "metadata": {},
   "outputs": [
    {
     "data": {
      "text/plain": [
       "testName\n",
       "0    5\n",
       "1    5\n",
       "2    1\n",
       "3    1\n",
       "4    1\n",
       "5    1\n",
       "6    1\n",
       "7    1\n",
       "8    1\n",
       "9    1\n",
       "dtype: int64"
      ]
     },
     "execution_count": 12,
     "metadata": {},
     "output_type": "execute_result"
    }
   ],
   "source": [
    "GpyVarInst.merge(pd.Series(5, index = idx[0:2]))\n",
    "GpyVarInst.v"
   ]
  },
  {
   "cell_type": "markdown",
   "id": "f41f08e2-64eb-44f8-8d67-c04c7b2aa50a",
   "metadata": {},
   "source": [
    "We can adjust ```.lo, .up``` attributes in similar ways by calling ```self.mergeLo``` or ```self.mergeUp``` specifically:"
   ]
  },
  {
   "cell_type": "code",
   "execution_count": 13,
   "id": "231d1c29-b115-4117-8800-6d7c80f170b3",
   "metadata": {},
   "outputs": [
    {
     "data": {
      "text/plain": [
       "testName\n",
       "0    0\n",
       "1    0\n",
       "2    0\n",
       "3   -1\n",
       "4   -1\n",
       "5    0\n",
       "6    0\n",
       "7    0\n",
       "8    0\n",
       "9    0\n",
       "dtype: int64"
      ]
     },
     "execution_count": 13,
     "metadata": {},
     "output_type": "execute_result"
    }
   ],
   "source": [
    "GpyVarInst.mergeLo(pd.Series(-1, index = idx[3:5]))\n",
    "GpyVarInst.lo"
   ]
  },
  {
   "cell_type": "markdown",
   "id": "303dac2a-4626-4618-9a5c-52cdd459e0c9",
   "metadata": {},
   "source": [
    "The ```merge``` method also allows for more than one attribute to be merged:"
   ]
  },
  {
   "cell_type": "code",
   "execution_count": 14,
   "id": "4e8f4cba-ec7f-4fb5-b315-a4303cfb73a7",
   "metadata": {},
   "outputs": [
    {
     "data": {
      "text/plain": [
       "testName\n",
       "0    2.718282\n",
       "1    2.718282\n",
       "2    2.718282\n",
       "3    2.718282\n",
       "4    2.718282\n",
       "5    2.718282\n",
       "6    2.718282\n",
       "7    2.718282\n",
       "8    2.718282\n",
       "9    2.718282\n",
       "dtype: float64"
      ]
     },
     "execution_count": 14,
     "metadata": {},
     "output_type": "execute_result"
    }
   ],
   "source": [
    "GpyVarInst.merge(pd.Series(np.e, index = idx), \n",
    "                 lo = pd.Series(0, index = idx), \n",
    "                 up = pd.Series(1e3, index = idx[0:5])) # this adjusts all three attributes v, lo, up"
   ]
  },
  {
   "cell_type": "markdown",
   "id": "7aa6682f-7b20-4de9-abee-38585ce59110",
   "metadata": {},
   "source": [
    "The ```self.array(attr = 'v')``` returns the numpy array version of the attribute:"
   ]
  },
  {
   "cell_type": "code",
   "execution_count": 15,
   "id": "290ee529-ef06-4aa2-b87e-733dc788f5ae",
   "metadata": {},
   "outputs": [
    {
     "data": {
      "text/plain": [
       "array([2.71828183, 2.71828183, 2.71828183, 2.71828183, 2.71828183,\n",
       "       2.71828183, 2.71828183, 2.71828183, 2.71828183, 2.71828183])"
      ]
     },
     "execution_count": 15,
     "metadata": {},
     "output_type": "execute_result"
    }
   ],
   "source": [
    "GpyVarInst.array() # get 'v' - default "
   ]
  },
  {
   "cell_type": "code",
   "execution_count": 16,
   "id": "f76cdf05-8578-4207-9945-09c8bde7dd43",
   "metadata": {},
   "outputs": [
    {
     "data": {
      "text/plain": [
       "array([1000., 1000., 1000., 1000., 1000.,   10.,   10.,   10.,   10.,\n",
       "         10.])"
      ]
     },
     "execution_count": 16,
     "metadata": {},
     "output_type": "execute_result"
    }
   ],
   "source": [
    "GpyVarInst.array(attr = 'up') # get np.array from 'up' attribute"
   ]
  },
  {
   "cell_type": "markdown",
   "id": "9a2b6aaa-f8ae-4357-8225-ff2d486ffcde",
   "metadata": {},
   "source": [
    "Reset the 'lo' attribute to None; the ```self.array``` call then returns a vector of ```np.nan``` with suitable length:"
   ]
  },
  {
   "cell_type": "code",
   "execution_count": 17,
   "id": "98a4d6d2-3180-447c-9942-db2e32da9911",
   "metadata": {},
   "outputs": [
    {
     "data": {
      "text/plain": [
       "array([nan, nan, nan, nan, nan, nan, nan, nan, nan, nan])"
      ]
     },
     "execution_count": 17,
     "metadata": {},
     "output_type": "execute_result"
    }
   ],
   "source": [
    "GpyVarInst.lo = None\n",
    "GpyVarInst.array(attr = 'lo')"
   ]
  },
  {
   "cell_type": "markdown",
   "id": "d14c6468-930a-453b-a1e6-5c4353c75dda",
   "metadata": {},
   "source": [
    "The ```self.adj``` method works in a similar ways as for ```GpySet``` instances, with the exception that the adjustments are made to all three attributes (v, lo, up):"
   ]
  },
  {
   "cell_type": "code",
   "execution_count": 18,
   "id": "715fb0ff-7a24-4af3-bb2e-f404ee80458c",
   "metadata": {},
   "outputs": [
    {
     "data": {
      "text/html": [
       "<div>\n",
       "<style scoped>\n",
       "    .dataframe tbody tr th:only-of-type {\n",
       "        vertical-align: middle;\n",
       "    }\n",
       "\n",
       "    .dataframe tbody tr th {\n",
       "        vertical-align: top;\n",
       "    }\n",
       "\n",
       "    .dataframe thead th {\n",
       "        text-align: right;\n",
       "    }\n",
       "</style>\n",
       "<table border=\"1\" class=\"dataframe\">\n",
       "  <thead>\n",
       "    <tr style=\"text-align: right;\">\n",
       "      <th></th>\n",
       "      <th>v</th>\n",
       "      <th>up</th>\n",
       "    </tr>\n",
       "    <tr>\n",
       "      <th>testName</th>\n",
       "      <th></th>\n",
       "      <th></th>\n",
       "    </tr>\n",
       "  </thead>\n",
       "  <tbody>\n",
       "    <tr>\n",
       "      <th>0</th>\n",
       "      <td>2.718282</td>\n",
       "      <td>1000.0</td>\n",
       "    </tr>\n",
       "    <tr>\n",
       "      <th>1</th>\n",
       "      <td>2.718282</td>\n",
       "      <td>1000.0</td>\n",
       "    </tr>\n",
       "    <tr>\n",
       "      <th>2</th>\n",
       "      <td>2.718282</td>\n",
       "      <td>1000.0</td>\n",
       "    </tr>\n",
       "    <tr>\n",
       "      <th>3</th>\n",
       "      <td>2.718282</td>\n",
       "      <td>1000.0</td>\n",
       "    </tr>\n",
       "    <tr>\n",
       "      <th>4</th>\n",
       "      <td>2.718282</td>\n",
       "      <td>1000.0</td>\n",
       "    </tr>\n",
       "  </tbody>\n",
       "</table>\n",
       "</div>"
      ],
      "text/plain": [
       "                 v      up\n",
       "testName                  \n",
       "0         2.718282  1000.0\n",
       "1         2.718282  1000.0\n",
       "2         2.718282  1000.0\n",
       "3         2.718282  1000.0\n",
       "4         2.718282  1000.0"
      ]
     },
     "execution_count": 18,
     "metadata": {},
     "output_type": "execute_result"
    }
   ],
   "source": [
    "GpyVarInst.adj(idx[0:5]) # this makes the adjustments - only keep the first 5 entries in the index\n",
    "pd.concat([getattr(GpyVarInst,attr).rename(attr) for attr in ('v','lo','up') if getattr(GpyVarInst, attr) is not None], axis = 1) # this collects adjusted values in a dataframe to show the changes"
   ]
  },
  {
   "cell_type": "markdown",
   "id": "e8ecf212-0fa4-4123-81c0-e143bddac5fe",
   "metadata": {},
   "source": [
    "## C. ```GpyScalar```"
   ]
  },
  {
   "cell_type": "markdown",
   "id": "9d903334-1835-4da8-8f59-3f78dc14cda2",
   "metadata": {},
   "source": [
    "Similar to ```GpyVariable```, except that it does not store multiple values and is thus *not* defined as pd.Series. Instead, they simply store numbers."
   ]
  },
  {
   "cell_type": "markdown",
   "id": "ac06cb49-e6c1-4230-9a74-897c9c3936c6",
   "metadata": {},
   "source": [
    "* Main value stored at ```self.v```,\n",
    "* optional values stored at ```self.lo``` and ```self.up```,\n",
    "* name has to be specified,\n",
    "* ```self.index``` defaults to None,\n",
    "* ```self.domans``` defaults to empty list."
   ]
  },
  {
   "cell_type": "code",
   "execution_count": 19,
   "id": "bf8711ac-264d-4513-b909-2f72593636aa",
   "metadata": {
    "scrolled": true
   },
   "outputs": [
    {
     "data": {
      "text/plain": [
       "{'v': 1, 'lo': 0, 'up': 10, 'name': 'testScalrVar', 'type': 'scalar'}"
      ]
     },
     "execution_count": 19,
     "metadata": {},
     "output_type": "execute_result"
    }
   ],
   "source": [
    "GpyScalarVar = Gpy.c(1, lo = 0, up = 10, name = 'testScalrVar')\n",
    "GpyScalarVar.__dict__"
   ]
  },
  {
   "cell_type": "markdown",
   "id": "8708a71d-9bb9-42a3-999d-04e177d102d4",
   "metadata": {},
   "source": [
    "```merge``` and ```mergeGpy``` are implemented as variables. The ```array``` and ```adj``` methods are added for completeness; ```self.array(attr = 'v')``` simply returns the attribute and ```self.adj(rc, **kwars)``` simply returns ```self.v```."
   ]
  }
 ],
 "metadata": {
  "kernelspec": {
   "display_name": "Python 3 (ipykernel)",
   "language": "python",
   "name": "python3"
  },
  "language_info": {
   "codemirror_mode": {
    "name": "ipython",
    "version": 3
   },
   "file_extension": ".py",
   "mimetype": "text/x-python",
   "name": "python",
   "nbconvert_exporter": "python",
   "pygments_lexer": "ipython3",
   "version": "3.13.5"
  }
 },
 "nbformat": 4,
 "nbformat_minor": 5
}
