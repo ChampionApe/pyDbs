{
 "cells": [
  {
   "cell_type": "code",
   "execution_count": 1,
   "id": "b327904d-0bef-4409-bb7c-d6982ae7093c",
   "metadata": {},
   "outputs": [],
   "source": [
    "import numpy as np, scipy, pandas as pd\n",
    "from pyDbs.__init__ import *"
   ]
  },
  {
   "cell_type": "markdown",
   "id": "b2b65c82-64f9-446c-bcf1-6e4a2db45e7e",
   "metadata": {},
   "source": [
    "# Documentation for ```pyDbs.adj```"
   ]
  },
  {
   "cell_type": "code",
   "execution_count": 2,
   "id": "a50452ac-2329-4217-a70e-898e07c3547d",
   "metadata": {},
   "outputs": [],
   "source": [
    "pd.set_option('display.max_rows', 5)"
   ]
  },
  {
   "cell_type": "markdown",
   "id": "033b5384-089b-47be-9ea9-32a20ffe8048",
   "metadata": {},
   "source": [
    "A helper class used to adjust pandas objects (series, dataframes, indices). The class only defines staticmethods. Here, we discuss the main method that is frequently used in other classes, namely the ```adj.rc_pd``` method. This method allows for adjustments to pandas objects in different ways that are all based on the domains defined as ```pd.Index``` instances. In general, the method allows for three types of adjustments to be made to a given symbol: \n",
    "1. Adjustment to the symbol indices through ```lag``` specification. This allows to lag specified index levels in the symbol.\n",
    "2. Adjustment to the symbol domains through ```alias``` specification. This maps the domain names of pandas indices to new ones.\n",
    "3. Adjustment to the symbol through conditions (```c```). Conditions can be added quite flexibly, but ultimately relies on matching the underlying pands indices of the condition and the symbol.\n",
    "\n",
    "Here, we go through each of them in turn and expand a bit on how it work."
   ]
  },
  {
   "cell_type": "markdown",
   "id": "b977c94f-c704-4a69-a7ec-d4c77acdb532",
   "metadata": {},
   "source": [
    "*Define some pandas series, dataframes, and indices:*"
   ]
  },
  {
   "cell_type": "code",
   "execution_count": 3,
   "id": "67dbdd14-25ea-4371-aa17-7da514f09f55",
   "metadata": {},
   "outputs": [],
   "source": [
    "idx1 = pd.Index(range(10), name = 'a')\n",
    "idx2 = pd.Index(range(11,15), name = 'b')\n",
    "mIdx1 = pd.MultiIndex.from_product([idx1,idx2])\n",
    "mIdx2 = pd.MultiIndex.from_arrays([idx1[0:4], idx2[0:4]])\n",
    "s1 = pd.Series(range(len(idx1)), index = idx1, name = 's1')\n",
    "s2 = pd.Series(range(len(idx2[2:])), index = idx2[2:], name = 's2')\n",
    "s3 = pd.Series(range(len(mIdx1[0:20])), index = mIdx1[0:20], name = 's3')\n",
    "s4 = pd.Series(range(len(mIdx2)), index = mIdx2, name = 's4')\n",
    "df = pd.DataFrame(np.vstack([range(len(mIdx1)), range(len(mIdx1))]).T, index = mIdx1, columns = ['c1','c2'])"
   ]
  },
  {
   "cell_type": "markdown",
   "id": "2db6b149-c7f3-4452-83b6-46bdc2f82813",
   "metadata": {},
   "source": [
    "## 1. Lag"
   ]
  },
  {
   "cell_type": "markdown",
   "id": "8eea0605-3e2e-4220-9fc6-985b073d4ad7",
   "metadata": {},
   "source": [
    "The method ```adj.rc_pd(s, c = None, alias = None, lag = None, pm = True, **kwargs)``` starts by adjusting the underlying index of a symbol ```s``` using the ```lag``` statement. If ```lag = None``` no adjustments are made. To lag relevant index levels, the ```lag``` argument should be a dictionary with key = domain of the symbol that we want to lag and key = the number of lags. Note that value = 1 is added to the index."
   ]
  },
  {
   "cell_type": "markdown",
   "id": "be84867f-ccf9-463f-b1fb-2681dab69a22",
   "metadata": {},
   "source": [
    "**Indices:**"
   ]
  },
  {
   "cell_type": "markdown",
   "id": "a02186b0-b5a4-45f7-8397-eabee2b31ec1",
   "metadata": {},
   "source": [
    "*Lag 1d index and compare to before*"
   ]
  },
  {
   "cell_type": "code",
   "execution_count": 4,
   "id": "469d8d0e-94dc-40eb-b7fe-90a8208ccc1f",
   "metadata": {},
   "outputs": [
    {
     "data": {
      "text/plain": [
       "a\n",
       "0     1\n",
       "1     2\n",
       "     ..\n",
       "8     9\n",
       "9    10\n",
       "Name: a, Length: 10, dtype: int64"
      ]
     },
     "execution_count": 4,
     "metadata": {},
     "output_type": "execute_result"
    }
   ],
   "source": [
    "pd.Series(adj.rc_pd(idx1, lag = {'a': 1}), index= idx1) # index is the original one, values in the series represents new values"
   ]
  },
  {
   "cell_type": "markdown",
   "id": "a1f5ebcf-0015-4a1f-8447-f51e7362abbb",
   "metadata": {},
   "source": [
    "*Lag 2d index and compare:*"
   ]
  },
  {
   "cell_type": "code",
   "execution_count": 5,
   "id": "1f49803b-3cab-4e17-a47d-df43100b80a6",
   "metadata": {},
   "outputs": [
    {
     "data": {
      "text/plain": [
       "a  b \n",
       "0  11     (1, 11)\n",
       "   12     (1, 12)\n",
       "           ...   \n",
       "9  13    (10, 13)\n",
       "   14    (10, 14)\n",
       "Length: 40, dtype: object"
      ]
     },
     "execution_count": 5,
     "metadata": {},
     "output_type": "execute_result"
    }
   ],
   "source": [
    "pd.Series(adj.rc_pd(mIdx1, lag = {'a': 1}).values, index= mIdx1) # index is the original one, values in the series represents new values)"
   ]
  },
  {
   "cell_type": "markdown",
   "id": "f7a1b7fb-8672-4636-b693-9a5f2969a2cd",
   "metadata": {},
   "source": [
    "*Lag both levels in a multiindex and compare:*"
   ]
  },
  {
   "cell_type": "code",
   "execution_count": 6,
   "id": "dbda2be5-c8d2-49a0-bff9-567e7e97f42c",
   "metadata": {},
   "outputs": [
    {
     "data": {
      "text/plain": [
       "a  b \n",
       "0  11    (1, 10)\n",
       "1  12    (2, 11)\n",
       "2  13    (3, 12)\n",
       "3  14    (4, 13)\n",
       "dtype: object"
      ]
     },
     "execution_count": 6,
     "metadata": {},
     "output_type": "execute_result"
    }
   ],
   "source": [
    "pd.Series(adj.rc_pd(mIdx2, lag = {'a': 1, 'b': -1}).values, index= mIdx2) # index is the original one, values in the series represents new values)"
   ]
  },
  {
   "cell_type": "markdown",
   "id": "4d20ba2f-e9c6-4ace-80f6-121b088d09a0",
   "metadata": {},
   "source": [
    "**Series and dataframes:** Other pandas are adjusted in a similar way - it is their underlying ```pd.Index``` instance that is passed to the lag methods. So we'll just provide one example:"
   ]
  },
  {
   "cell_type": "code",
   "execution_count": 7,
   "id": "9df57fad-d423-4da9-9da2-cb576e0a42d9",
   "metadata": {},
   "outputs": [
    {
     "data": {
      "text/plain": [
       "a\n",
       "1     0\n",
       "2     1\n",
       "     ..\n",
       "9     8\n",
       "10    9\n",
       "Name: s1, Length: 10, dtype: int64"
      ]
     },
     "execution_count": 7,
     "metadata": {},
     "output_type": "execute_result"
    }
   ],
   "source": [
    "adj.rc_pd(s1, lag = {'a':1}) # this returns a series where the value represents s1[a-1]; thus when a = 1 in the index, the value represents s1[0]"
   ]
  },
  {
   "cell_type": "code",
   "execution_count": 8,
   "id": "a790f8c6-6259-4fbf-8e18-f0199890aa19",
   "metadata": {},
   "outputs": [
    {
     "data": {
      "text/html": [
       "<div>\n",
       "<style scoped>\n",
       "    .dataframe tbody tr th:only-of-type {\n",
       "        vertical-align: middle;\n",
       "    }\n",
       "\n",
       "    .dataframe tbody tr th {\n",
       "        vertical-align: top;\n",
       "    }\n",
       "\n",
       "    .dataframe thead th {\n",
       "        text-align: right;\n",
       "    }\n",
       "</style>\n",
       "<table border=\"1\" class=\"dataframe\">\n",
       "  <thead>\n",
       "    <tr style=\"text-align: right;\">\n",
       "      <th></th>\n",
       "      <th></th>\n",
       "      <th>c1</th>\n",
       "      <th>c2</th>\n",
       "    </tr>\n",
       "    <tr>\n",
       "      <th>a</th>\n",
       "      <th>b</th>\n",
       "      <th></th>\n",
       "      <th></th>\n",
       "    </tr>\n",
       "  </thead>\n",
       "  <tbody>\n",
       "    <tr>\n",
       "      <th rowspan=\"2\" valign=\"top\">0</th>\n",
       "      <th>10</th>\n",
       "      <td>0</td>\n",
       "      <td>0</td>\n",
       "    </tr>\n",
       "    <tr>\n",
       "      <th>11</th>\n",
       "      <td>1</td>\n",
       "      <td>1</td>\n",
       "    </tr>\n",
       "    <tr>\n",
       "      <th>...</th>\n",
       "      <th>...</th>\n",
       "      <td>...</td>\n",
       "      <td>...</td>\n",
       "    </tr>\n",
       "    <tr>\n",
       "      <th rowspan=\"2\" valign=\"top\">9</th>\n",
       "      <th>12</th>\n",
       "      <td>38</td>\n",
       "      <td>38</td>\n",
       "    </tr>\n",
       "    <tr>\n",
       "      <th>13</th>\n",
       "      <td>39</td>\n",
       "      <td>39</td>\n",
       "    </tr>\n",
       "  </tbody>\n",
       "</table>\n",
       "<p>40 rows × 2 columns</p>\n",
       "</div>"
      ],
      "text/plain": [
       "      c1  c2\n",
       "a b         \n",
       "0 10   0   0\n",
       "  11   1   1\n",
       "...   ..  ..\n",
       "9 12  38  38\n",
       "  13  39  39\n",
       "\n",
       "[40 rows x 2 columns]"
      ]
     },
     "execution_count": 8,
     "metadata": {},
     "output_type": "execute_result"
    }
   ],
   "source": [
    "adj.rc_pd(df, lag = {'b':-1})"
   ]
  },
  {
   "cell_type": "markdown",
   "id": "d5cda893-e8af-4017-8f66-ccbf9a66fe2f",
   "metadata": {},
   "source": [
    "## 2. Alias"
   ]
  },
  {
   "cell_type": "markdown",
   "id": "1e2f2435-dfa3-4a59-b6ee-20dbbf443125",
   "metadata": {},
   "source": [
    "After potentially adjusting the index with lags, the alias statement maps to new domain names. This is straightforwardly done with a dictionary mapping from old to new names. If ```alias = None``` no adjustments are made in the ```rc_pd``` method."
   ]
  },
  {
   "cell_type": "markdown",
   "id": "8fb0320e-8025-414d-91b6-573196238396",
   "metadata": {},
   "source": [
    "**Indices:**"
   ]
  },
  {
   "cell_type": "markdown",
   "id": "ad887dc6-ea11-4d55-a322-1b1e8e862fd0",
   "metadata": {},
   "source": [
    "*Adjust name of 1d index to 'aa' instead of 'a':*"
   ]
  },
  {
   "cell_type": "code",
   "execution_count": 9,
   "id": "49c6c4cf-38f3-4d13-9c4e-bcd2fd79a94d",
   "metadata": {},
   "outputs": [
    {
     "data": {
      "text/plain": [
       "'aa'"
      ]
     },
     "execution_count": 9,
     "metadata": {},
     "output_type": "execute_result"
    }
   ],
   "source": [
    "adj.rc_pd(idx1, alias = {'a':'aa'}).name"
   ]
  },
  {
   "cell_type": "markdown",
   "id": "e99cd701-ece5-4ca0-9f7a-d23067c42215",
   "metadata": {},
   "source": [
    "*Adjust domains of 2d index:*"
   ]
  },
  {
   "cell_type": "code",
   "execution_count": 10,
   "id": "d7872aa9-92c2-4b9e-918d-1255798dec9c",
   "metadata": {},
   "outputs": [
    {
     "data": {
      "text/plain": [
       "FrozenList(['a', 'bb'])"
      ]
     },
     "execution_count": 10,
     "metadata": {},
     "output_type": "execute_result"
    }
   ],
   "source": [
    "adj.rc_pd(mIdx1, alias = {'b':'bb'}).names"
   ]
  },
  {
   "cell_type": "markdown",
   "id": "224507e9-18c0-4443-a89b-f468d3799dbb",
   "metadata": {},
   "source": [
    "*Adjust both names*"
   ]
  },
  {
   "cell_type": "code",
   "execution_count": 11,
   "id": "3820c71e-2e03-4714-ace7-391d80a53719",
   "metadata": {},
   "outputs": [
    {
     "data": {
      "text/plain": [
       "FrozenList(['mrPoxycat', 'bb'])"
      ]
     },
     "execution_count": 11,
     "metadata": {},
     "output_type": "execute_result"
    }
   ],
   "source": [
    "adj.rc_pd(mIdx1, alias = {'a':'mrPoxycat', 'b': 'bb'}).names"
   ]
  },
  {
   "cell_type": "markdown",
   "id": "ce3dc544-76cf-40fa-891a-90e7b1fb0da7",
   "metadata": {},
   "source": [
    "**Series and dataframes:** Adjustments are made to the underlying incides, the syntax is identical to when applied to indices."
   ]
  },
  {
   "cell_type": "markdown",
   "id": "78adbbc4-43c9-4b4d-b1f0-088009ccd552",
   "metadata": {},
   "source": [
    "## 3. Conditions"
   ]
  },
  {
   "cell_type": "markdown",
   "id": "bfb65192-4012-4917-91d5-5f3e93771f90",
   "metadata": {},
   "source": [
    "The final and most important feature is the condititions used to subset a symbol. The conditions (```c``` in the call ```self.rc_pd(s, c = None, alias = None, lag = None, pm = True, **kwargs)```) can be of different input types that can also nested in different ways. Ultimately, however, the condition structure boils down to a search for overlaps in the index of the symbol ```s``` and the conditions that we pass. "
   ]
  },
  {
   "cell_type": "markdown",
   "id": "f11adef7-42a0-48dc-92d3-440c7ea8da8c",
   "metadata": {},
   "source": [
    "### A. Passing a single pandas index, series, or dataframe"
   ]
  },
  {
   "cell_type": "markdown",
   "id": "1c293097-629e-4bfb-b96b-b94190d9ed5f",
   "metadata": {},
   "source": [
    "If ```c``` is a  pandas object (one of the three above), the method simply compares the index of the symbol ```s``` (or the symbol itself, if it is an index) with the index of the condition (or the condition itself, if it is an index). The ```pm``` argument specifies whether or not to look for *partial matches* when comparing the domains. The simplest way to illustrate the effect of this is to look at two indices that are defined over different domains ('a' and 'b' respectively): If ```pm=True```, we only subset the symbol ```s``` for the domains in the condition index that overlaps with domains of ```s```. Thus, when two symbols are defined over non-overlapping domains, we have:"
   ]
  },
  {
   "cell_type": "markdown",
   "id": "a8945f0f-4787-4c9a-bfc7-77c51084e68e",
   "metadata": {},
   "source": [
    "*Partial match with non-overlapping domains:*"
   ]
  },
  {
   "cell_type": "code",
   "execution_count": 12,
   "id": "41341a63-e6a9-49e6-8d8a-1f9009945d5b",
   "metadata": {},
   "outputs": [
    {
     "data": {
      "text/plain": [
       "Index([0, 1, 2, 3, 4, 5, 6, 7, 8, 9], dtype='int64', name='a')"
      ]
     },
     "execution_count": 12,
     "metadata": {},
     "output_type": "execute_result"
    }
   ],
   "source": [
    "adj.rc_pd(idx1, idx2, pm = True) # idx2 has no overlap in domains --> return full index"
   ]
  },
  {
   "cell_type": "markdown",
   "id": "5a29d812-091e-465b-a4bb-b802cc242d34",
   "metadata": {},
   "source": [
    "*Non partial match with non-overlapping domains:*"
   ]
  },
  {
   "cell_type": "code",
   "execution_count": 13,
   "id": "269a8f2d-86bb-4a01-ba53-e7b7a31e59e8",
   "metadata": {},
   "outputs": [
    {
     "data": {
      "text/plain": [
       "Index([], dtype='int64', name='a')"
      ]
     },
     "execution_count": 13,
     "metadata": {},
     "output_type": "execute_result"
    }
   ],
   "source": [
    "adj.rc_pd(idx1, idx2, pm = False) # idx2 has no overlap in domains --> return empty index"
   ]
  },
  {
   "cell_type": "markdown",
   "id": "025160ff-88e0-4b69-a74b-459f8c64f35f",
   "metadata": {},
   "source": [
    "Now let us consider an implication where domains actually overlap. For instance, ```s1``` is defined over the full index 'a'. and the index ```mIdx2``` is defined over only some of the values of 'a', but also another domain 'b'. In this case we get:"
   ]
  },
  {
   "cell_type": "markdown",
   "id": "50e8a30a-f2b6-4b28-a970-ce5a99c4db6b",
   "metadata": {},
   "source": [
    "*With ```pm = True``` this returns the elements where index domain 'a' overlaps in the two symbols:*"
   ]
  },
  {
   "cell_type": "code",
   "execution_count": 18,
   "id": "afb6ec92-57bc-4eba-8ab8-44c5e35de860",
   "metadata": {},
   "outputs": [
    {
     "data": {
      "text/plain": [
       "a\n",
       "0    0\n",
       "1    1\n",
       "2    2\n",
       "3    3\n",
       "Name: s1, dtype: int64"
      ]
     },
     "execution_count": 18,
     "metadata": {},
     "output_type": "execute_result"
    }
   ],
   "source": [
    "adj.rc_pd(s1, mIdx2, pm = True)"
   ]
  },
  {
   "cell_type": "markdown",
   "id": "c6983591-6dbf-4f0b-942a-ea9b69ca8cb2",
   "metadata": {},
   "source": [
    "With ```pm = False``` this returns an empty series, because the condition (```mIdx2```) also contains the domain 'b', which it cannot find any matches for in ```s1```:"
   ]
  },
  {
   "cell_type": "code",
   "execution_count": 19,
   "id": "804accde-7843-4814-b960-4120f2e0ef88",
   "metadata": {},
   "outputs": [
    {
     "data": {
      "text/plain": [
       "Series([], Name: s1, dtype: int64)"
      ]
     },
     "execution_count": 19,
     "metadata": {},
     "output_type": "execute_result"
    }
   ],
   "source": [
    "adj.rc_pd(s1, mIdx2, pm = False)"
   ]
  },
  {
   "cell_type": "markdown",
   "id": "bb01302e-3002-4036-a71e-b821f963ec3d",
   "metadata": {},
   "source": [
    "The ```pm = False``` has no effect if domains of the condition are all in the symbol domains:"
   ]
  },
  {
   "cell_type": "code",
   "execution_count": 22,
   "id": "18225d98-2145-450c-8eab-f8c15b84dea0",
   "metadata": {},
   "outputs": [
    {
     "data": {
      "text/plain": [
       "True"
      ]
     },
     "execution_count": 22,
     "metadata": {},
     "output_type": "execute_result"
    }
   ],
   "source": [
    "all(adj.rc_pd(s1, idx1, pm = True) == adj.rc_pd(s1, idx1, pm = False))"
   ]
  },
  {
   "cell_type": "markdown",
   "id": "cb0c182a-0fd7-497f-9b6e-a6f8783bb4c9",
   "metadata": {},
   "source": [
    "Once again, all methods are implemented such that they equally accept pandas series, dataframes, or indices; in the end, they only look at the index of the given object (which refers to the index itself if we pass an index)."
   ]
  },
  {
   "cell_type": "markdown",
   "id": "54f03b16-01dc-40d3-86b3-5650f86425e0",
   "metadata": {},
   "source": [
    "*The conditions can also be passed as series or dataframes instances, and the symbol can also be any of the three types:*"
   ]
  },
  {
   "cell_type": "code",
   "execution_count": 23,
   "id": "b63b8054-1192-43aa-9a65-d4fd2889a4a3",
   "metadata": {},
   "outputs": [
    {
     "data": {
      "text/plain": [
       "MultiIndex([(0, 11),\n",
       "            (1, 12),\n",
       "            (2, 13),\n",
       "            (3, 14)],\n",
       "           names=['a', 'b'])"
      ]
     },
     "execution_count": 23,
     "metadata": {},
     "output_type": "execute_result"
    }
   ],
   "source": [
    "adj.rc_pd(mIdx2, df) # returns the part of the multiindex that the dataframe is defined over as well."
   ]
  },
  {
   "cell_type": "markdown",
   "id": "450d8859-1527-44b9-8855-dfc45477a0cd",
   "metadata": {},
   "source": [
    "### B. Nested conditions - tuples"
   ]
  },
  {
   "cell_type": "markdown",
   "id": "7dfe9e26-06f0-474b-b6ff-529351dd9a70",
   "metadata": {},
   "source": [
    "We can also nest conditions by passing tuples. We allow for three kind of tuples to be passed:\n",
    "* Negation: Added using the tuple structure ```t = ('not', c)``` where ```c``` itself is a condition (or further nested conditions). This simply negates the condition ```c```.\n",
    "* And tuples: Added using the tuple structure ```t = ('and', [c1, ... ,cN])```, where each ```c1,..., cN``` are conditions (or further nested conditions). This requires that all conditions in the list holds.\n",
    "* Or tuples: Added using the tuple structure ```t = ('or', [c1,...,cN])```, where each ```c1,...,cN``` are conditions (or further nested conditions). In this case, we simply require one of the conditions in the list to hold. "
   ]
  },
  {
   "cell_type": "markdown",
   "id": "d1190960-5397-40d9-b3aa-1d49e6992b72",
   "metadata": {},
   "source": [
    "The tuple structure allows us to combine searches for domain overlaps in a generally nested fashion. The following provides some examples."
   ]
  },
  {
   "cell_type": "markdown",
   "id": "a2e67fb2-6d25-43d7-aab6-2949d3e8121a",
   "metadata": {},
   "source": [
    "*Simple negation:*"
   ]
  },
  {
   "cell_type": "code",
   "execution_count": 29,
   "id": "fdc39d0f-1720-455e-9fdf-602c83d3e4d4",
   "metadata": {},
   "outputs": [
    {
     "data": {
      "text/plain": [
       "a  b \n",
       "0  12     1\n",
       "   13     2\n",
       "         ..\n",
       "4  13    18\n",
       "   14    19\n",
       "Name: s3, Length: 16, dtype: int64"
      ]
     },
     "execution_count": 29,
     "metadata": {},
     "output_type": "execute_result"
    }
   ],
   "source": [
    "adj.rc_pd(s3, ('not', mIdx2)) # get elements in s3 that is not in the multiindex"
   ]
  },
  {
   "cell_type": "markdown",
   "id": "72de050f-e64d-4cad-96dc-1e7726f9d694",
   "metadata": {},
   "source": [
    "*Negation for combination of to indices (nested) - conditions do not have to share domains:*"
   ]
  },
  {
   "cell_type": "code",
   "execution_count": 30,
   "id": "37acc9ae-02bb-4f70-8cb4-b0161f5f3202",
   "metadata": {},
   "outputs": [
    {
     "data": {
      "text/plain": [
       "a  b \n",
       "0  13     2\n",
       "   14     3\n",
       "         ..\n",
       "4  13    18\n",
       "   14    19\n",
       "Name: s3, Length: 8, dtype: int64"
      ]
     },
     "execution_count": 30,
     "metadata": {},
     "output_type": "execute_result"
    }
   ],
   "source": [
    "adj.rc_pd(s3, ('not', ('or', [mIdx2, idx2[:2]])))"
   ]
  },
  {
   "cell_type": "markdown",
   "id": "1b72ea2a-3e88-4cea-8a70-3e8f7052d85c",
   "metadata": {},
   "source": [
    "*Three-level nesting, just to show the idea:*"
   ]
  },
  {
   "cell_type": "code",
   "execution_count": 31,
   "id": "e665b055-9c38-48d4-b65a-56e8a9011a19",
   "metadata": {},
   "outputs": [
    {
     "data": {
      "text/html": [
       "<div>\n",
       "<style scoped>\n",
       "    .dataframe tbody tr th:only-of-type {\n",
       "        vertical-align: middle;\n",
       "    }\n",
       "\n",
       "    .dataframe tbody tr th {\n",
       "        vertical-align: top;\n",
       "    }\n",
       "\n",
       "    .dataframe thead th {\n",
       "        text-align: right;\n",
       "    }\n",
       "</style>\n",
       "<table border=\"1\" class=\"dataframe\">\n",
       "  <thead>\n",
       "    <tr style=\"text-align: right;\">\n",
       "      <th></th>\n",
       "      <th></th>\n",
       "      <th>c1</th>\n",
       "      <th>c2</th>\n",
       "    </tr>\n",
       "    <tr>\n",
       "      <th>a</th>\n",
       "      <th>b</th>\n",
       "      <th></th>\n",
       "      <th></th>\n",
       "    </tr>\n",
       "  </thead>\n",
       "  <tbody>\n",
       "    <tr>\n",
       "      <th>0</th>\n",
       "      <th>12</th>\n",
       "      <td>1</td>\n",
       "      <td>1</td>\n",
       "    </tr>\n",
       "    <tr>\n",
       "      <th>1</th>\n",
       "      <th>11</th>\n",
       "      <td>4</td>\n",
       "      <td>4</td>\n",
       "    </tr>\n",
       "    <tr>\n",
       "      <th>...</th>\n",
       "      <th>...</th>\n",
       "      <td>...</td>\n",
       "      <td>...</td>\n",
       "    </tr>\n",
       "    <tr>\n",
       "      <th rowspan=\"2\" valign=\"top\">9</th>\n",
       "      <th>11</th>\n",
       "      <td>36</td>\n",
       "      <td>36</td>\n",
       "    </tr>\n",
       "    <tr>\n",
       "      <th>12</th>\n",
       "      <td>37</td>\n",
       "      <td>37</td>\n",
       "    </tr>\n",
       "  </tbody>\n",
       "</table>\n",
       "<p>18 rows × 2 columns</p>\n",
       "</div>"
      ],
      "text/plain": [
       "      c1  c2\n",
       "a b         \n",
       "0 12   1   1\n",
       "1 11   4   4\n",
       "...   ..  ..\n",
       "9 11  36  36\n",
       "  12  37  37\n",
       "\n",
       "[18 rows x 2 columns]"
      ]
     },
     "execution_count": 31,
     "metadata": {},
     "output_type": "execute_result"
    }
   ],
   "source": [
    "# Takes elements that are not either in mIdx2 or not in idx2[:2]\n",
    "adj.rc_pd(df, ('not', ('or', [mIdx2, ('not', idx2[:2])])))"
   ]
  }
 ],
 "metadata": {
  "kernelspec": {
   "display_name": "Python 3 (ipykernel)",
   "language": "python",
   "name": "python3"
  },
  "language_info": {
   "codemirror_mode": {
    "name": "ipython",
    "version": 3
   },
   "file_extension": ".py",
   "mimetype": "text/x-python",
   "name": "python",
   "nbconvert_exporter": "python",
   "pygments_lexer": "ipython3",
   "version": "3.13.5"
  }
 },
 "nbformat": 4,
 "nbformat_minor": 5
}
