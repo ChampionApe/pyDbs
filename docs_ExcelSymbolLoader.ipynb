{
 "cells": [
  {
   "cell_type": "code",
   "execution_count": 1,
   "id": "0c0bdcb8-a2f8-434b-93c5-161ee5f6188a",
   "metadata": {},
   "outputs": [],
   "source": [
    "import numpy as np, scipy, pandas as pd\n",
    "from pyDbs.__init__ import *"
   ]
  },
  {
   "cell_type": "markdown",
   "id": "ab688d70-114f-4c17-8753-a2ce88127e9b",
   "metadata": {},
   "source": [
    "# Documentation for ```pyDbs.ExcelSymbolLoader```"
   ]
  },
  {
   "cell_type": "code",
   "execution_count": 2,
   "id": "696f2c85",
   "metadata": {},
   "outputs": [],
   "source": [
    "pd.set_option('display.max_rows', 5)"
   ]
  },
  {
   "cell_type": "markdown",
   "id": "4933f9bf",
   "metadata": {},
   "source": [
    "A small loader for symbol-oriented Excel workbooks. The loader expects a README sheet that lists the sheets to load and the symbol type for each sheet. It builds pandas objects for three symbol types. Each sheet defines a single symbol based on the following structure:\n",
    "\n",
    "* `set`: Columns indicate index levels. Thus, a single columns is read in as `pd.Index`, 2+ columns are read in as `pd.MultiIndex`.\n",
    "* `variable`: Variables are read in as `pd.Series`. The values/data for the series is added in a column with name (in first row) matching the name of the symbol. This is a *requirement* for the method to work. All other columns are interpreted as index levels and added as `pd.Index`/`pd.MultiIndex` for the series.\n",
    "* `scalar`  - a single-column sheet named after the sheet; the first non-NA value is taken as a scalar.\n",
    "\n",
    "The loader stores all loaded objects in a dictionary keyed by sheet name and also returns a `__meta__` DataFrame with per-sheet metadata (Type, Unit, Index, Description)."
   ]
  },
  {
   "cell_type": "markdown",
   "id": "c9ed4549",
   "metadata": {},
   "source": [
    "## README sheet (minimum columns)\n",
    "The README sheet must contain at least the following columns:\n",
    "\n",
    "* `Sheet` - the sheet name in the workbook\n",
    "* `Type`  - one of `set`, `variable`, or `scalar`\n",
    "\n",
    "Optional documentation columns that are preserved in `__meta__`: `Unit`, `Index`, `Description`. `Index` is documentation-only and is not used for construction unless `validate_readme_index=True` is passed to the loader."
   ]
  },
  {
   "cell_type": "markdown",
   "id": "eb2dc8e3",
   "metadata": {},
   "source": [
    "### README example (tabular)\n",
    "\n",
    "| Sheet       | Type     | Unit | Index         | Description |\n",
    "|-------------|----------|------|---------------|-------------|\n",
    "| Countries   | set      | -    | name          | Country list|\n",
    "| Region      | variable | -    | country,year  | Region by year |\n",
    "| DiscountRate| scalar   | pct  |               | Default rate |"
   ]
  },
  {
   "cell_type": "markdown",
   "id": "6d26c583",
   "metadata": {},
   "source": [
    "## Details - `set` sheets\n",
    "* One or more columns. Column names become the level names for the resulting index and the order of columns in the sheet determines the level order.\n",
    "* If the sheet has exactly one column, the loader returns `pd.Index(df[col].dropna(), name=col)`.\n",
    "* If the sheet has 2 or more columns, the loader returns `pd.MultiIndex.from_frame(df[cols], names=cols)` after dropping rows that are entirely NA."
   ]
  },
  {
   "cell_type": "markdown",
   "id": "d96f6d56",
   "metadata": {},
   "source": [
    "## Details - `variable` sheets\n",
    "* The column containing values of the variable must equal the sheet name. All other columns (in sheet order) are treated as index levels.\n",
    "* The loader constructs a `pd.Series` indexed by the columns that are not the value column, and the series is named after the sheet."
   ]
  },
  {
   "cell_type": "markdown",
   "id": "1ce1ca5b",
   "metadata": {},
   "source": [
    "## Details - `scalar` sheets\n",
    "* A single column sheet whose column name equals the sheet name. The first non-NA cell in the column is returned as a Python scalar (int/float/string, depending on Excel value)."
   ]
  },
  {
   "cell_type": "code",
   "execution_count": 3,
   "id": "842b2215",
   "metadata": {},
   "outputs": [
    {
     "data": {
      "text/plain": [
       "['idxGen',\n",
       " 'idxF',\n",
       " 'idxEm',\n",
       " 'idxCons',\n",
       " 'pFuel',\n",
       " 'uEm',\n",
       " 'VOM',\n",
       " 'uFuel',\n",
       " 'taxEm',\n",
       " 'genCap',\n",
       " 'mwp',\n",
       " 'load',\n",
       " '__meta__']"
      ]
     },
     "execution_count": 3,
     "metadata": {},
     "output_type": "execute_result"
    }
   ],
   "source": [
    "# Example usage - pointing to an example workbook in `data/`\n",
    "loader = ExcelSymbolLoader(\"data/ReadExample.xlsx\")\n",
    "data = loader()\n",
    "# Top-level keys (symbols + '__meta__')\n",
    "list(data.keys())[:20]"
   ]
  },
  {
   "cell_type": "markdown",
   "id": "36847511",
   "metadata": {},
   "source": [
    "The loader returns a dictionary `data` where each key is a sheet name and the values are the constructed pandas objects. The special key `__meta__` is a DataFrame with per-sheet metadata. Typical access patterns:\n",
    "\n",
    "* `data['MySet']` -> `pd.Index` or `pd.MultiIndex`\n",
    "* `data['MyVariable']` -> `pd.Series`\n",
    "* `data['MyScalar']` -> scalar value\n",
    "* `data['__meta__']` -> `pd.DataFrame` with columns `Type`, `Unit`, `Index`, `Description`."
   ]
  },
  {
   "cell_type": "code",
   "execution_count": 4,
   "id": "1d215f3a-36ea-4100-9537-b47b53c5b73e",
   "metadata": {},
   "outputs": [
    {
     "data": {
      "text/plain": [
       "dict_keys(['idxGen', 'idxF', 'idxEm', 'idxCons', 'pFuel', 'uEm', 'VOM', 'uFuel', 'taxEm', 'genCap', 'mwp', 'load', '__meta__'])"
      ]
     },
     "execution_count": 4,
     "metadata": {},
     "output_type": "execute_result"
    }
   ],
   "source": [
    "data.keys()"
   ]
  },
  {
   "cell_type": "code",
   "execution_count": 5,
   "id": "403f89b4",
   "metadata": {},
   "outputs": [
    {
     "data": {
      "text/html": [
       "<div>\n",
       "<style scoped>\n",
       "    .dataframe tbody tr th:only-of-type {\n",
       "        vertical-align: middle;\n",
       "    }\n",
       "\n",
       "    .dataframe tbody tr th {\n",
       "        vertical-align: top;\n",
       "    }\n",
       "\n",
       "    .dataframe thead th {\n",
       "        text-align: right;\n",
       "    }\n",
       "</style>\n",
       "<table border=\"1\" class=\"dataframe\">\n",
       "  <thead>\n",
       "    <tr style=\"text-align: right;\">\n",
       "      <th></th>\n",
       "      <th>Type</th>\n",
       "      <th>Unit</th>\n",
       "      <th>Index</th>\n",
       "      <th>Description</th>\n",
       "    </tr>\n",
       "  </thead>\n",
       "  <tbody>\n",
       "    <tr>\n",
       "      <th>idxGen</th>\n",
       "      <td>set</td>\n",
       "      <td>-</td>\n",
       "      <td>idxGen</td>\n",
       "      <td>Generator technologies</td>\n",
       "    </tr>\n",
       "    <tr>\n",
       "      <th>idxF</th>\n",
       "      <td>set</td>\n",
       "      <td>-</td>\n",
       "      <td>idxF</td>\n",
       "      <td>Fuel types</td>\n",
       "    </tr>\n",
       "    <tr>\n",
       "      <th>...</th>\n",
       "      <td>...</td>\n",
       "      <td>...</td>\n",
       "      <td>...</td>\n",
       "      <td>...</td>\n",
       "    </tr>\n",
       "    <tr>\n",
       "      <th>mwp</th>\n",
       "      <td>variable</td>\n",
       "      <td>€/GJ</td>\n",
       "      <td>idxCons</td>\n",
       "      <td>Marginal willingness to pay</td>\n",
       "    </tr>\n",
       "    <tr>\n",
       "      <th>load</th>\n",
       "      <td>variable</td>\n",
       "      <td>GJ</td>\n",
       "      <td>idxCons</td>\n",
       "      <td>Load</td>\n",
       "    </tr>\n",
       "  </tbody>\n",
       "</table>\n",
       "<p>12 rows × 4 columns</p>\n",
       "</div>"
      ],
      "text/plain": [
       "            Type  Unit    Index                  Description\n",
       "idxGen       set     -   idxGen       Generator technologies\n",
       "idxF         set     -     idxF                   Fuel types\n",
       "...          ...   ...      ...                          ...\n",
       "mwp     variable  €/GJ  idxCons  Marginal willingness to pay\n",
       "load    variable    GJ  idxCons                         Load\n",
       "\n",
       "[12 rows x 4 columns]"
      ]
     },
     "execution_count": 5,
     "metadata": {},
     "output_type": "execute_result"
    }
   ],
   "source": [
    "# Example: inspect the metadata and a loaded symbol\n",
    "loader = ExcelSymbolLoader(\"data/ReadExample.xlsx\")\n",
    "data = loader()\n",
    "data['__meta__']\n",
    "# type(data['VOM'])\n",
    "# data['VOM']"
   ]
  },
  {
   "cell_type": "markdown",
   "id": "9f58e991",
   "metadata": {},
   "source": [
    "## Validation and errors\n",
    "* The README must contain `Sheet` and `Type` columns — a `ValueError` is raised otherwise.\n",
    "* If a sheet listed in README is not found in the workbook a `ValueError` is raised.\n",
    "* If a sheet's `Type` is unknown (not one of `set`, `variable`, `scalar`) a `ValueError` is raised.\n",
    "* Use `validate_readme_index=True` to ask the loader to check that the columns listed in README.Index are present in the sheet (presence-only check; order is not enforced)."
   ]
  },
  {
   "cell_type": "markdown",
   "id": "b0d693f2",
   "metadata": {},
   "source": [
    "## Notes and tips\n",
    "* The loader uses the sheet's own column names and order when constructing sets/multiindexes — README.Index is documentation-only unless validation is enabled.\n",
    "* Empty rows (rows with all-NA in the relevant columns) are dropped before constructing indexes.\n",
    "* The returned `__meta__` is useful to programmatically discover types and units for downstream processing."
   ]
  },
  {
   "cell_type": "markdown",
   "id": "5f08d442",
   "metadata": {},
   "source": [
    "See also: `docs_adj.ipynb`, `docs_Broadcast.ipynb`, and `docs_Gpy.ipynb` for examples of how symbols produced by this loader are used throughout the package."
   ]
  },
  {
   "cell_type": "markdown",
   "id": "dee7dffa",
   "metadata": {},
   "source": [
    "## Live examples and in-notebook tests\n",
    "The cells below open the example workbook in `data/` (if present), show the README, load symbols using `ExcelSymbolLoader`, and perform simple assertions that the loaded object types match the README `Type` entries. Run these cells in order inside the notebook."
   ]
  },
  {
   "cell_type": "code",
   "execution_count": 6,
   "id": "345ff10d",
   "metadata": {},
   "outputs": [
    {
     "name": "stdout",
     "output_type": "stream",
     "text": [
      "sheets = ['README', 'idxGen', 'idxF', 'idxEm', 'idxCons', 'pFuel', 'uEm', 'VOM', 'uFuel', 'taxEm', 'genCap', 'mwp', 'load']\n",
      "README (top rows):\n"
     ]
    },
    {
     "data": {
      "text/html": [
       "<div>\n",
       "<style scoped>\n",
       "    .dataframe tbody tr th:only-of-type {\n",
       "        vertical-align: middle;\n",
       "    }\n",
       "\n",
       "    .dataframe tbody tr th {\n",
       "        vertical-align: top;\n",
       "    }\n",
       "\n",
       "    .dataframe thead th {\n",
       "        text-align: right;\n",
       "    }\n",
       "</style>\n",
       "<table border=\"1\" class=\"dataframe\">\n",
       "  <thead>\n",
       "    <tr style=\"text-align: right;\">\n",
       "      <th></th>\n",
       "      <th>Sheet</th>\n",
       "      <th>Type</th>\n",
       "      <th>Unit</th>\n",
       "      <th>Index</th>\n",
       "      <th>Description</th>\n",
       "    </tr>\n",
       "  </thead>\n",
       "  <tbody>\n",
       "    <tr>\n",
       "      <th>0</th>\n",
       "      <td>idxGen</td>\n",
       "      <td>set</td>\n",
       "      <td>-</td>\n",
       "      <td>idxGen</td>\n",
       "      <td>Generator technologies</td>\n",
       "    </tr>\n",
       "    <tr>\n",
       "      <th>1</th>\n",
       "      <td>idxF</td>\n",
       "      <td>set</td>\n",
       "      <td>-</td>\n",
       "      <td>idxF</td>\n",
       "      <td>Fuel types</td>\n",
       "    </tr>\n",
       "    <tr>\n",
       "      <th>2</th>\n",
       "      <td>idxEm</td>\n",
       "      <td>set</td>\n",
       "      <td>-</td>\n",
       "      <td>idxEm</td>\n",
       "      <td>Emission types</td>\n",
       "    </tr>\n",
       "    <tr>\n",
       "      <th>3</th>\n",
       "      <td>idxCons</td>\n",
       "      <td>set</td>\n",
       "      <td>-</td>\n",
       "      <td>idxCons</td>\n",
       "      <td>Consumer classes</td>\n",
       "    </tr>\n",
       "    <tr>\n",
       "      <th>4</th>\n",
       "      <td>pFuel</td>\n",
       "      <td>variable</td>\n",
       "      <td>€/GJ</td>\n",
       "      <td>idxF</td>\n",
       "      <td>Fuel price by fuel</td>\n",
       "    </tr>\n",
       "  </tbody>\n",
       "</table>\n",
       "</div>"
      ],
      "text/plain": [
       "     Sheet      Type  Unit    Index             Description\n",
       "0   idxGen       set     -   idxGen  Generator technologies\n",
       "1     idxF       set     -     idxF              Fuel types\n",
       "2    idxEm       set     -    idxEm          Emission types\n",
       "3  idxCons       set     -  idxCons        Consumer classes\n",
       "4    pFuel  variable  €/GJ     idxF      Fuel price by fuel"
      ]
     },
     "metadata": {},
     "output_type": "display_data"
    }
   ],
   "source": [
    "# Preview workbook and README\n",
    "import pandas as pd, os\n",
    "p = 'data/ReadExample.xlsx'\n",
    "if not os.path.exists(p):\n",
    "    raise FileNotFoundError(f'Required example workbook not found at {p} - adjust the path or add the file to data/')\n",
    "xls = pd.ExcelFile(p)\n",
    "print('sheets =', xls.sheet_names)\n",
    "if 'README' in xls.sheet_names:\n",
    "    readme = pd.read_excel(xls, 'README')\n",
    "    print('README (top rows):')\n",
    "    display(readme.head())\n",
    "else:\n",
    "    print('No README sheet found in workbook; create one as described above.')"
   ]
  },
  {
   "cell_type": "code",
   "execution_count": 7,
   "id": "209aa8f2",
   "metadata": {},
   "outputs": [
    {
     "name": "stdout",
     "output_type": "stream",
     "text": [
      "Loaded keys (sample): ['idxGen', 'idxF', 'idxEm', 'idxCons', 'pFuel', 'uEm', 'VOM', 'uFuel', 'taxEm', 'genCap', 'mwp', 'load', '__meta__']\n"
     ]
    },
    {
     "data": {
      "text/html": [
       "<div>\n",
       "<style scoped>\n",
       "    .dataframe tbody tr th:only-of-type {\n",
       "        vertical-align: middle;\n",
       "    }\n",
       "\n",
       "    .dataframe tbody tr th {\n",
       "        vertical-align: top;\n",
       "    }\n",
       "\n",
       "    .dataframe thead th {\n",
       "        text-align: right;\n",
       "    }\n",
       "</style>\n",
       "<table border=\"1\" class=\"dataframe\">\n",
       "  <thead>\n",
       "    <tr style=\"text-align: right;\">\n",
       "      <th></th>\n",
       "      <th>Type</th>\n",
       "      <th>Unit</th>\n",
       "      <th>Index</th>\n",
       "      <th>Description</th>\n",
       "    </tr>\n",
       "  </thead>\n",
       "  <tbody>\n",
       "    <tr>\n",
       "      <th>idxGen</th>\n",
       "      <td>set</td>\n",
       "      <td>-</td>\n",
       "      <td>idxGen</td>\n",
       "      <td>Generator technologies</td>\n",
       "    </tr>\n",
       "    <tr>\n",
       "      <th>idxF</th>\n",
       "      <td>set</td>\n",
       "      <td>-</td>\n",
       "      <td>idxF</td>\n",
       "      <td>Fuel types</td>\n",
       "    </tr>\n",
       "    <tr>\n",
       "      <th>...</th>\n",
       "      <td>...</td>\n",
       "      <td>...</td>\n",
       "      <td>...</td>\n",
       "      <td>...</td>\n",
       "    </tr>\n",
       "    <tr>\n",
       "      <th>mwp</th>\n",
       "      <td>variable</td>\n",
       "      <td>€/GJ</td>\n",
       "      <td>idxCons</td>\n",
       "      <td>Marginal willingness to pay</td>\n",
       "    </tr>\n",
       "    <tr>\n",
       "      <th>load</th>\n",
       "      <td>variable</td>\n",
       "      <td>GJ</td>\n",
       "      <td>idxCons</td>\n",
       "      <td>Load</td>\n",
       "    </tr>\n",
       "  </tbody>\n",
       "</table>\n",
       "<p>12 rows × 4 columns</p>\n",
       "</div>"
      ],
      "text/plain": [
       "            Type  Unit    Index                  Description\n",
       "idxGen       set     -   idxGen       Generator technologies\n",
       "idxF         set     -     idxF                   Fuel types\n",
       "...          ...   ...      ...                          ...\n",
       "mwp     variable  €/GJ  idxCons  Marginal willingness to pay\n",
       "load    variable    GJ  idxCons                         Load\n",
       "\n",
       "[12 rows x 4 columns]"
      ]
     },
     "metadata": {},
     "output_type": "display_data"
    },
    {
     "name": "stdout",
     "output_type": "stream",
     "text": [
      "idxGen: expected set      -> loaded Index        : OK\n",
      "idxF: expected set      -> loaded Index        : OK\n",
      "idxEm: expected set      -> loaded Index        : OK\n",
      "idxCons: expected set      -> loaded Index        : OK\n",
      "pFuel: expected variable -> loaded Series       : OK\n",
      "uEm: expected variable -> loaded Series       : OK\n",
      "VOM: expected variable -> loaded Series       : OK\n",
      "uFuel: expected variable -> loaded Series       : OK\n",
      "taxEm: expected variable -> loaded Series       : OK\n",
      "genCap: expected variable -> loaded Series       : OK\n",
      "mwp: expected variable -> loaded Series       : OK\n",
      "load: expected variable -> loaded Series       : OK\n"
     ]
    }
   ],
   "source": [
    "# Run the loader and perform basic checks against README\n",
    "from pyDbs.base import ExcelSymbolLoader\n",
    "loader = ExcelSymbolLoader(p)\n",
    "data = loader()\n",
    "print('Loaded keys (sample):', list(data.keys())[:20])\n",
    "if '__meta__' in data:\n",
    "    display(data['__meta__'])\n",
    "# If README was present, iterate and check types\n",
    "if 'readme' in globals():\n",
    "    for _, row in readme.iterrows():\n",
    "        sheet = str(row['Sheet'])\n",
    "        typ = str(row['Type']).strip().lower()\n",
    "        if sheet == 'README':\n",
    "            continue\n",
    "        if sheet not in data:\n",
    "            print(f'Sheet listed in README not loaded: {sheet}')\n",
    "            continue\n",
    "        obj = data[sheet]\n",
    "        ok = False\n",
    "        try:\n",
    "            if typ == 'set':\n",
    "                ok = isinstance(obj, (pd.Index, pd.MultiIndex))\n",
    "            elif typ == 'variable':\n",
    "                ok = isinstance(obj, pd.Series)\n",
    "            elif typ == 'scalar':\n",
    "                ok = not isinstance(obj, (pd.Series, pd.Index, pd.DataFrame))\n",
    "            else:\n",
    "                print(f'Unknown README.Type: {typ} for sheet {sheet}')\n",
    "            print(f'{sheet}: expected {typ:8} -> loaded {type(obj).__name__:12} :', 'OK' if ok else 'MISMATCH')\n",
    "        except Exception as e:\n",
    "            print(f'Error checking {sheet}:', e)"
   ]
  },
  {
   "cell_type": "code",
   "execution_count": 8,
   "id": "572916b8",
   "metadata": {},
   "outputs": [
    {
     "name": "stdout",
     "output_type": "stream",
     "text": [
      "--- idxGen (set)\n",
      "type: <class 'pandas.core.indexes.base.Index'>\n",
      "names: ['idxGen']\n"
     ]
    },
    {
     "data": {
      "text/plain": [
       "Index(['wind', 'solar', 'nuclear', 'biomass', 'natgas', 'coal'], dtype='object', name='idxGen')"
      ]
     },
     "metadata": {},
     "output_type": "display_data"
    },
    {
     "name": "stdout",
     "output_type": "stream",
     "text": [
      "--- pFuel (variable)\n",
      "type: <class 'pandas.core.series.Series'>\n",
      "index names: ['idxF']\n"
     ]
    },
    {
     "data": {
      "text/plain": [
       "idxF\n",
       "coal       2.5\n",
       "natgas     8.0\n",
       "biomass    4.0\n",
       "uranium    0.5\n",
       "none       0.0\n",
       "Name: pFuel, dtype: float64"
      ]
     },
     "metadata": {},
     "output_type": "display_data"
    }
   ],
   "source": [
    "# Show one example per type (if present)\n",
    "def show_example_for_type(data, readme, want_type):\n",
    "    for _, row in readme.iterrows():\n",
    "        sheet = str(row['Sheet'])\n",
    "        typ = str(row['Type']).strip().lower()\n",
    "        if typ != want_type or sheet == 'README':\n",
    "            continue\n",
    "        obj = data.get(sheet)\n",
    "        print('---', sheet, f'({typ})')\n",
    "        if want_type == 'set':\n",
    "            # Index-like object\n",
    "            print('type:', type(obj))\n",
    "            try: print('names:', getattr(obj, 'names', None))\n",
    "            except: pass\n",
    "            display(obj[:20] if hasattr(obj, '__getitem__') else obj)\n",
    "        elif want_type == 'variable':\n",
    "            print('type:', type(obj))\n",
    "            try: print('index names:', obj.index.names)\n",
    "            except: pass\n",
    "            display(obj.head())\n",
    "        elif want_type == 'scalar':\n",
    "            print('value:', obj)\n",
    "        break\n",
    "\n",
    "if 'readme' in globals():\n",
    "    show_example_for_type(data, readme, 'set')\n",
    "    show_example_for_type(data, readme, 'variable')\n",
    "    show_example_for_type(data, readme, 'scalar')\n",
    "else:\n",
    "    print('README not available; run the previous cell to load it.')"
   ]
  },
  {
   "cell_type": "code",
   "execution_count": 9,
   "id": "0255db56",
   "metadata": {},
   "outputs": [
    {
     "name": "stdout",
     "output_type": "stream",
     "text": [
      "sheets = ['README', 'idxGen', 'idxF', 'idxEm', 'idxCons', 'pFuel', 'uEm', 'VOM', 'uFuel', 'taxEm', 'genCap', 'mwp', 'load']\n",
      "Sheet: idxGen\n",
      " columns -> ['idxGen']\n"
     ]
    },
    {
     "data": {
      "text/html": [
       "<div>\n",
       "<style scoped>\n",
       "    .dataframe tbody tr th:only-of-type {\n",
       "        vertical-align: middle;\n",
       "    }\n",
       "\n",
       "    .dataframe tbody tr th {\n",
       "        vertical-align: top;\n",
       "    }\n",
       "\n",
       "    .dataframe thead th {\n",
       "        text-align: right;\n",
       "    }\n",
       "</style>\n",
       "<table border=\"1\" class=\"dataframe\">\n",
       "  <thead>\n",
       "    <tr style=\"text-align: right;\">\n",
       "      <th></th>\n",
       "      <th>idxGen</th>\n",
       "    </tr>\n",
       "  </thead>\n",
       "  <tbody>\n",
       "    <tr>\n",
       "      <th>0</th>\n",
       "      <td>wind</td>\n",
       "    </tr>\n",
       "    <tr>\n",
       "      <th>1</th>\n",
       "      <td>solar</td>\n",
       "    </tr>\n",
       "    <tr>\n",
       "      <th>2</th>\n",
       "      <td>nuclear</td>\n",
       "    </tr>\n",
       "    <tr>\n",
       "      <th>3</th>\n",
       "      <td>biomass</td>\n",
       "    </tr>\n",
       "    <tr>\n",
       "      <th>4</th>\n",
       "      <td>natgas</td>\n",
       "    </tr>\n",
       "  </tbody>\n",
       "</table>\n",
       "</div>"
      ],
      "text/plain": [
       "    idxGen\n",
       "0     wind\n",
       "1    solar\n",
       "2  nuclear\n",
       "3  biomass\n",
       "4   natgas"
      ]
     },
     "metadata": {},
     "output_type": "display_data"
    },
    {
     "name": "stdout",
     "output_type": "stream",
     "text": [
      "Sheet: idxF\n",
      " columns -> ['idxF']\n"
     ]
    },
    {
     "data": {
      "text/html": [
       "<div>\n",
       "<style scoped>\n",
       "    .dataframe tbody tr th:only-of-type {\n",
       "        vertical-align: middle;\n",
       "    }\n",
       "\n",
       "    .dataframe tbody tr th {\n",
       "        vertical-align: top;\n",
       "    }\n",
       "\n",
       "    .dataframe thead th {\n",
       "        text-align: right;\n",
       "    }\n",
       "</style>\n",
       "<table border=\"1\" class=\"dataframe\">\n",
       "  <thead>\n",
       "    <tr style=\"text-align: right;\">\n",
       "      <th></th>\n",
       "      <th>idxF</th>\n",
       "    </tr>\n",
       "  </thead>\n",
       "  <tbody>\n",
       "    <tr>\n",
       "      <th>0</th>\n",
       "      <td>coal</td>\n",
       "    </tr>\n",
       "    <tr>\n",
       "      <th>1</th>\n",
       "      <td>natgas</td>\n",
       "    </tr>\n",
       "    <tr>\n",
       "      <th>2</th>\n",
       "      <td>biomass</td>\n",
       "    </tr>\n",
       "    <tr>\n",
       "      <th>3</th>\n",
       "      <td>uranium</td>\n",
       "    </tr>\n",
       "    <tr>\n",
       "      <th>4</th>\n",
       "      <td>none</td>\n",
       "    </tr>\n",
       "  </tbody>\n",
       "</table>\n",
       "</div>"
      ],
      "text/plain": [
       "      idxF\n",
       "0     coal\n",
       "1   natgas\n",
       "2  biomass\n",
       "3  uranium\n",
       "4     none"
      ]
     },
     "metadata": {},
     "output_type": "display_data"
    },
    {
     "name": "stdout",
     "output_type": "stream",
     "text": [
      "Sheet: idxEm\n",
      " columns -> ['idxEm']\n"
     ]
    },
    {
     "data": {
      "text/html": [
       "<div>\n",
       "<style scoped>\n",
       "    .dataframe tbody tr th:only-of-type {\n",
       "        vertical-align: middle;\n",
       "    }\n",
       "\n",
       "    .dataframe tbody tr th {\n",
       "        vertical-align: top;\n",
       "    }\n",
       "\n",
       "    .dataframe thead th {\n",
       "        text-align: right;\n",
       "    }\n",
       "</style>\n",
       "<table border=\"1\" class=\"dataframe\">\n",
       "  <thead>\n",
       "    <tr style=\"text-align: right;\">\n",
       "      <th></th>\n",
       "      <th>idxEm</th>\n",
       "    </tr>\n",
       "  </thead>\n",
       "  <tbody>\n",
       "    <tr>\n",
       "      <th>0</th>\n",
       "      <td>CO2</td>\n",
       "    </tr>\n",
       "  </tbody>\n",
       "</table>\n",
       "</div>"
      ],
      "text/plain": [
       "  idxEm\n",
       "0   CO2"
      ]
     },
     "metadata": {},
     "output_type": "display_data"
    },
    {
     "name": "stdout",
     "output_type": "stream",
     "text": [
      "Sheet: idxCons\n",
      " columns -> ['idxCons']\n"
     ]
    },
    {
     "data": {
      "text/html": [
       "<div>\n",
       "<style scoped>\n",
       "    .dataframe tbody tr th:only-of-type {\n",
       "        vertical-align: middle;\n",
       "    }\n",
       "\n",
       "    .dataframe tbody tr th {\n",
       "        vertical-align: top;\n",
       "    }\n",
       "\n",
       "    .dataframe thead th {\n",
       "        text-align: right;\n",
       "    }\n",
       "</style>\n",
       "<table border=\"1\" class=\"dataframe\">\n",
       "  <thead>\n",
       "    <tr style=\"text-align: right;\">\n",
       "      <th></th>\n",
       "      <th>idxCons</th>\n",
       "    </tr>\n",
       "  </thead>\n",
       "  <tbody>\n",
       "    <tr>\n",
       "      <th>0</th>\n",
       "      <td>residential</td>\n",
       "    </tr>\n",
       "    <tr>\n",
       "      <th>1</th>\n",
       "      <td>industrial</td>\n",
       "    </tr>\n",
       "  </tbody>\n",
       "</table>\n",
       "</div>"
      ],
      "text/plain": [
       "       idxCons\n",
       "0  residential\n",
       "1   industrial"
      ]
     },
     "metadata": {},
     "output_type": "display_data"
    },
    {
     "name": "stdout",
     "output_type": "stream",
     "text": [
      "Sheet: pFuel\n",
      " columns -> ['idxF', 'pFuel']\n"
     ]
    },
    {
     "data": {
      "text/html": [
       "<div>\n",
       "<style scoped>\n",
       "    .dataframe tbody tr th:only-of-type {\n",
       "        vertical-align: middle;\n",
       "    }\n",
       "\n",
       "    .dataframe tbody tr th {\n",
       "        vertical-align: top;\n",
       "    }\n",
       "\n",
       "    .dataframe thead th {\n",
       "        text-align: right;\n",
       "    }\n",
       "</style>\n",
       "<table border=\"1\" class=\"dataframe\">\n",
       "  <thead>\n",
       "    <tr style=\"text-align: right;\">\n",
       "      <th></th>\n",
       "      <th>idxF</th>\n",
       "      <th>pFuel</th>\n",
       "    </tr>\n",
       "  </thead>\n",
       "  <tbody>\n",
       "    <tr>\n",
       "      <th>0</th>\n",
       "      <td>coal</td>\n",
       "      <td>2.5</td>\n",
       "    </tr>\n",
       "    <tr>\n",
       "      <th>1</th>\n",
       "      <td>natgas</td>\n",
       "      <td>8.0</td>\n",
       "    </tr>\n",
       "    <tr>\n",
       "      <th>2</th>\n",
       "      <td>biomass</td>\n",
       "      <td>4.0</td>\n",
       "    </tr>\n",
       "    <tr>\n",
       "      <th>3</th>\n",
       "      <td>uranium</td>\n",
       "      <td>0.5</td>\n",
       "    </tr>\n",
       "    <tr>\n",
       "      <th>4</th>\n",
       "      <td>none</td>\n",
       "      <td>0.0</td>\n",
       "    </tr>\n",
       "  </tbody>\n",
       "</table>\n",
       "</div>"
      ],
      "text/plain": [
       "      idxF  pFuel\n",
       "0     coal    2.5\n",
       "1   natgas    8.0\n",
       "2  biomass    4.0\n",
       "3  uranium    0.5\n",
       "4     none    0.0"
      ]
     },
     "metadata": {},
     "output_type": "display_data"
    },
    {
     "name": "stdout",
     "output_type": "stream",
     "text": [
      "Sheet: uEm\n",
      " columns -> ['idxF', 'idxEm', 'uEm']\n"
     ]
    },
    {
     "data": {
      "text/html": [
       "<div>\n",
       "<style scoped>\n",
       "    .dataframe tbody tr th:only-of-type {\n",
       "        vertical-align: middle;\n",
       "    }\n",
       "\n",
       "    .dataframe tbody tr th {\n",
       "        vertical-align: top;\n",
       "    }\n",
       "\n",
       "    .dataframe thead th {\n",
       "        text-align: right;\n",
       "    }\n",
       "</style>\n",
       "<table border=\"1\" class=\"dataframe\">\n",
       "  <thead>\n",
       "    <tr style=\"text-align: right;\">\n",
       "      <th></th>\n",
       "      <th>idxF</th>\n",
       "      <th>idxEm</th>\n",
       "      <th>uEm</th>\n",
       "    </tr>\n",
       "  </thead>\n",
       "  <tbody>\n",
       "    <tr>\n",
       "      <th>0</th>\n",
       "      <td>coal</td>\n",
       "      <td>CO2</td>\n",
       "      <td>0.094</td>\n",
       "    </tr>\n",
       "    <tr>\n",
       "      <th>1</th>\n",
       "      <td>natgas</td>\n",
       "      <td>CO2</td>\n",
       "      <td>0.056</td>\n",
       "    </tr>\n",
       "    <tr>\n",
       "      <th>2</th>\n",
       "      <td>biomass</td>\n",
       "      <td>CO2</td>\n",
       "      <td>0.000</td>\n",
       "    </tr>\n",
       "    <tr>\n",
       "      <th>3</th>\n",
       "      <td>uranium</td>\n",
       "      <td>CO2</td>\n",
       "      <td>0.001</td>\n",
       "    </tr>\n",
       "    <tr>\n",
       "      <th>4</th>\n",
       "      <td>none</td>\n",
       "      <td>CO2</td>\n",
       "      <td>0.000</td>\n",
       "    </tr>\n",
       "  </tbody>\n",
       "</table>\n",
       "</div>"
      ],
      "text/plain": [
       "      idxF idxEm    uEm\n",
       "0     coal   CO2  0.094\n",
       "1   natgas   CO2  0.056\n",
       "2  biomass   CO2  0.000\n",
       "3  uranium   CO2  0.001\n",
       "4     none   CO2  0.000"
      ]
     },
     "metadata": {},
     "output_type": "display_data"
    },
    {
     "name": "stdout",
     "output_type": "stream",
     "text": [
      "Sheet: VOM\n",
      " columns -> ['idxGen', 'VOM']\n"
     ]
    },
    {
     "data": {
      "text/html": [
       "<div>\n",
       "<style scoped>\n",
       "    .dataframe tbody tr th:only-of-type {\n",
       "        vertical-align: middle;\n",
       "    }\n",
       "\n",
       "    .dataframe tbody tr th {\n",
       "        vertical-align: top;\n",
       "    }\n",
       "\n",
       "    .dataframe thead th {\n",
       "        text-align: right;\n",
       "    }\n",
       "</style>\n",
       "<table border=\"1\" class=\"dataframe\">\n",
       "  <thead>\n",
       "    <tr style=\"text-align: right;\">\n",
       "      <th></th>\n",
       "      <th>idxGen</th>\n",
       "      <th>VOM</th>\n",
       "    </tr>\n",
       "  </thead>\n",
       "  <tbody>\n",
       "    <tr>\n",
       "      <th>0</th>\n",
       "      <td>wind</td>\n",
       "      <td>1.0</td>\n",
       "    </tr>\n",
       "    <tr>\n",
       "      <th>1</th>\n",
       "      <td>solar</td>\n",
       "      <td>1.0</td>\n",
       "    </tr>\n",
       "    <tr>\n",
       "      <th>2</th>\n",
       "      <td>nuclear</td>\n",
       "      <td>0.5</td>\n",
       "    </tr>\n",
       "    <tr>\n",
       "      <th>3</th>\n",
       "      <td>biomass</td>\n",
       "      <td>2.0</td>\n",
       "    </tr>\n",
       "    <tr>\n",
       "      <th>4</th>\n",
       "      <td>natgas</td>\n",
       "      <td>3.0</td>\n",
       "    </tr>\n",
       "  </tbody>\n",
       "</table>\n",
       "</div>"
      ],
      "text/plain": [
       "    idxGen  VOM\n",
       "0     wind  1.0\n",
       "1    solar  1.0\n",
       "2  nuclear  0.5\n",
       "3  biomass  2.0\n",
       "4   natgas  3.0"
      ]
     },
     "metadata": {},
     "output_type": "display_data"
    },
    {
     "name": "stdout",
     "output_type": "stream",
     "text": [
      "Sheet: uFuel\n",
      " columns -> ['idxF', 'idxGen', 'uFuel']\n"
     ]
    },
    {
     "data": {
      "text/html": [
       "<div>\n",
       "<style scoped>\n",
       "    .dataframe tbody tr th:only-of-type {\n",
       "        vertical-align: middle;\n",
       "    }\n",
       "\n",
       "    .dataframe tbody tr th {\n",
       "        vertical-align: top;\n",
       "    }\n",
       "\n",
       "    .dataframe thead th {\n",
       "        text-align: right;\n",
       "    }\n",
       "</style>\n",
       "<table border=\"1\" class=\"dataframe\">\n",
       "  <thead>\n",
       "    <tr style=\"text-align: right;\">\n",
       "      <th></th>\n",
       "      <th>idxF</th>\n",
       "      <th>idxGen</th>\n",
       "      <th>uFuel</th>\n",
       "    </tr>\n",
       "  </thead>\n",
       "  <tbody>\n",
       "    <tr>\n",
       "      <th>0</th>\n",
       "      <td>coal</td>\n",
       "      <td>coal</td>\n",
       "      <td>2.8</td>\n",
       "    </tr>\n",
       "    <tr>\n",
       "      <th>1</th>\n",
       "      <td>natgas</td>\n",
       "      <td>natgas</td>\n",
       "      <td>2.3</td>\n",
       "    </tr>\n",
       "    <tr>\n",
       "      <th>2</th>\n",
       "      <td>biomass</td>\n",
       "      <td>biomass</td>\n",
       "      <td>3.0</td>\n",
       "    </tr>\n",
       "    <tr>\n",
       "      <th>3</th>\n",
       "      <td>uranium</td>\n",
       "      <td>nuclear</td>\n",
       "      <td>3.0</td>\n",
       "    </tr>\n",
       "    <tr>\n",
       "      <th>4</th>\n",
       "      <td>none</td>\n",
       "      <td>wind</td>\n",
       "      <td>0.0</td>\n",
       "    </tr>\n",
       "  </tbody>\n",
       "</table>\n",
       "</div>"
      ],
      "text/plain": [
       "      idxF   idxGen  uFuel\n",
       "0     coal     coal    2.8\n",
       "1   natgas   natgas    2.3\n",
       "2  biomass  biomass    3.0\n",
       "3  uranium  nuclear    3.0\n",
       "4     none     wind    0.0"
      ]
     },
     "metadata": {},
     "output_type": "display_data"
    },
    {
     "name": "stdout",
     "output_type": "stream",
     "text": [
      "Sheet: taxEm\n",
      " columns -> ['idxEm', 'taxEm']\n"
     ]
    },
    {
     "data": {
      "text/html": [
       "<div>\n",
       "<style scoped>\n",
       "    .dataframe tbody tr th:only-of-type {\n",
       "        vertical-align: middle;\n",
       "    }\n",
       "\n",
       "    .dataframe tbody tr th {\n",
       "        vertical-align: top;\n",
       "    }\n",
       "\n",
       "    .dataframe thead th {\n",
       "        text-align: right;\n",
       "    }\n",
       "</style>\n",
       "<table border=\"1\" class=\"dataframe\">\n",
       "  <thead>\n",
       "    <tr style=\"text-align: right;\">\n",
       "      <th></th>\n",
       "      <th>idxEm</th>\n",
       "      <th>taxEm</th>\n",
       "    </tr>\n",
       "  </thead>\n",
       "  <tbody>\n",
       "    <tr>\n",
       "      <th>0</th>\n",
       "      <td>CO2</td>\n",
       "      <td>50</td>\n",
       "    </tr>\n",
       "  </tbody>\n",
       "</table>\n",
       "</div>"
      ],
      "text/plain": [
       "  idxEm  taxEm\n",
       "0   CO2     50"
      ]
     },
     "metadata": {},
     "output_type": "display_data"
    },
    {
     "name": "stdout",
     "output_type": "stream",
     "text": [
      "Sheet: genCap\n",
      " columns -> ['idxGen', 'genCap']\n"
     ]
    },
    {
     "data": {
      "text/html": [
       "<div>\n",
       "<style scoped>\n",
       "    .dataframe tbody tr th:only-of-type {\n",
       "        vertical-align: middle;\n",
       "    }\n",
       "\n",
       "    .dataframe tbody tr th {\n",
       "        vertical-align: top;\n",
       "    }\n",
       "\n",
       "    .dataframe thead th {\n",
       "        text-align: right;\n",
       "    }\n",
       "</style>\n",
       "<table border=\"1\" class=\"dataframe\">\n",
       "  <thead>\n",
       "    <tr style=\"text-align: right;\">\n",
       "      <th></th>\n",
       "      <th>idxGen</th>\n",
       "      <th>genCap</th>\n",
       "    </tr>\n",
       "  </thead>\n",
       "  <tbody>\n",
       "    <tr>\n",
       "      <th>0</th>\n",
       "      <td>wind</td>\n",
       "      <td>720</td>\n",
       "    </tr>\n",
       "    <tr>\n",
       "      <th>1</th>\n",
       "      <td>solar</td>\n",
       "      <td>360</td>\n",
       "    </tr>\n",
       "    <tr>\n",
       "      <th>2</th>\n",
       "      <td>nuclear</td>\n",
       "      <td>3600</td>\n",
       "    </tr>\n",
       "    <tr>\n",
       "      <th>3</th>\n",
       "      <td>biomass</td>\n",
       "      <td>180</td>\n",
       "    </tr>\n",
       "    <tr>\n",
       "      <th>4</th>\n",
       "      <td>natgas</td>\n",
       "      <td>1440</td>\n",
       "    </tr>\n",
       "  </tbody>\n",
       "</table>\n",
       "</div>"
      ],
      "text/plain": [
       "    idxGen  genCap\n",
       "0     wind     720\n",
       "1    solar     360\n",
       "2  nuclear    3600\n",
       "3  biomass     180\n",
       "4   natgas    1440"
      ]
     },
     "metadata": {},
     "output_type": "display_data"
    },
    {
     "name": "stdout",
     "output_type": "stream",
     "text": [
      "Sheet: mwp\n",
      " columns -> ['idxCons', 'mwp']\n"
     ]
    },
    {
     "data": {
      "text/html": [
       "<div>\n",
       "<style scoped>\n",
       "    .dataframe tbody tr th:only-of-type {\n",
       "        vertical-align: middle;\n",
       "    }\n",
       "\n",
       "    .dataframe tbody tr th {\n",
       "        vertical-align: top;\n",
       "    }\n",
       "\n",
       "    .dataframe thead th {\n",
       "        text-align: right;\n",
       "    }\n",
       "</style>\n",
       "<table border=\"1\" class=\"dataframe\">\n",
       "  <thead>\n",
       "    <tr style=\"text-align: right;\">\n",
       "      <th></th>\n",
       "      <th>idxCons</th>\n",
       "      <th>mwp</th>\n",
       "    </tr>\n",
       "  </thead>\n",
       "  <tbody>\n",
       "    <tr>\n",
       "      <th>0</th>\n",
       "      <td>residential</td>\n",
       "      <td>30</td>\n",
       "    </tr>\n",
       "    <tr>\n",
       "      <th>1</th>\n",
       "      <td>industrial</td>\n",
       "      <td>25</td>\n",
       "    </tr>\n",
       "  </tbody>\n",
       "</table>\n",
       "</div>"
      ],
      "text/plain": [
       "       idxCons  mwp\n",
       "0  residential   30\n",
       "1   industrial   25"
      ]
     },
     "metadata": {},
     "output_type": "display_data"
    },
    {
     "name": "stdout",
     "output_type": "stream",
     "text": [
      "Sheet: load\n",
      " columns -> ['idxCons', 'load']\n"
     ]
    },
    {
     "data": {
      "text/html": [
       "<div>\n",
       "<style scoped>\n",
       "    .dataframe tbody tr th:only-of-type {\n",
       "        vertical-align: middle;\n",
       "    }\n",
       "\n",
       "    .dataframe tbody tr th {\n",
       "        vertical-align: top;\n",
       "    }\n",
       "\n",
       "    .dataframe thead th {\n",
       "        text-align: right;\n",
       "    }\n",
       "</style>\n",
       "<table border=\"1\" class=\"dataframe\">\n",
       "  <thead>\n",
       "    <tr style=\"text-align: right;\">\n",
       "      <th></th>\n",
       "      <th>idxCons</th>\n",
       "      <th>load</th>\n",
       "    </tr>\n",
       "  </thead>\n",
       "  <tbody>\n",
       "    <tr>\n",
       "      <th>0</th>\n",
       "      <td>residential</td>\n",
       "      <td>5000</td>\n",
       "    </tr>\n",
       "    <tr>\n",
       "      <th>1</th>\n",
       "      <td>industrial</td>\n",
       "      <td>8000</td>\n",
       "    </tr>\n",
       "  </tbody>\n",
       "</table>\n",
       "</div>"
      ],
      "text/plain": [
       "       idxCons  load\n",
       "0  residential  5000\n",
       "1   industrial  8000"
      ]
     },
     "metadata": {},
     "output_type": "display_data"
    }
   ],
   "source": [
    "# Inspect all sheets: show columns and a small preview per sheet\n",
    "import pandas as pd, os\n",
    "p = 'data/ReadExample.xlsx'\n",
    "if not os.path.exists(p):\n",
    "    raise FileNotFoundError(f'Required example workbook not found at {p} - add the file to data/')\n",
    "xls = pd.ExcelFile(p)\n",
    "print('sheets =', xls.sheet_names)\n",
    "for sheet in xls.sheet_names:\n",
    "    if sheet == 'README':\n",
    "        continue\n",
    "    df = pd.read_excel(xls, sheet_name=sheet)\n",
    "    print('Sheet:', sheet)\n",
    "    print(' columns ->', list(df.columns))\n",
    "    display(df.head())"
   ]
  },
  {
   "cell_type": "code",
   "execution_count": 10,
   "id": "6e0050fe",
   "metadata": {},
   "outputs": [
    {
     "data": {
      "text/html": [
       "<div>\n",
       "<style scoped>\n",
       "    .dataframe tbody tr th:only-of-type {\n",
       "        vertical-align: middle;\n",
       "    }\n",
       "\n",
       "    .dataframe tbody tr th {\n",
       "        vertical-align: top;\n",
       "    }\n",
       "\n",
       "    .dataframe thead th {\n",
       "        text-align: right;\n",
       "    }\n",
       "</style>\n",
       "<table border=\"1\" class=\"dataframe\">\n",
       "  <thead>\n",
       "    <tr style=\"text-align: right;\">\n",
       "      <th></th>\n",
       "      <th>Type</th>\n",
       "      <th>Unit</th>\n",
       "      <th>Index</th>\n",
       "      <th>Description</th>\n",
       "    </tr>\n",
       "  </thead>\n",
       "  <tbody>\n",
       "    <tr>\n",
       "      <th>idxGen</th>\n",
       "      <td>set</td>\n",
       "      <td>-</td>\n",
       "      <td>idxGen</td>\n",
       "      <td>Generator technologies</td>\n",
       "    </tr>\n",
       "    <tr>\n",
       "      <th>idxF</th>\n",
       "      <td>set</td>\n",
       "      <td>-</td>\n",
       "      <td>idxF</td>\n",
       "      <td>Fuel types</td>\n",
       "    </tr>\n",
       "    <tr>\n",
       "      <th>...</th>\n",
       "      <td>...</td>\n",
       "      <td>...</td>\n",
       "      <td>...</td>\n",
       "      <td>...</td>\n",
       "    </tr>\n",
       "    <tr>\n",
       "      <th>mwp</th>\n",
       "      <td>variable</td>\n",
       "      <td>€/GJ</td>\n",
       "      <td>idxCons</td>\n",
       "      <td>Marginal willingness to pay</td>\n",
       "    </tr>\n",
       "    <tr>\n",
       "      <th>load</th>\n",
       "      <td>variable</td>\n",
       "      <td>GJ</td>\n",
       "      <td>idxCons</td>\n",
       "      <td>Load</td>\n",
       "    </tr>\n",
       "  </tbody>\n",
       "</table>\n",
       "<p>12 rows × 4 columns</p>\n",
       "</div>"
      ],
      "text/plain": [
       "            Type  Unit    Index                  Description\n",
       "idxGen       set     -   idxGen       Generator technologies\n",
       "idxF         set     -     idxF                   Fuel types\n",
       "...          ...   ...      ...                          ...\n",
       "mwp     variable  €/GJ  idxCons  Marginal willingness to pay\n",
       "load    variable    GJ  idxCons                         Load\n",
       "\n",
       "[12 rows x 4 columns]"
      ]
     },
     "metadata": {},
     "output_type": "display_data"
    },
    {
     "name": "stdout",
     "output_type": "stream",
     "text": [
      "Sheet: idxGen   (Type: set)\n",
      " raw columns: ['idxGen']\n",
      " loader returned type: <class 'pandas.core.indexes.base.Index'>\n",
      " Construction: pd.Index(df_clean[\"idxGen\"].dropna(), name=\"idxGen\")\n"
     ]
    },
    {
     "data": {
      "text/plain": [
       "Index(['wind', 'solar', 'nuclear', 'biomass', 'natgas', 'coal'], dtype='object', name='idxGen')"
      ]
     },
     "metadata": {},
     "output_type": "display_data"
    },
    {
     "name": "stdout",
     "output_type": "stream",
     "text": [
      "Sheet: idxF   (Type: set)\n",
      " raw columns: ['idxF']\n",
      " loader returned type: <class 'pandas.core.indexes.base.Index'>\n",
      " Construction: pd.Index(df_clean[\"idxF\"].dropna(), name=\"idxF\")\n"
     ]
    },
    {
     "data": {
      "text/plain": [
       "Index(['coal', 'natgas', 'biomass', 'uranium', 'none'], dtype='object', name='idxF')"
      ]
     },
     "metadata": {},
     "output_type": "display_data"
    },
    {
     "name": "stdout",
     "output_type": "stream",
     "text": [
      "Sheet: idxEm   (Type: set)\n",
      " raw columns: ['idxEm']\n",
      " loader returned type: <class 'pandas.core.indexes.base.Index'>\n",
      " Construction: pd.Index(df_clean[\"idxEm\"].dropna(), name=\"idxEm\")\n"
     ]
    },
    {
     "data": {
      "text/plain": [
       "Index(['CO2'], dtype='object', name='idxEm')"
      ]
     },
     "metadata": {},
     "output_type": "display_data"
    },
    {
     "name": "stdout",
     "output_type": "stream",
     "text": [
      "Sheet: idxCons   (Type: set)\n",
      " raw columns: ['idxCons']\n",
      " loader returned type: <class 'pandas.core.indexes.base.Index'>\n",
      " Construction: pd.Index(df_clean[\"idxCons\"].dropna(), name=\"idxCons\")\n"
     ]
    },
    {
     "data": {
      "text/plain": [
       "Index(['residential', 'industrial'], dtype='object', name='idxCons')"
      ]
     },
     "metadata": {},
     "output_type": "display_data"
    },
    {
     "name": "stdout",
     "output_type": "stream",
     "text": [
      "Sheet: pFuel   (Type: variable)\n",
      " raw columns: ['idxF', 'pFuel']\n",
      " loader returned type: <class 'pandas.core.series.Series'>\n",
      " Interpreting value column -> pFuel\n",
      " Index columns -> ['idxF']\n"
     ]
    },
    {
     "data": {
      "text/plain": [
       "idxF\n",
       "coal       2.5\n",
       "natgas     8.0\n",
       "biomass    4.0\n",
       "uranium    0.5\n",
       "none       0.0\n",
       "Name: pFuel, dtype: float64"
      ]
     },
     "metadata": {},
     "output_type": "display_data"
    },
    {
     "name": "stdout",
     "output_type": "stream",
     "text": [
      "Sheet: uEm   (Type: variable)\n",
      " raw columns: ['idxF', 'idxEm', 'uEm']\n",
      " loader returned type: <class 'pandas.core.series.Series'>\n",
      " Interpreting value column -> uEm\n",
      " Index columns -> ['idxF', 'idxEm']\n"
     ]
    },
    {
     "data": {
      "text/plain": [
       "idxF     idxEm\n",
       "coal     CO2      0.094\n",
       "natgas   CO2      0.056\n",
       "biomass  CO2      0.000\n",
       "uranium  CO2      0.001\n",
       "none     CO2      0.000\n",
       "Name: uEm, dtype: float64"
      ]
     },
     "metadata": {},
     "output_type": "display_data"
    },
    {
     "name": "stdout",
     "output_type": "stream",
     "text": [
      "Sheet: VOM   (Type: variable)\n",
      " raw columns: ['idxGen', 'VOM']\n",
      " loader returned type: <class 'pandas.core.series.Series'>\n",
      " Interpreting value column -> VOM\n",
      " Index columns -> ['idxGen']\n"
     ]
    },
    {
     "data": {
      "text/plain": [
       "idxGen\n",
       "wind       1.0\n",
       "solar      1.0\n",
       "nuclear    0.5\n",
       "biomass    2.0\n",
       "natgas     3.0\n",
       "Name: VOM, dtype: float64"
      ]
     },
     "metadata": {},
     "output_type": "display_data"
    },
    {
     "name": "stdout",
     "output_type": "stream",
     "text": [
      "Sheet: uFuel   (Type: variable)\n",
      " raw columns: ['idxF', 'idxGen', 'uFuel']\n",
      " loader returned type: <class 'pandas.core.series.Series'>\n",
      " Interpreting value column -> uFuel\n",
      " Index columns -> ['idxF', 'idxGen']\n"
     ]
    },
    {
     "data": {
      "text/plain": [
       "idxF     idxGen \n",
       "coal     coal       2.8\n",
       "natgas   natgas     2.3\n",
       "biomass  biomass    3.0\n",
       "uranium  nuclear    3.0\n",
       "none     wind       0.0\n",
       "Name: uFuel, dtype: float64"
      ]
     },
     "metadata": {},
     "output_type": "display_data"
    },
    {
     "name": "stdout",
     "output_type": "stream",
     "text": [
      "Sheet: taxEm   (Type: variable)\n",
      " raw columns: ['idxEm', 'taxEm']\n",
      " loader returned type: <class 'pandas.core.series.Series'>\n",
      " Interpreting value column -> taxEm\n",
      " Index columns -> ['idxEm']\n"
     ]
    },
    {
     "data": {
      "text/plain": [
       "idxEm\n",
       "CO2    50\n",
       "Name: taxEm, dtype: int64"
      ]
     },
     "metadata": {},
     "output_type": "display_data"
    },
    {
     "name": "stdout",
     "output_type": "stream",
     "text": [
      "Sheet: genCap   (Type: variable)\n",
      " raw columns: ['idxGen', 'genCap']\n",
      " loader returned type: <class 'pandas.core.series.Series'>\n",
      " Interpreting value column -> genCap\n",
      " Index columns -> ['idxGen']\n"
     ]
    },
    {
     "data": {
      "text/plain": [
       "idxGen\n",
       "wind        720\n",
       "solar       360\n",
       "nuclear    3600\n",
       "biomass     180\n",
       "natgas     1440\n",
       "Name: genCap, dtype: int64"
      ]
     },
     "metadata": {},
     "output_type": "display_data"
    },
    {
     "name": "stdout",
     "output_type": "stream",
     "text": [
      "Sheet: mwp   (Type: variable)\n",
      " raw columns: ['idxCons', 'mwp']\n",
      " loader returned type: <class 'pandas.core.series.Series'>\n",
      " Interpreting value column -> mwp\n",
      " Index columns -> ['idxCons']\n"
     ]
    },
    {
     "data": {
      "text/plain": [
       "idxCons\n",
       "residential    30\n",
       "industrial     25\n",
       "Name: mwp, dtype: int64"
      ]
     },
     "metadata": {},
     "output_type": "display_data"
    },
    {
     "name": "stdout",
     "output_type": "stream",
     "text": [
      "Sheet: load   (Type: variable)\n",
      " raw columns: ['idxCons', 'load']\n",
      " loader returned type: <class 'pandas.core.series.Series'>\n",
      " Interpreting value column -> load\n",
      " Index columns -> ['idxCons']\n"
     ]
    },
    {
     "data": {
      "text/plain": [
       "idxCons\n",
       "residential    5000\n",
       "industrial     8000\n",
       "Name: load, dtype: int64"
      ]
     },
     "metadata": {},
     "output_type": "display_data"
    }
   ],
   "source": [
    "# Sheet-by-sheet demonstration: show how the loader constructs each object\n",
    "from pyDbs.base import ExcelSymbolLoader\n",
    "loader = ExcelSymbolLoader(p)\n",
    "data = loader()\n",
    "meta = data.get('__meta__') if '__meta__' in data else None\n",
    "if meta is not None:\n",
    "    display(meta)\n",
    "# iterate README if present, otherwise iterate meta index\n",
    "if 'readme' in globals():\n",
    "    rows = readme.itertuples(index=False)\n",
    "else:\n",
    "    rows = ((name, dict(Type=row['Type'])) for name,row in (data['__meta__'].iterrows() if '__meta__' in data else []))\n",
    "for r in rows:\n",
    "    # r may be namedtuple from readme or (name, dict) from meta fallback\n",
    "    try:\n",
    "        sheet = str(r.Sheet)\n",
    "        typ = str(r.Type).strip().lower()\n",
    "    except Exception:\n",
    "        sheet = r[0] if isinstance(r, tuple) else str(r)\n",
    "        typ = (r[1].get('Type') if isinstance(r[1], dict) else None) if isinstance(r, tuple) else None\n",
    "        typ = str(typ).strip().lower() if typ is not None else 'unknown'\n",
    "    if sheet == 'README':\n",
    "        continue\n",
    "    print(f'Sheet: {sheet}   (Type: {typ})')\n",
    "    raw = pd.read_excel(xls, sheet_name=sheet)\n",
    "    print(' raw columns:', list(raw.columns))\n",
    "    # Show loader result\n",
    "    obj = data.get(sheet)\n",
    "    print(' loader returned type:', type(obj))\n",
    "    # Show how to build it manually (demonstration)\n",
    "    cols = list(raw.columns)\n",
    "    df_clean = raw.dropna(how='all', subset=cols)\n",
    "    if typ == 'set':\n",
    "        if len(cols) == 1:\n",
    "            print(' Construction: pd.Index(df_clean[\"{0}\"].dropna(), name=\"{0}\")'.format(cols[0]))\n",
    "            display(pd.Index(df_clean[cols[0]].dropna(), name=cols[0]))\n",
    "        else:\n",
    "            print(' Construction: pd.MultiIndex.from_frame(df_clean[cols], names=cols)')\n",
    "            display(pd.MultiIndex.from_frame(df_clean[cols], names=cols).to_frame(index=False).head())\n",
    "    elif typ == 'variable':\n",
    "        value_col = sheet if sheet in cols else cols[-1]\n",
    "        index_cols = [c for c in cols if c != value_col]\n",
    "        print(' Interpreting value column ->', value_col)\n",
    "        print(' Index columns ->', index_cols)\n",
    "        if index_cols:\n",
    "            s = df_clean.set_index(index_cols)[value_col]\n",
    "            display(s.head())\n",
    "        else:\n",
    "            print(' No index columns found; raw values:')\n",
    "            display(df_clean[value_col].head())\n",
    "    elif typ == 'scalar':\n",
    "        col = sheet if sheet in cols else cols[0]\n",
    "        val = df_clean[col].dropna().iloc[0] if df_clean[col].dropna().shape[0] > 0 else None\n",
    "        print(' Scalar (first non-NA) ->', val)\n",
    "        print(' loader returned ->', obj)\n",
    "    else:\n",
    "        print(' Unknown type, raw preview:')\n",
    "        display(df_clean.head())"
   ]
  }
 ],
 "metadata": {
  "kernelspec": {
   "display_name": "Python 3 (ipykernel)",
   "language": "python",
   "name": "python3"
  },
  "language_info": {
   "codemirror_mode": {
    "name": "ipython",
    "version": 3
   },
   "file_extension": ".py",
   "mimetype": "text/x-python",
   "name": "python",
   "nbconvert_exporter": "python",
   "pygments_lexer": "ipython3",
   "version": "3.13.5"
  }
 },
 "nbformat": 4,
 "nbformat_minor": 5
}
