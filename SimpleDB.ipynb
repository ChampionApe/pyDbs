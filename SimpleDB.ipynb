{
 "cells": [
  {
   "cell_type": "code",
   "execution_count": 1,
   "id": "1d8457c4-9012-49b6-b685-ebb382383fd8",
   "metadata": {},
   "outputs": [],
   "source": [
    "import numpy as np, scipy, pandas as pd\n",
    "from pyDbs.__init__ import *"
   ]
  },
  {
   "cell_type": "markdown",
   "id": "6558b76f-871c-44f8-bca6-8ea9d5ba9f74",
   "metadata": {},
   "source": [
    "#  ```pyDbs.Gpy```"
   ]
  },
  {
   "cell_type": "markdown",
   "id": "d29283c6-d7d9-414a-b2f1-51968b85513d",
   "metadata": {},
   "source": [
    "Symbol class. Includes three subclasses: ```GpyVariable```, ```GpySet```, ```GpyScalar```. They can be initialized using the convenience \"create\" method."
   ]
  },
  {
   "cell_type": "markdown",
   "id": "f8dc9503-5974-4bda-a809-7dcf3a97251a",
   "metadata": {},
   "source": [
    "## ```GpySet```"
   ]
  },
  {
   "cell_type": "markdown",
   "id": "b9dd34e0-ed81-4d88-a43d-1cfc8c85dec0",
   "metadata": {},
   "source": [
    "*Main attributes:*\n",
    "* ```v```: The index symbol (pandas object).\n",
    "* ```name```,\n",
    "*  and ```type == 'set'```."
   ]
  },
  {
   "cell_type": "markdown",
   "id": "73723a2e-e113-4a6e-a560-8ec3e2a91550",
   "metadata": {},
   "source": [
    "*Tests:*"
   ]
  },
  {
   "cell_type": "markdown",
   "id": "4ad62f57-551f-4016-9df2-5a41194991c7",
   "metadata": {},
   "source": [
    "Initialize as ```pd.Index``` (or multiIndex):"
   ]
  },
  {
   "cell_type": "code",
   "execution_count": 2,
   "id": "1b75474d-2056-44ae-968a-2c27345c9672",
   "metadata": {},
   "outputs": [],
   "source": [
    "idx = pd.Index(range(10), name = 'testName')\n",
    "GpySetInst = GpySet(idx) # use GpySet class directly\n",
    "GpySetInst = Gpy.c(idx) # Convenience class accepts an index --> identifies as a set. "
   ]
  },
  {
   "cell_type": "markdown",
   "id": "6cc4efc3-3f9b-4d77-a1ea-bee5ea389d8e",
   "metadata": {},
   "source": [
    "Adjust the name of the symbol (can be different than the index name):"
   ]
  },
  {
   "cell_type": "code",
   "execution_count": 3,
   "id": "22686a45-ff96-49bc-bf5c-73a9e62c7d85",
   "metadata": {},
   "outputs": [],
   "source": [
    "GpySetInst = Gpy.c(idx, name = 'rook')"
   ]
  },
  {
   "cell_type": "markdown",
   "id": "7fac69ba-9ca4-477c-a9d3-23bee3208021",
   "metadata": {},
   "source": [
    "We can initialize from an instance as well; this simply creates a copy:"
   ]
  },
  {
   "cell_type": "code",
   "execution_count": 4,
   "id": "c805486a-0b7e-452d-a928-0b8f9c218c8b",
   "metadata": {},
   "outputs": [],
   "source": [
    "GpySetCopy = Gpy.c(GpySetInst)"
   ]
  },
  {
   "cell_type": "markdown",
   "id": "0b14fb6a-ceae-4350-b704-71aa5690a54b",
   "metadata": {},
   "source": [
    "*Properties/methods:*\n",
    "* ```index```: Returns ```self.v```.\n",
    "* ```__len__```: length of ```self.v```.\n",
    "* ```domains```: returns ```self.index.names```,\n",
    "* ```merge(symbol, priority = 'second', union = True, **kwargs)```:\n",
    "    * Merges the index ```self.v``` with pandas index in ```symbol```. Index domains has to be consistent.\n",
    "    * If ```priority == 'replace'```: Use index from symbol (drop ```self.v```). Else:\n",
    "    * If ```union == True```: Combine ```self.v``` with index ```symbol``` by ```pd.Index.union```,\n",
    "    * else: Combine ```self.v``` with index ```symbol``` by ```pd.Index.intersection```.\n",
    "* ```mergeGpy(symbol, priority = 'second', union = True, **kwargs)```: Equivalent to ```merge``` except that ```symbol``` has to be a ```GpySet``` instance."
   ]
  },
  {
   "cell_type": "markdown",
   "id": "0f48523d-78e0-4b95-857e-7990aaa20689",
   "metadata": {},
   "source": [
    "## ```GpyVariable```"
   ]
  },
  {
   "cell_type": "markdown",
   "id": "f8397e06-8811-4504-aa77-4c7a74843626",
   "metadata": {},
   "source": [
    "*Main attributes:*\n",
    "* ```v```: Pandas series.\n",
    "* ```lo```: Defaults to None. Used to store lower bounds variables, specified as pandas series if provided.\n",
    "* ```up```: Defaults to None. Used to store lower bounds variables, specified as pandas series if provided. \n",
    "* ```name```: Defaults to name of ```self.v```.\n",
    "* ```type == 'variable'```."
   ]
  },
  {
   "cell_type": "markdown",
   "id": "84d8f85d-ad1d-49ae-9842-7d88c6b9a1da",
   "metadata": {},
   "source": [
    "*Tests:*"
   ]
  },
  {
   "cell_type": "markdown",
   "id": "ef6c7021-4c38-4673-8c39-1203609ff001",
   "metadata": {},
   "source": [
    "Initialize as ```pd.Series```:"
   ]
  },
  {
   "cell_type": "code",
   "execution_count": 5,
   "id": "6d49edc5-33a8-4f4d-9cac-77b41bf94bb0",
   "metadata": {},
   "outputs": [],
   "source": [
    "s = pd.Series(1, index = idx, name = 'testVariable')\n",
    "GpyVarInst = GpyVariable(s) # use GpySet class directly\n",
    "GpyVarInst = Gpy.c(s) # Convenience class accepts an series --> identifies as a variable. "
   ]
  },
  {
   "cell_type": "markdown",
   "id": "f0e01473-d451-49f7-99ed-9c84ea10582d",
   "metadata": {},
   "source": [
    "Initialize with ```pd.DataFrame```: Columns \"v\", \"lo\", \"up\" specify different attributes:"
   ]
  },
  {
   "cell_type": "code",
   "execution_count": 6,
   "id": "7df65b6f-4f8d-463d-bb69-007bb833de75",
   "metadata": {},
   "outputs": [],
   "source": [
    "df = pd.DataFrame({'v': 1, 'lo': 0, 'up': 10}, index = idx)\n",
    "GpyVarInst = GpyVariable(df)"
   ]
  },
  {
   "cell_type": "markdown",
   "id": "2ee500fc-bc5a-4586-b8bd-2367ff474e6b",
   "metadata": {},
   "source": [
    "We can initialize from an instance as well; this simply creates a copy:"
   ]
  },
  {
   "cell_type": "code",
   "execution_count": 7,
   "id": "98c0e7ae-d7e8-4a9d-9315-9c9316eaab14",
   "metadata": {},
   "outputs": [],
   "source": [
    "GpyVarCopy = Gpy.c(GpyVarInst)"
   ]
  },
  {
   "cell_type": "markdown",
   "id": "12f59e9d-a8b7-4d11-ad7e-82d42e62416f",
   "metadata": {},
   "source": [
    "*Properties/methods:*\n",
    "* ```index```: Returns ```self.v.index```.\n",
    "* ```__len__```: length of ```self.v```.\n",
    "* ```domains```: returns ```self.index.names```.\n",
    "* ```merge(symbol, lo = None, up = None, priority = 'second', **kwargs)```:\n",
    "    * Merges pandas series from ```symbol``` with ```self.v```. Also uses this on ```lo```, ```up``` if these are provided.\n",
    "    * Allows ```priority = 'second','first','replace'```.\n",
    "* ```mergeGpy(symbol, priority = 'second', union = True, **kwargs)```: Equivalent to ```merge``` except that ```symbol``` has to be a ```GpyVariable``` instance."
   ]
  },
  {
   "cell_type": "markdown",
   "id": "e8ecf212-0fa4-4123-81c0-e143bddac5fe",
   "metadata": {},
   "source": [
    "## ```GpyScalar```"
   ]
  },
  {
   "cell_type": "markdown",
   "id": "ac06cb49-e6c1-4230-9a74-897c9c3936c6",
   "metadata": {},
   "source": [
    "* Main value stored at ```self.v```,\n",
    "* optinal values stored at ```self.lo``` and ```self.up```,\n",
    "* name has to be specified,\n",
    "* ```self.index``` defaults to None,\n",
    "* ```self.domans``` defaults to empty list."
   ]
  },
  {
   "cell_type": "code",
   "execution_count": 8,
   "id": "bf8711ac-264d-4513-b909-2f72593636aa",
   "metadata": {},
   "outputs": [],
   "source": [
    "GpyScalarVar = Gpy.c(1, lo = 0, up = 10, name = 'testScalrVar')"
   ]
  },
  {
   "cell_type": "markdown",
   "id": "dcd8265b-4518-4c9d-9a6f-5c4358cdb5d6",
   "metadata": {},
   "source": [
    "## ```ExcelSymbolLoader```"
   ]
  },
  {
   "cell_type": "code",
   "execution_count": 9,
   "id": "03f66180-cbf0-4373-aa4c-fe163792fcbb",
   "metadata": {},
   "outputs": [],
   "source": [
    "import os\n",
    "db = ExcelSymbolLoader(os.path.join(os.getcwd(), 'data','ReadExample.xlsx'), readme_sheet = 'README')()"
   ]
  }
 ],
 "metadata": {
  "kernelspec": {
   "display_name": "Python 3 (ipykernel)",
   "language": "python",
   "name": "python3"
  },
  "language_info": {
   "codemirror_mode": {
    "name": "ipython",
    "version": 3
   },
   "file_extension": ".py",
   "mimetype": "text/x-python",
   "name": "python",
   "nbconvert_exporter": "python",
   "pygments_lexer": "ipython3",
   "version": "3.13.5"
  }
 },
 "nbformat": 4,
 "nbformat_minor": 5
}
