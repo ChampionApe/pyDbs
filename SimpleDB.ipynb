{
 "cells": [
  {
   "cell_type": "code",
   "execution_count": 1,
   "id": "1d8457c4-9012-49b6-b685-ebb382383fd8",
   "metadata": {},
   "outputs": [],
   "source": [
    "import numpy as np, scipy, pandas as pd\n",
    "from pyDbs.__init__ import *"
   ]
  },
  {
   "cell_type": "markdown",
   "id": "6558b76f-871c-44f8-bca6-8ea9d5ba9f74",
   "metadata": {},
   "source": [
    "#  ```pyDbs.SimpleDB```"
   ]
  },
  {
   "cell_type": "markdown",
   "id": "b982b9cb-70c9-4b1c-8769-06703e1e719f",
   "metadata": {},
   "source": [
    "Database inhabited by ```Gpy``` symbols with a number of convenience functions added."
   ]
  },
  {
   "cell_type": "code",
   "execution_count": 3,
   "id": "72e6049f-2c1e-48d2-a8fa-146dc5cad4d9",
   "metadata": {},
   "outputs": [],
   "source": [
    "db = SimpleDB(name = 'testDB')"
   ]
  }
 ],
 "metadata": {
  "kernelspec": {
   "display_name": "Python 3 (ipykernel)",
   "language": "python",
   "name": "python3"
  },
  "language_info": {
   "codemirror_mode": {
    "name": "ipython",
    "version": 3
   },
   "file_extension": ".py",
   "mimetype": "text/x-python",
   "name": "python",
   "nbconvert_exporter": "python",
   "pygments_lexer": "ipython3",
   "version": "3.13.5"
  }
 },
 "nbformat": 4,
 "nbformat_minor": 5
}
