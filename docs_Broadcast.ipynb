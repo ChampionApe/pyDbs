{
 "cells": [
  {
   "cell_type": "code",
   "execution_count": 1,
   "id": "5d0a285c-fcea-4d45-98c4-d6c748df412b",
   "metadata": {},
   "outputs": [],
   "source": [
    "import numpy as np, scipy, pandas as pd\n",
    "from pyDbs.__init__ import *"
   ]
  },
  {
   "cell_type": "markdown",
   "id": "0bd0bb67-d522-40ab-bf7f-7b8a5acafbb0",
   "metadata": {},
   "source": [
    "# Documentation for ```pyDbs.Broadcast```"
   ]
  },
  {
   "cell_type": "code",
   "execution_count": 2,
   "id": "471d1ddc-0d21-4cb6-b191-c88abfdbb865",
   "metadata": {},
   "outputs": [],
   "source": [
    "pd.set_option('display.max_rows', 5)"
   ]
  },
  {
   "cell_type": "markdown",
   "id": "651c1ab1-2ef3-4eb2-8b41-c5a4828cc3f4",
   "metadata": {},
   "source": [
    "A helper class used to align the domains of two pandas objects (series, indices). All methods are implemented as ```staticmethod```. The class contains five simple methods that go through in turn here:"
   ]
  },
  {
   "cell_type": "markdown",
   "id": "e4f497af-a12c-4b82-85b6-cd05fbdee554",
   "metadata": {},
   "source": [
    "*Define some pandas series, dataframes, and indices:*"
   ]
  },
  {
   "cell_type": "code",
   "execution_count": 11,
   "id": "06a72c56-ff96-4432-8090-8017091311cc",
   "metadata": {},
   "outputs": [],
   "source": [
    "idx1 = pd.Index(range(10), name = 'a')\n",
    "idx2 = pd.Index(range(11,15), name = 'b')\n",
    "idx3 = pd.Index(range(20,24), name = 'c')\n",
    "mIdx1 = pd.MultiIndex.from_product([idx1,idx2])\n",
    "mIdx2 = pd.MultiIndex.from_arrays([idx1[0:4], idx2[0:4]])\n",
    "mIdx3 = pd.MultiIndex.from_product([idx1[3:6], idx3])\n",
    "s1 = pd.Series(range(len(idx1)), index = idx1, name = 's1')\n",
    "s2 = pd.Series(range(len(idx2[2:])), index = idx2[2:], name = 's2')\n",
    "s3 = pd.Series(range(len(mIdx1[0:20])), index = mIdx1[0:20], name = 's3')\n",
    "s4 = pd.Series(range(len(mIdx2)), index = mIdx2, name = 's4')\n",
    "df = pd.DataFrame(np.vstack([range(len(mIdx1)), range(len(mIdx1))]).T, index = mIdx1, columns = ['c1','c2'])"
   ]
  },
  {
   "cell_type": "markdown",
   "id": "18b07ea9-bbc8-4195-b8a8-bcea9a7e4f43",
   "metadata": {},
   "source": [
    "#### 1. ```Broadcast.idx(x,y, how = 'inner')```"
   ]
  },
  {
   "cell_type": "markdown",
   "id": "e4276805-63a0-4d85-a05e-e6d57ab2ef80",
   "metadata": {},
   "source": [
    "The method broadcasts two pandas indices x,y to a common domain. If domains are not overlapping, this returns the cartesian product index. If they overlap, we align domains by relying on pandas ```pd.merge``` method. Here, we allow for the ```how``` argument passed to ```pd.merge``` to be adjusted, but it will result in nan values filled in for missing values."
   ]
  },
  {
   "cell_type": "markdown",
   "id": "6d128b9b-cdca-445e-afcc-2f332ff647aa",
   "metadata": {},
   "source": [
    "**Example: Non-overlapping indices.**"
   ]
  },
  {
   "cell_type": "markdown",
   "id": "6bcfcbc9-5eda-4174-8a44-fb4e92cb68ce",
   "metadata": {},
   "source": [
    "*For non-overlapping indices this returns the cartesian product index. Note that if x[a,b] and y[c], this does not create a cartesian product of the three domains (a,b,c); we only keep combinations of (a,b) that are in x[a,b].*"
   ]
  },
  {
   "cell_type": "code",
   "execution_count": 19,
   "id": "6058c275-e167-4763-810f-a07aca3ebf37",
   "metadata": {
    "scrolled": true
   },
   "outputs": [
    {
     "data": {
      "text/plain": [
       "MultiIndex([(0, 11),\n",
       "            (0, 12),\n",
       "            (0, 13),\n",
       "            (0, 14),\n",
       "            (1, 11),\n",
       "            (1, 12),\n",
       "            (1, 13),\n",
       "            (1, 14),\n",
       "            (2, 11),\n",
       "            (2, 12),\n",
       "            (2, 13),\n",
       "            (2, 14),\n",
       "            (3, 11),\n",
       "            (3, 12),\n",
       "            (3, 13),\n",
       "            (3, 14),\n",
       "            (4, 11),\n",
       "            (4, 12),\n",
       "            (4, 13),\n",
       "            (4, 14),\n",
       "            (5, 11),\n",
       "            (5, 12),\n",
       "            (5, 13),\n",
       "            (5, 14),\n",
       "            (6, 11),\n",
       "            (6, 12),\n",
       "            (6, 13),\n",
       "            (6, 14),\n",
       "            (7, 11),\n",
       "            (7, 12),\n",
       "            (7, 13),\n",
       "            (7, 14),\n",
       "            (8, 11),\n",
       "            (8, 12),\n",
       "            (8, 13),\n",
       "            (8, 14),\n",
       "            (9, 11),\n",
       "            (9, 12),\n",
       "            (9, 13),\n",
       "            (9, 14)],\n",
       "           names=['a', 'b'])"
      ]
     },
     "execution_count": 19,
     "metadata": {},
     "output_type": "execute_result"
    }
   ],
   "source": [
    "Broadcast.idx(idx1, idx2)"
   ]
  },
  {
   "cell_type": "markdown",
   "id": "18ca38e3-a25a-408f-ad5a-e60ea586edc6",
   "metadata": {},
   "source": [
    "**Example: Partial overlap**"
   ]
  },
  {
   "cell_type": "markdown",
   "id": "0f7cd6f2-b0cf-417c-b6e0-ae114bcce8b8",
   "metadata": {},
   "source": [
    "In the following example, mIdx1[a,b] overlaps with mIdx3[a,c] in the domain $a$. When we merge on ```how='inner'```, this identifies all elements in $a$ that are in both and keep them. For the non-overlapping part, this keeps all elements in $b$ in mIdx1[a,b] that enters *for the relevant elements of $a$.* "
   ]
  },
  {
   "cell_type": "code",
   "execution_count": 18,
   "id": "aaacf35c-b5f7-485b-97f5-64b6853910a2",
   "metadata": {
    "scrolled": true
   },
   "outputs": [
    {
     "data": {
      "text/plain": [
       "MultiIndex([(3, 11, 20),\n",
       "            (3, 11, 21),\n",
       "            (3, 11, 22),\n",
       "            (3, 11, 23),\n",
       "            (3, 12, 20),\n",
       "            (3, 12, 21),\n",
       "            (3, 12, 22),\n",
       "            (3, 12, 23),\n",
       "            (3, 13, 20),\n",
       "            (3, 13, 21),\n",
       "            (3, 13, 22),\n",
       "            (3, 13, 23),\n",
       "            (3, 14, 20),\n",
       "            (3, 14, 21),\n",
       "            (3, 14, 22),\n",
       "            (3, 14, 23),\n",
       "            (4, 11, 20),\n",
       "            (4, 11, 21),\n",
       "            (4, 11, 22),\n",
       "            (4, 11, 23),\n",
       "            (4, 12, 20),\n",
       "            (4, 12, 21),\n",
       "            (4, 12, 22),\n",
       "            (4, 12, 23),\n",
       "            (4, 13, 20),\n",
       "            (4, 13, 21),\n",
       "            (4, 13, 22),\n",
       "            (4, 13, 23),\n",
       "            (4, 14, 20),\n",
       "            (4, 14, 21),\n",
       "            (4, 14, 22),\n",
       "            (4, 14, 23),\n",
       "            (5, 11, 20),\n",
       "            (5, 11, 21),\n",
       "            (5, 11, 22),\n",
       "            (5, 11, 23),\n",
       "            (5, 12, 20),\n",
       "            (5, 12, 21),\n",
       "            (5, 12, 22),\n",
       "            (5, 12, 23),\n",
       "            (5, 13, 20),\n",
       "            (5, 13, 21),\n",
       "            (5, 13, 22),\n",
       "            (5, 13, 23),\n",
       "            (5, 14, 20),\n",
       "            (5, 14, 21),\n",
       "            (5, 14, 22),\n",
       "            (5, 14, 23)],\n",
       "           names=['a', 'b', 'c'])"
      ]
     },
     "execution_count": 18,
     "metadata": {},
     "output_type": "execute_result"
    }
   ],
   "source": [
    "Broadcast.idx(mIdx1, mIdx3) # only show the first 5 entries."
   ]
  },
  {
   "cell_type": "markdown",
   "id": "bffe1d17-3d4f-4e68-b795-a3d4053cc17e",
   "metadata": {},
   "source": [
    "*Note* Using ```how = 'inner'``` to merge indices with overlapping domains, we will not necessarily keep the full domains from x,y - only if the shared index levels match 100%."
   ]
  },
  {
   "cell_type": "markdown",
   "id": "77dfc5c8-fc8f-4a71-917d-0ab96b7afc4e",
   "metadata": {},
   "source": [
    "#### 2. ```Broadcast.seriesToIdx(series, idx, fIdx = False, how = 'inner')```"
   ]
  },
  {
   "cell_type": "markdown",
   "id": "860a58ec-89e0-400e-bd6c-3812d8954d14",
   "metadata": {},
   "source": [
    "Broadcast a pd.Series ('series') to align with pd.Index ('idx').\n",
    "Values from `series` are repeated across the new dimensions as appropriate (i.e., Cartesian expansion along dimensions that series doesn't have). If dimensions in series does not overlap with idx, broadcast to cartesian product of the two. If 'fIdx' is True, we assume that the index 'idx' has already been broadcasted to suitable domains.\n",
    "\n",
    "\tParameters\n",
    "\t----------\n",
    "\tseries : pd.Series \n",
    "\tidx : pd.MultiIndex (or Index)\n",
    "\tfIdx: bool. \n",
    "\tReturns\n",
    "\t----------\n",
    "\tbroadcasted_series : pd.Series "
   ]
  },
  {
   "cell_type": "markdown",
   "id": "8c8fea02-1937-4a1c-b02e-52fa4d8ccdfe",
   "metadata": {},
   "source": [
    "The ```Broadcast.seriesToIdx``` follows the logic of the ```Broadcast.idx``` method; it defines the full new index by broadcasting logic from the ```Broadcast.idx``` method and uses values from the 'series' in this new object:"
   ]
  },
  {
   "cell_type": "markdown",
   "id": "05aa5470-f326-4e90-8886-f01a3efb68a0",
   "metadata": {},
   "source": [
    "**Example: No overlap**"
   ]
  },
  {
   "cell_type": "code",
   "execution_count": 28,
   "id": "b0fd99a9-b727-4b9c-8fa5-c51dc47e6e88",
   "metadata": {},
   "outputs": [
    {
     "data": {
      "text/plain": [
       "b   a  c \n",
       "13  3  20    0\n",
       "       21    0\n",
       "            ..\n",
       "14  5  22    1\n",
       "       23    1\n",
       "Name: s2, Length: 24, dtype: int64"
      ]
     },
     "execution_count": 28,
     "metadata": {},
     "output_type": "execute_result"
    }
   ],
   "source": [
    "Broadcast.seriesToIdx(s2, mIdx3) # broadcasts s2[b] to [a,c] domains from mIdx3. As they do not overlap, this uses the cartesian product expansion"
   ]
  },
  {
   "cell_type": "markdown",
   "id": "3359d3f3-4927-4568-a832-fc5dab6565c4",
   "metadata": {},
   "source": [
    "Equivalent result using the ```fIdx``` argument:"
   ]
  },
  {
   "cell_type": "code",
   "execution_count": 29,
   "id": "ad37e30f-0f4d-4a9a-b8cd-e631d66f761d",
   "metadata": {},
   "outputs": [
    {
     "data": {
      "text/plain": [
       "b   a  c \n",
       "13  3  20    0\n",
       "       21    0\n",
       "            ..\n",
       "14  5  22    1\n",
       "       23    1\n",
       "Name: s2, Length: 24, dtype: int64"
      ]
     },
     "execution_count": 29,
     "metadata": {},
     "output_type": "execute_result"
    }
   ],
   "source": [
    "fIdx = Broadcast.idx(s2.index, mIdx3) \n",
    "Broadcast.seriesToIdx(s2, fIdx, fIdx = True) # equivalent approach"
   ]
  },
  {
   "cell_type": "markdown",
   "id": "ace65b39-5d2c-4522-915e-f3adafc2d94b",
   "metadata": {},
   "source": [
    "**Example: Partial overlap**"
   ]
  },
  {
   "cell_type": "code",
   "execution_count": 31,
   "id": "0d3d02e4-8314-4af9-99b7-3c718ae0dbd6",
   "metadata": {},
   "outputs": [
    {
     "data": {
      "text/plain": [
       "a  b   c \n",
       "3  11  20    12\n",
       "       21    12\n",
       "             ..\n",
       "4  14  22    19\n",
       "       23    19\n",
       "Name: s3, Length: 32, dtype: int64"
      ]
     },
     "execution_count": 31,
     "metadata": {},
     "output_type": "execute_result"
    }
   ],
   "source": [
    "Broadcast.seriesToIdx(s3, mIdx3)"
   ]
  },
  {
   "cell_type": "markdown",
   "id": "25ea27c7-2bbb-41e9-b49e-947c13fdfa02",
   "metadata": {},
   "source": [
    "#### 3. ```Broadcast.series(x,y, how = 'inner')```"
   ]
  },
  {
   "cell_type": "markdown",
   "id": "5d8ec9e9-cfb3-4bca-843d-0793b06d6ed9",
   "metadata": {},
   "source": [
    "This follows the logic of ```Broadcast.idx``` as well, but deals with two pd.Series instances ('x','y'): we start by broadcasting the series' indices to a common index, then apply the ```Broadcast.seriesToIdx``` for both x,y. The method returns both x and y broadcasted to the common index."
   ]
  },
  {
   "cell_type": "markdown",
   "id": "2fcf6ae9-83c3-4508-a60c-263bcca25e24",
   "metadata": {},
   "source": [
    "**Example: Non-overlapping domains**"
   ]
  },
  {
   "cell_type": "code",
   "execution_count": 36,
   "id": "23d29800-09cb-45e6-9f2d-275de08d2a9d",
   "metadata": {},
   "outputs": [
    {
     "data": {
      "text/html": [
       "<div>\n",
       "<style scoped>\n",
       "    .dataframe tbody tr th:only-of-type {\n",
       "        vertical-align: middle;\n",
       "    }\n",
       "\n",
       "    .dataframe tbody tr th {\n",
       "        vertical-align: top;\n",
       "    }\n",
       "\n",
       "    .dataframe thead th {\n",
       "        text-align: right;\n",
       "    }\n",
       "</style>\n",
       "<table border=\"1\" class=\"dataframe\">\n",
       "  <thead>\n",
       "    <tr style=\"text-align: right;\">\n",
       "      <th></th>\n",
       "      <th></th>\n",
       "      <th>s1</th>\n",
       "      <th>s2</th>\n",
       "    </tr>\n",
       "    <tr>\n",
       "      <th>a</th>\n",
       "      <th>b</th>\n",
       "      <th></th>\n",
       "      <th></th>\n",
       "    </tr>\n",
       "  </thead>\n",
       "  <tbody>\n",
       "    <tr>\n",
       "      <th rowspan=\"2\" valign=\"top\">0</th>\n",
       "      <th>13</th>\n",
       "      <td>0</td>\n",
       "      <td>0</td>\n",
       "    </tr>\n",
       "    <tr>\n",
       "      <th>14</th>\n",
       "      <td>0</td>\n",
       "      <td>1</td>\n",
       "    </tr>\n",
       "    <tr>\n",
       "      <th>...</th>\n",
       "      <th>...</th>\n",
       "      <td>...</td>\n",
       "      <td>...</td>\n",
       "    </tr>\n",
       "    <tr>\n",
       "      <th rowspan=\"2\" valign=\"top\">9</th>\n",
       "      <th>13</th>\n",
       "      <td>9</td>\n",
       "      <td>0</td>\n",
       "    </tr>\n",
       "    <tr>\n",
       "      <th>14</th>\n",
       "      <td>9</td>\n",
       "      <td>1</td>\n",
       "    </tr>\n",
       "  </tbody>\n",
       "</table>\n",
       "<p>20 rows × 2 columns</p>\n",
       "</div>"
      ],
      "text/plain": [
       "      s1  s2\n",
       "a b         \n",
       "0 13   0   0\n",
       "  14   0   1\n",
       "...   ..  ..\n",
       "9 13   9   0\n",
       "  14   9   1\n",
       "\n",
       "[20 rows x 2 columns]"
      ]
     },
     "execution_count": 36,
     "metadata": {},
     "output_type": "execute_result"
    }
   ],
   "source": [
    "broadcasted_x, broadcasted_y = Broadcast.series(s1, s2)\n",
    "pd.concat([broadcasted_x,broadcasted_y], axis =1) # print broadcasted series together"
   ]
  },
  {
   "cell_type": "markdown",
   "id": "3985cddf-cced-4650-ae7d-70241c1dc10a",
   "metadata": {},
   "source": [
    "**Example: Overlapping domains**"
   ]
  },
  {
   "cell_type": "code",
   "execution_count": 42,
   "id": "c650e776-9661-4ab4-8d7d-4366e026beae",
   "metadata": {},
   "outputs": [
    {
     "data": {
      "text/html": [
       "<div>\n",
       "<style scoped>\n",
       "    .dataframe tbody tr th:only-of-type {\n",
       "        vertical-align: middle;\n",
       "    }\n",
       "\n",
       "    .dataframe tbody tr th {\n",
       "        vertical-align: top;\n",
       "    }\n",
       "\n",
       "    .dataframe thead th {\n",
       "        text-align: right;\n",
       "    }\n",
       "</style>\n",
       "<table border=\"1\" class=\"dataframe\">\n",
       "  <thead>\n",
       "    <tr style=\"text-align: right;\">\n",
       "      <th></th>\n",
       "      <th></th>\n",
       "      <th>s1</th>\n",
       "      <th>s3</th>\n",
       "    </tr>\n",
       "    <tr>\n",
       "      <th>a</th>\n",
       "      <th>b</th>\n",
       "      <th></th>\n",
       "      <th></th>\n",
       "    </tr>\n",
       "  </thead>\n",
       "  <tbody>\n",
       "    <tr>\n",
       "      <th rowspan=\"2\" valign=\"top\">0</th>\n",
       "      <th>11</th>\n",
       "      <td>0</td>\n",
       "      <td>0</td>\n",
       "    </tr>\n",
       "    <tr>\n",
       "      <th>12</th>\n",
       "      <td>0</td>\n",
       "      <td>1</td>\n",
       "    </tr>\n",
       "    <tr>\n",
       "      <th>...</th>\n",
       "      <th>...</th>\n",
       "      <td>...</td>\n",
       "      <td>...</td>\n",
       "    </tr>\n",
       "    <tr>\n",
       "      <th rowspan=\"2\" valign=\"top\">4</th>\n",
       "      <th>13</th>\n",
       "      <td>4</td>\n",
       "      <td>18</td>\n",
       "    </tr>\n",
       "    <tr>\n",
       "      <th>14</th>\n",
       "      <td>4</td>\n",
       "      <td>19</td>\n",
       "    </tr>\n",
       "  </tbody>\n",
       "</table>\n",
       "<p>20 rows × 2 columns</p>\n",
       "</div>"
      ],
      "text/plain": [
       "      s1  s3\n",
       "a b         \n",
       "0 11   0   0\n",
       "  12   0   1\n",
       "...   ..  ..\n",
       "4 13   4  18\n",
       "  14   4  19\n",
       "\n",
       "[20 rows x 2 columns]"
      ]
     },
     "execution_count": 42,
     "metadata": {},
     "output_type": "execute_result"
    }
   ],
   "source": [
    "broadcasted_x, broadcasted_y = Broadcast.series(s1,s3)\n",
    "pd.concat([broadcasted_x,broadcasted_y], axis =1) # print broadcasted series together"
   ]
  },
  {
   "cell_type": "markdown",
   "id": "706d90e5-c2d4-4408-88bf-35d48517e761",
   "metadata": {},
   "source": [
    "#### 4. ```Broadcast.valuesToIdx(values, idx, fIdx = False, how = 'inner')```"
   ]
  },
  {
   "cell_type": "markdown",
   "id": "39e2118d-9455-4954-a3b2-88185979b036",
   "metadata": {},
   "source": [
    "Identical to ```Broadcast.seriesToIdx```, except it allows for a scalar to be used added:\n",
    "* If ```isinstance(values, pd.Series)``` --> use ```Broadcast.seriesToIdx```.\n",
    "* If values is a scalar  --> return ```pd.Series(values, index = idx)```"
   ]
  },
  {
   "cell_type": "markdown",
   "id": "b6ecf5a9-e5d0-46ec-b022-def2aa9ffc65",
   "metadata": {},
   "source": [
    "#### 5. ```Broadcast.values(x, y, how = 'inner')```"
   ]
  },
  {
   "cell_type": "markdown",
   "id": "fa387648-403b-43d3-82f1-919eeab8b1bf",
   "metadata": {},
   "source": [
    "Identical to ```Broadcast.series```, except it allows for x,y to be pandas series or scalars."
   ]
  }
 ],
 "metadata": {
  "kernelspec": {
   "display_name": "Python 3 (ipykernel)",
   "language": "python",
   "name": "python3"
  },
  "language_info": {
   "codemirror_mode": {
    "name": "ipython",
    "version": 3
   },
   "file_extension": ".py",
   "mimetype": "text/x-python",
   "name": "python",
   "nbconvert_exporter": "python",
   "pygments_lexer": "ipython3",
   "version": "3.13.5"
  }
 },
 "nbformat": 4,
 "nbformat_minor": 5
}
